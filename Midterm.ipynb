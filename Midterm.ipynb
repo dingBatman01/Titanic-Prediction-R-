{
    "cells": [
        {
            "cell_type": "markdown",
            "metadata": {},
            "source": "\n"
        },
        {
            "cell_type": "code",
            "execution_count": null,
            "metadata": {},
            "outputs": [],
            "source": [
                "knitr::opts_chunk$set(echo = TRUE)\n",
                "\n"
            ]
        },
        {
            "cell_type": "markdown",
            "metadata": {},
            "source": [
                "# Titanic Survivors Prediction using R\n",
                "\n",
                "## Introduction\n",
                "As a **beginner** of ML and DL, I tried to find a very basic project that you can do.  \n",
                "I came across the \"Titanic - Machine Learning from Disaster\" competition from Kaggle.  \n",
                "Since I do not have any experience with Python, I decided to use R to predict the survivors using R.  \n",
                "Therefore, Titanic Survival Prediction Using R begins.  \n",
                "\n",
                "## Steps\n",
                "1. Imported train & test data sets\n",
                "\n",
                "2. Merge two data sets and clean them up  \n",
                "(ex. dealing with missing values)\n",
                "\n",
                "3. Split the data to begin building a model  \n",
                "\n",
                "4. (Cross Validation or some sort of a estimation, but I didn't do this part)\n",
                "\n",
                "5. Build a model\n",
                "\n",
                "6. Run the model using test data set\n",
                "\n",
                "\n",
                "## References\n",
                "https://www.kaggle.com/redhorse93/r-titanic-data/report  \n",
                "https://www.youtube.com/watch?v=Zx2TguRHrJ  \n",
                "  \n",
                "  \n",
                "***\n",
                "***\n",
                "\n",
                "### First, let's bring the packages that I need\n"
            ]
        },
        {
            "cell_type": "code",
            "execution_count": null,
            "metadata": {},
            "outputs": [],
            "source": [
                "library(dplyr) #for data pre-processing \n",
                "library(VIM) #for visualzing missing values \n",
                "library(randomForest) #for modeling\n"
            ]
        },
        {
            "cell_type": "markdown",
            "metadata": {},
            "source": [
                "\n",
                "### Import Raw Data\n"
            ]
        },
        {
            "cell_type": "code",
            "execution_count": null,
            "metadata": {},
            "outputs": [],
            "source": [
                "t_train <- readr::read_csv(\"train.csv\") \n",
                "t_test <- readr::read_csv(\"test.csv\")\n",
                "names(t_train)\n",
                "names(t_test)\n"
            ]
        },
        {
            "cell_type": "markdown",
            "metadata": {},
            "source": [
                "Since \"test.csv\" file is the test set that we need to test our model with, it does not have \"Survived\" column.   \n",
                "Anyway, I want to combine these two sets and make sure if the data sets have any missing values, or I need to do any data pre-processing.\n",
                "\n",
                "\n",
                "### Combining Two Data Sets\n"
            ]
        },
        {
            "cell_type": "code",
            "execution_count": null,
            "metadata": {},
            "outputs": [],
            "source": [
                "t_full <- dplyr::bind_rows(t_train, t_test)\n",
                "\n"
            ]
        },
        {
            "cell_type": "markdown",
            "metadata": {},
            "source": [
                "(I was originally using \"rbind()\" function, but one of the references that I checked says \"dplyr::bind_rows()\" allows you not to worry about dimensions of the two data sets.  \n",
                "Therefore, I didn't need to make \"Survived\" column in the test set and fill the column with \"NA's\".  \n",
                "It automatically does it for me.)\n",
                "\n",
                "\n",
                "### Chaning Character Variables to Factor Variables\n"
            ]
        },
        {
            "cell_type": "code",
            "execution_count": null,
            "metadata": {},
            "outputs": [],
            "source": [
                "str(t_full)\n",
                "summary(t_full)\n",
                "t_full <- t_full %>% \n",
                "            mutate(Survived = factor(Survived),\n",
                "                   Pclass = factor(Pclass, ordered = T),\n",
                "                   Name = factor(Name),\n",
                "                   Sex = factor(Sex),\n",
                "                   Cabin = factor(Cabin),\n",
                "                   Embarked = factor(Embarked))\n",
                "str(t_full)\n",
                "summary(t_full)\n"
            ]
        },
        {
            "cell_type": "markdown",
            "metadata": {},
            "source": [
                "In order to run codes, I need to change character variables to factor variables.\n",
                "\n",
                "\n",
                "### Checking for Missing Values using VIM package\n"
            ]
        },
        {
            "cell_type": "code",
            "execution_count": null,
            "metadata": {},
            "outputs": [],
            "source": [
                "VIM::aggr(t_full, prop = FALSE, combined = TRUE, numbers = TRUE,\n",
                "          sortVars = TRUE, sortCombs = TRUE)\n"
            ]
        },
        {
            "cell_type": "markdown",
            "metadata": {},
            "source": [
                "(Didn't know about this package until one of the references that I stated had it.  \n",
                "My original way of finding the missing values was using just \"summary()\" and \"table(is.na())\" function to see if certain columns have missing values, and use \"which()\" function to find the missing values and replace them with medians of each column.  \n",
                "Those are actually my next steps, but I wanted to have some sort of visual indicator to find missing values easy.)\n",
                "\n",
                "\n",
                "### Substituting Mode and Median Values to NA's\n"
            ]
        },
        {
            "cell_type": "code",
            "execution_count": null,
            "metadata": {},
            "outputs": [],
            "source": [
                "summary(t_full$Embarked)\n",
                "t_full$Embarked <- replace(t_full$Embarked,\n",
                "                           which(is.na(t_full$Embarked)),\n",
                "                           \"S\")\n",
                "summary(t_full$Embarked)\n",
                "\n",
                "table(is.na(t_full$Age))\n",
                "age.median <- median(t_full$Age, na.rm = T)\n",
                "t_full[is.na(t_full$Age), \"Age\"] <- age.median\n",
                "table(is.na(t_full$Age))\n",
                "\n",
                "\n",
                "table(is.na(t_full$Fare))\n",
                "fare.median <- median(t_full$Fare, na.rm = T)\n",
                "t_full[is.na(t_full$Fare), \"Fare\"] <- fare.median\n",
                "table(is.na(t_full$Fare))\n"
            ]
        },
        {
            "cell_type": "markdown",
            "metadata": {},
            "source": [
                "For my model, I need to make sure that all variables(that I'm going to use) have no NA's.  \n",
                "I'm sure there are much better way to replace NA's especially for \"Age\" variable.  \n",
                "But I decided to substitute everything with median values(for \"Embarked\" variable, mode).\n",
                "\n",
                "\n",
                "### Spliting the Full Data Set to Two Data Sets\n"
            ]
        },
        {
            "cell_type": "code",
            "execution_count": null,
            "metadata": {},
            "outputs": [],
            "source": [
                "t_train <- t_full[1:891, ]\n",
                "t_test <- t_full[892:1309, ]\n",
                "t_train$Survived\n",
                "t_test$Survived\n"
            ]
        },
        {
            "cell_type": "markdown",
            "metadata": {},
            "source": [
                "Since I replaced all NA's that needed to be replaced, I split the full data set back to it's original forms: one train set and one test set.  \n",
                "Now using the train set, I'm going to build a simple randomForest model and run the test data using the model.\n",
                "\n",
                "\n",
                "### Building a Predictive Model\n"
            ]
        },
        {
            "cell_type": "code",
            "execution_count": null,
            "metadata": {},
            "outputs": [],
            "source": [
                "eqtn <- \"Survived ~ Pclass + Sex + Age + SibSp + Parch + Fare + Embarked\"\n",
                "formula <- as.formula(eqtn)\n",
                "\n",
                "t_model <- randomForest(formula, t_train, ntree = 500, mtry = 2.64575, nodesize = 0.01 * nrow(t_train))\n"
            ]
        },
        {
            "cell_type": "markdown",
            "metadata": {},
            "source": [
                "I should do the cross-validation here, but it takes me a very long time to figure things out on Kaggle, Google, and YouTube.  \n",
                "Like I said, I'm a beginner, and a lot of things just fly over my head, so I just wanted to skip that part and move on to running predicting test data using this model.\n",
                "\n",
                "### Final Result\n"
            ]
        },
        {
            "cell_type": "code",
            "execution_count": null,
            "metadata": {},
            "outputs": [],
            "source": [
                "features_eqtn <- \"Pclass + Sex + Age + SibSp + Parch + Fare + Embarked\"\n",
                "Survived <- predict(t_model, newdata = t_test)\n",
                "\n",
                "PassengerId <- t_test$PassengerId\n",
                "final_df <- as.data.frame(PassengerId)\n",
                "final_df$Survived <- Survived\n",
                "\n",
                "final_df\n"
            ]
        },
        {
            "cell_type": "markdown",
            "metadata": {},
            "source": [
                "\n",
                "\n"
            ]
        }
    ],
    "metadata": {
        "anaconda-cloud": "",
        "kernelspec": {
            "display_name": "R",
            "langauge": "R",
            "name": "ir"
        },
        "language_info": {
            "codemirror_mode": "r",
            "file_extension": ".r",
            "mimetype": "text/x-r-source",
            "name": "R",
            "pygments_lexer": "r",
            "version": "3.4.1"
        }
    },
    "nbformat": 4,
    "nbformat_minor": 1
}
