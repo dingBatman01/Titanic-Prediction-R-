{
  "nbformat": 4,
  "nbformat_minor": 0,
  "metadata": {
    "colab": {
      "name": "Titanic Prediction.ipynb",
      "provenance": [],
      "collapsed_sections": [],
      "authorship_tag": "ABX9TyPAQ+AHUL48SBhsUTit+tpS",
      "include_colab_link": true
    },
    "kernelspec": {
      "display_name": "R",
      "name": "ir"
    },
    "language_info": {
      "name": "R"
    },
    "accelerator": "GPU"
  },
  "cells": [
    {
      "cell_type": "markdown",
      "metadata": {
        "id": "view-in-github",
        "colab_type": "text"
      },
      "source": [
        "<a href=\"https://colab.research.google.com/github/dingBatman01/titanic_r/blob/main/Titanic_Prediction.ipynb\" target=\"_parent\"><img src=\"https://colab.research.google.com/assets/colab-badge.svg\" alt=\"Open In Colab\"/></a>"
      ]
    },
    {
      "cell_type": "code",
      "metadata": {
        "colab": {
          "base_uri": "https://localhost:8080/"
        },
        "id": "1FtmajBkogxr",
        "outputId": "f1489068-8006-429c-d181-53eb2edbd370"
      },
      "source": [
        "install.packages(c(\"dplyr\", \"randomForest\", \"BiocManager\"))"
      ],
      "execution_count": 13,
      "outputs": [
        {
          "output_type": "stream",
          "text": [
            "Installing packages into ‘/usr/local/lib/R/site-library’\n",
            "(as ‘lib’ is unspecified)\n",
            "\n"
          ],
          "name": "stderr"
        }
      ]
    },
    {
      "cell_type": "code",
      "metadata": {
        "id": "TlqlIJH9_Qkh"
      },
      "source": [
        "library(BiocManager)"
      ],
      "execution_count": 33,
      "outputs": []
    },
    {
      "cell_type": "code",
      "metadata": {
        "colab": {
          "base_uri": "https://localhost:8080/"
        },
        "id": "CI5XlXFwWUiO",
        "outputId": "3ebdba42-b7c9-4189-bdc8-52025cc9b7ca"
      },
      "source": [
        "required_packages <- c(\n",
        "  'VIM'   \n",
        ")\n",
        "\n",
        "missing_packages <- required_packages[!required_packages %in% rownames(installed.packages())]\n",
        "if (length(missing_packages) > 0){\n",
        "    BiocManager::install(missing_packages)\n",
        "}"
      ],
      "execution_count": 34,
      "outputs": [
        {
          "output_type": "stream",
          "text": [
            "'getOption(\"repos\")' replaces Bioconductor standard repositories, see\n",
            "'?repositories' for details\n",
            "\n",
            "replacement repositories:\n",
            "    CRAN: https://cran.rstudio.com\n",
            "\n",
            "\n",
            "Bioconductor version 3.12 (BiocManager 1.30.12), R 4.0.5 (2021-03-31)\n",
            "\n",
            "Installing package(s) 'VIM'\n",
            "\n",
            "also installing the dependencies ‘openxlsx’, ‘rio’, ‘car’, ‘data.table’\n",
            "\n",
            "\n",
            "Warning message in install.packages(...):\n",
            "“installation of package ‘openxlsx’ had non-zero exit status”\n",
            "Warning message in install.packages(...):\n",
            "“installation of package ‘data.table’ had non-zero exit status”\n",
            "Warning message in install.packages(...):\n",
            "“installation of package ‘rio’ had non-zero exit status”\n",
            "Warning message in install.packages(...):\n",
            "“installation of package ‘car’ had non-zero exit status”\n",
            "Warning message in install.packages(...):\n",
            "“installation of package ‘VIM’ had non-zero exit status”\n",
            "Old packages: 'dbplyr', 'devtools', 'DT', 'haven', 'knitr', 'pillar',\n",
            "  'pkgload', 'viridisLite'\n",
            "\n"
          ],
          "name": "stderr"
        }
      ]
    },
    {
      "cell_type": "code",
      "metadata": {
        "colab": {
          "base_uri": "https://localhost:8080/",
          "height": 128
        },
        "id": "NcN7XT11WNZB",
        "outputId": "da441f66-2940-4720-9e6d-d34845e86d87"
      },
      "source": [
        "library(dplyr)\n",
        "library(randomForest)\n",
        "library(VIM)"
      ],
      "execution_count": 16,
      "outputs": [
        {
          "output_type": "error",
          "ename": "ERROR",
          "evalue": "ignored",
          "traceback": [
            "Error in library(VIM): there is no package called ‘VIM’\nTraceback:\n",
            "1. library(VIM)"
          ]
        }
      ]
    },
    {
      "cell_type": "code",
      "metadata": {
        "colab": {
          "base_uri": "https://localhost:8080/"
        },
        "id": "-TKE0q5SASom",
        "outputId": "ee81d78a-bbbf-4e83-c979-07d4ddbf4292"
      },
      "source": [
        "system(\"gdown -- 1t9JgW1S0JdBhDMo1Zv3BUyX1LEYnoMzN\")\n",
        "t_test <- readr::read_csv(\"test.csv\")"
      ],
      "execution_count": 25,
      "outputs": [
        {
          "output_type": "stream",
          "text": [
            "\n",
            "\u001b[36m──\u001b[39m \u001b[1m\u001b[1mColumn specification\u001b[1m\u001b[22m \u001b[36m────────────────────────────────────────────────────────\u001b[39m\n",
            "cols(\n",
            "  PassengerId = \u001b[32mcol_double()\u001b[39m,\n",
            "  Pclass = \u001b[32mcol_double()\u001b[39m,\n",
            "  Name = \u001b[31mcol_character()\u001b[39m,\n",
            "  Sex = \u001b[31mcol_character()\u001b[39m,\n",
            "  Age = \u001b[32mcol_double()\u001b[39m,\n",
            "  SibSp = \u001b[32mcol_double()\u001b[39m,\n",
            "  Parch = \u001b[32mcol_double()\u001b[39m,\n",
            "  Ticket = \u001b[31mcol_character()\u001b[39m,\n",
            "  Fare = \u001b[32mcol_double()\u001b[39m,\n",
            "  Cabin = \u001b[31mcol_character()\u001b[39m,\n",
            "  Embarked = \u001b[31mcol_character()\u001b[39m\n",
            ")\n",
            "\n",
            "\n"
          ],
          "name": "stderr"
        }
      ]
    },
    {
      "cell_type": "code",
      "metadata": {
        "id": "Ne63U2OyBzoC"
      },
      "source": [
        "system(\"gdown -- 1biF9EdLAbMBT-j22PiGQoy-E_G0WDUSw\")\n",
        "t_train <- readr::read_csv(\"train.csv\")"
      ],
      "execution_count": 19,
      "outputs": []
    },
    {
      "cell_type": "code",
      "metadata": {
        "id": "yrxy92nmWnRo",
        "colab": {
          "base_uri": "https://localhost:8080/",
          "height": 1000
        },
        "outputId": "2c534240-a52d-416e-d3f1-8d8ac250b409"
      },
      "source": [
        "names(t_test)\n",
        "names(t_train)\n",
        "\n",
        "# Combining train and test sets\n",
        "t_full <- dplyr::bind_rows(t_train, t_test)\n",
        "summary(t_full)\n",
        "\n",
        "\n",
        "# Changing some variables into factors and checking for NA \n",
        "str(t_full)\n",
        "summary(t_full)\n",
        "t_full <- t_full %>% \n",
        "            mutate(Survived = factor(Survived),\n",
        "                   Pclass = factor(Pclass, ordered = T),\n",
        "                   Name = factor(Name),\n",
        "                   Sex = factor(Sex),\n",
        "                   Cabin = factor(Cabin),\n",
        "                   Embarked = factor(Embarked))\n",
        "str(t_full)\n",
        "summary(t_full)"
      ],
      "execution_count": 30,
      "outputs": [
        {
          "output_type": "display_data",
          "data": {
            "text/plain": [
              " [1] \"PassengerId\" \"Pclass\"      \"Name\"        \"Sex\"         \"Age\"        \n",
              " [6] \"SibSp\"       \"Parch\"       \"Ticket\"      \"Fare\"        \"Cabin\"      \n",
              "[11] \"Embarked\"   "
            ],
            "text/latex": "\\begin{enumerate*}\n\\item 'PassengerId'\n\\item 'Pclass'\n\\item 'Name'\n\\item 'Sex'\n\\item 'Age'\n\\item 'SibSp'\n\\item 'Parch'\n\\item 'Ticket'\n\\item 'Fare'\n\\item 'Cabin'\n\\item 'Embarked'\n\\end{enumerate*}\n",
            "text/markdown": "1. 'PassengerId'\n2. 'Pclass'\n3. 'Name'\n4. 'Sex'\n5. 'Age'\n6. 'SibSp'\n7. 'Parch'\n8. 'Ticket'\n9. 'Fare'\n10. 'Cabin'\n11. 'Embarked'\n\n\n",
            "text/html": [
              "<style>\n",
              ".list-inline {list-style: none; margin:0; padding: 0}\n",
              ".list-inline>li {display: inline-block}\n",
              ".list-inline>li:not(:last-child)::after {content: \"\\00b7\"; padding: 0 .5ex}\n",
              "</style>\n",
              "<ol class=list-inline><li>'PassengerId'</li><li>'Pclass'</li><li>'Name'</li><li>'Sex'</li><li>'Age'</li><li>'SibSp'</li><li>'Parch'</li><li>'Ticket'</li><li>'Fare'</li><li>'Cabin'</li><li>'Embarked'</li></ol>\n"
            ]
          },
          "metadata": {
            "tags": []
          }
        },
        {
          "output_type": "display_data",
          "data": {
            "text/plain": [
              " [1] \"PassengerId\" \"Survived\"    \"Pclass\"      \"Name\"        \"Sex\"        \n",
              " [6] \"Age\"         \"SibSp\"       \"Parch\"       \"Ticket\"      \"Fare\"       \n",
              "[11] \"Cabin\"       \"Embarked\"   "
            ],
            "text/latex": "\\begin{enumerate*}\n\\item 'PassengerId'\n\\item 'Survived'\n\\item 'Pclass'\n\\item 'Name'\n\\item 'Sex'\n\\item 'Age'\n\\item 'SibSp'\n\\item 'Parch'\n\\item 'Ticket'\n\\item 'Fare'\n\\item 'Cabin'\n\\item 'Embarked'\n\\end{enumerate*}\n",
            "text/markdown": "1. 'PassengerId'\n2. 'Survived'\n3. 'Pclass'\n4. 'Name'\n5. 'Sex'\n6. 'Age'\n7. 'SibSp'\n8. 'Parch'\n9. 'Ticket'\n10. 'Fare'\n11. 'Cabin'\n12. 'Embarked'\n\n\n",
            "text/html": [
              "<style>\n",
              ".list-inline {list-style: none; margin:0; padding: 0}\n",
              ".list-inline>li {display: inline-block}\n",
              ".list-inline>li:not(:last-child)::after {content: \"\\00b7\"; padding: 0 .5ex}\n",
              "</style>\n",
              "<ol class=list-inline><li>'PassengerId'</li><li>'Survived'</li><li>'Pclass'</li><li>'Name'</li><li>'Sex'</li><li>'Age'</li><li>'SibSp'</li><li>'Parch'</li><li>'Ticket'</li><li>'Fare'</li><li>'Cabin'</li><li>'Embarked'</li></ol>\n"
            ]
          },
          "metadata": {
            "tags": []
          }
        },
        {
          "output_type": "display_data",
          "data": {
            "text/plain": [
              "  PassengerId      Survived          Pclass          Name          \n",
              " Min.   :   1   Min.   :0.0000   Min.   :1.000   Length:1309       \n",
              " 1st Qu.: 328   1st Qu.:0.0000   1st Qu.:2.000   Class :character  \n",
              " Median : 655   Median :0.0000   Median :3.000   Mode  :character  \n",
              " Mean   : 655   Mean   :0.3838   Mean   :2.295                     \n",
              " 3rd Qu.: 982   3rd Qu.:1.0000   3rd Qu.:3.000                     \n",
              " Max.   :1309   Max.   :1.0000   Max.   :3.000                     \n",
              "                NA's   :418                                        \n",
              "     Sex                 Age            SibSp            Parch      \n",
              " Length:1309        Min.   : 0.17   Min.   :0.0000   Min.   :0.000  \n",
              " Class :character   1st Qu.:21.00   1st Qu.:0.0000   1st Qu.:0.000  \n",
              " Mode  :character   Median :28.00   Median :0.0000   Median :0.000  \n",
              "                    Mean   :29.88   Mean   :0.4989   Mean   :0.385  \n",
              "                    3rd Qu.:39.00   3rd Qu.:1.0000   3rd Qu.:0.000  \n",
              "                    Max.   :80.00   Max.   :8.0000   Max.   :9.000  \n",
              "                    NA's   :263                                     \n",
              "    Ticket               Fare            Cabin             Embarked        \n",
              " Length:1309        Min.   :  0.000   Length:1309        Length:1309       \n",
              " Class :character   1st Qu.:  7.896   Class :character   Class :character  \n",
              " Mode  :character   Median : 14.454   Mode  :character   Mode  :character  \n",
              "                    Mean   : 33.295                                        \n",
              "                    3rd Qu.: 31.275                                        \n",
              "                    Max.   :512.329                                        \n",
              "                    NA's   :1                                              "
            ]
          },
          "metadata": {
            "tags": []
          }
        },
        {
          "output_type": "stream",
          "text": [
            "spec_tbl_df[,12] [1,309 × 12] (S3: spec_tbl_df/tbl_df/tbl/data.frame)\n",
            " $ PassengerId: num [1:1309] 1 2 3 4 5 6 7 8 9 10 ...\n",
            " $ Survived   : num [1:1309] 0 1 1 1 0 0 0 0 1 1 ...\n",
            " $ Pclass     : num [1:1309] 3 1 3 1 3 3 1 3 3 2 ...\n",
            " $ Name       : chr [1:1309] \"Braund, Mr. Owen Harris\" \"Cumings, Mrs. John Bradley (Florence Briggs Thayer)\" \"Heikkinen, Miss. Laina\" \"Futrelle, Mrs. Jacques Heath (Lily May Peel)\" ...\n",
            " $ Sex        : chr [1:1309] \"male\" \"female\" \"female\" \"female\" ...\n",
            " $ Age        : num [1:1309] 22 38 26 35 35 NA 54 2 27 14 ...\n",
            " $ SibSp      : num [1:1309] 1 1 0 1 0 0 0 3 0 1 ...\n",
            " $ Parch      : num [1:1309] 0 0 0 0 0 0 0 1 2 0 ...\n",
            " $ Ticket     : chr [1:1309] \"A/5 21171\" \"PC 17599\" \"STON/O2. 3101282\" \"113803\" ...\n",
            " $ Fare       : num [1:1309] 7.25 71.28 7.92 53.1 8.05 ...\n",
            " $ Cabin      : chr [1:1309] NA \"C85\" NA \"C123\" ...\n",
            " $ Embarked   : chr [1:1309] \"S\" \"C\" \"S\" \"S\" ...\n",
            " - attr(*, \"spec\")=\n",
            "  .. cols(\n",
            "  ..   PassengerId = \u001b[32mcol_double()\u001b[39m,\n",
            "  ..   Survived = \u001b[32mcol_double()\u001b[39m,\n",
            "  ..   Pclass = \u001b[32mcol_double()\u001b[39m,\n",
            "  ..   Name = \u001b[31mcol_character()\u001b[39m,\n",
            "  ..   Sex = \u001b[31mcol_character()\u001b[39m,\n",
            "  ..   Age = \u001b[32mcol_double()\u001b[39m,\n",
            "  ..   SibSp = \u001b[32mcol_double()\u001b[39m,\n",
            "  ..   Parch = \u001b[32mcol_double()\u001b[39m,\n",
            "  ..   Ticket = \u001b[31mcol_character()\u001b[39m,\n",
            "  ..   Fare = \u001b[32mcol_double()\u001b[39m,\n",
            "  ..   Cabin = \u001b[31mcol_character()\u001b[39m,\n",
            "  ..   Embarked = \u001b[31mcol_character()\u001b[39m\n",
            "  .. )\n"
          ],
          "name": "stdout"
        },
        {
          "output_type": "display_data",
          "data": {
            "text/plain": [
              "  PassengerId      Survived          Pclass          Name          \n",
              " Min.   :   1   Min.   :0.0000   Min.   :1.000   Length:1309       \n",
              " 1st Qu.: 328   1st Qu.:0.0000   1st Qu.:2.000   Class :character  \n",
              " Median : 655   Median :0.0000   Median :3.000   Mode  :character  \n",
              " Mean   : 655   Mean   :0.3838   Mean   :2.295                     \n",
              " 3rd Qu.: 982   3rd Qu.:1.0000   3rd Qu.:3.000                     \n",
              " Max.   :1309   Max.   :1.0000   Max.   :3.000                     \n",
              "                NA's   :418                                        \n",
              "     Sex                 Age            SibSp            Parch      \n",
              " Length:1309        Min.   : 0.17   Min.   :0.0000   Min.   :0.000  \n",
              " Class :character   1st Qu.:21.00   1st Qu.:0.0000   1st Qu.:0.000  \n",
              " Mode  :character   Median :28.00   Median :0.0000   Median :0.000  \n",
              "                    Mean   :29.88   Mean   :0.4989   Mean   :0.385  \n",
              "                    3rd Qu.:39.00   3rd Qu.:1.0000   3rd Qu.:0.000  \n",
              "                    Max.   :80.00   Max.   :8.0000   Max.   :9.000  \n",
              "                    NA's   :263                                     \n",
              "    Ticket               Fare            Cabin             Embarked        \n",
              " Length:1309        Min.   :  0.000   Length:1309        Length:1309       \n",
              " Class :character   1st Qu.:  7.896   Class :character   Class :character  \n",
              " Mode  :character   Median : 14.454   Mode  :character   Mode  :character  \n",
              "                    Mean   : 33.295                                        \n",
              "                    3rd Qu.: 31.275                                        \n",
              "                    Max.   :512.329                                        \n",
              "                    NA's   :1                                              "
            ]
          },
          "metadata": {
            "tags": []
          }
        },
        {
          "output_type": "stream",
          "text": [
            "spec_tbl_df[,12] [1,309 × 12] (S3: spec_tbl_df/tbl_df/tbl/data.frame)\n",
            " $ PassengerId: num [1:1309] 1 2 3 4 5 6 7 8 9 10 ...\n",
            " $ Survived   : Factor w/ 2 levels \"0\",\"1\": 1 2 2 2 1 1 1 1 2 2 ...\n",
            " $ Pclass     : Ord.factor w/ 3 levels \"1\"<\"2\"<\"3\": 3 1 3 1 3 3 1 3 3 2 ...\n",
            " $ Name       : Factor w/ 1307 levels \"Abbing, Mr. Anthony\",..: 156 287 531 430 23 826 775 922 613 855 ...\n",
            " $ Sex        : Factor w/ 2 levels \"female\",\"male\": 2 1 1 1 2 2 2 2 1 1 ...\n",
            " $ Age        : num [1:1309] 22 38 26 35 35 NA 54 2 27 14 ...\n",
            " $ SibSp      : num [1:1309] 1 1 0 1 0 0 0 3 0 1 ...\n",
            " $ Parch      : num [1:1309] 0 0 0 0 0 0 0 1 2 0 ...\n",
            " $ Ticket     : chr [1:1309] \"A/5 21171\" \"PC 17599\" \"STON/O2. 3101282\" \"113803\" ...\n",
            " $ Fare       : num [1:1309] 7.25 71.28 7.92 53.1 8.05 ...\n",
            " $ Cabin      : Factor w/ 186 levels \"A10\",\"A11\",\"A14\",..: NA 107 NA 71 NA NA 164 NA NA NA ...\n",
            " $ Embarked   : Factor w/ 3 levels \"C\",\"Q\",\"S\": 3 1 3 3 3 2 3 3 3 1 ...\n",
            " - attr(*, \"spec\")=\n",
            "  .. cols(\n",
            "  ..   PassengerId = \u001b[32mcol_double()\u001b[39m,\n",
            "  ..   Survived = \u001b[32mcol_double()\u001b[39m,\n",
            "  ..   Pclass = \u001b[32mcol_double()\u001b[39m,\n",
            "  ..   Name = \u001b[31mcol_character()\u001b[39m,\n",
            "  ..   Sex = \u001b[31mcol_character()\u001b[39m,\n",
            "  ..   Age = \u001b[32mcol_double()\u001b[39m,\n",
            "  ..   SibSp = \u001b[32mcol_double()\u001b[39m,\n",
            "  ..   Parch = \u001b[32mcol_double()\u001b[39m,\n",
            "  ..   Ticket = \u001b[31mcol_character()\u001b[39m,\n",
            "  ..   Fare = \u001b[32mcol_double()\u001b[39m,\n",
            "  ..   Cabin = \u001b[31mcol_character()\u001b[39m,\n",
            "  ..   Embarked = \u001b[31mcol_character()\u001b[39m\n",
            "  .. )\n"
          ],
          "name": "stdout"
        },
        {
          "output_type": "display_data",
          "data": {
            "text/plain": [
              "  PassengerId   Survived   Pclass                                Name     \n",
              " Min.   :   1   0   :549   1:323   Connolly, Miss. Kate            :   2  \n",
              " 1st Qu.: 328   1   :342   2:277   Kelly, Mr. James                :   2  \n",
              " Median : 655   NA's:418   3:709   Abbing, Mr. Anthony             :   1  \n",
              " Mean   : 655                      Abbott, Master. Eugene Joseph   :   1  \n",
              " 3rd Qu.: 982                      Abbott, Mr. Rossmore Edward     :   1  \n",
              " Max.   :1309                      Abbott, Mrs. Stanton (Rosa Hunt):   1  \n",
              "                                   (Other)                         :1301  \n",
              "     Sex           Age            SibSp            Parch      \n",
              " female:466   Min.   : 0.17   Min.   :0.0000   Min.   :0.000  \n",
              " male  :843   1st Qu.:21.00   1st Qu.:0.0000   1st Qu.:0.000  \n",
              "              Median :28.00   Median :0.0000   Median :0.000  \n",
              "              Mean   :29.88   Mean   :0.4989   Mean   :0.385  \n",
              "              3rd Qu.:39.00   3rd Qu.:1.0000   3rd Qu.:0.000  \n",
              "              Max.   :80.00   Max.   :8.0000   Max.   :9.000  \n",
              "              NA's   :263                                     \n",
              "    Ticket               Fare                     Cabin      Embarked  \n",
              " Length:1309        Min.   :  0.000   C23 C25 C27    :   6   C   :270  \n",
              " Class :character   1st Qu.:  7.896   B57 B59 B63 B66:   5   Q   :123  \n",
              " Mode  :character   Median : 14.454   G6             :   5   S   :914  \n",
              "                    Mean   : 33.295   B96 B98        :   4   NA's:  2  \n",
              "                    3rd Qu.: 31.275   C22 C26        :   4             \n",
              "                    Max.   :512.329   (Other)        : 271             \n",
              "                    NA's   :1         NA's           :1014             "
            ]
          },
          "metadata": {
            "tags": []
          }
        }
      ]
    },
    {
      "cell_type": "code",
      "metadata": {
        "id": "o_OIJcqSWnGg"
      },
      "source": [
        "VIM::aggr(t_full, prop = FALSE, combined = TRUE, numbers = TRUE,\n",
        "          sortVars = TRUE, sortCombs = TRUE)"
      ],
      "execution_count": null,
      "outputs": []
    },
    {
      "cell_type": "code",
      "metadata": {
        "id": "gbJ293GkWm-_",
        "colab": {
          "base_uri": "https://localhost:8080/",
          "height": 252
        },
        "outputId": "bc934165-be40-49d9-dafc-f5d5edb273d7"
      },
      "source": [
        "# Substituting mode and median values for NA to variables that I'm going to use later\n",
        "summary(t_full$Embarked)\n",
        "t_full$Embarked <- replace(t_full$Embarked,\n",
        "                           which(is.na(t_full$Embarked)),\n",
        "                           \"S\")\n",
        "summary(t_full$Embarked)\n",
        "\n",
        "table(is.na(t_full$Age))\n",
        "age.median <- median(t_full$Age, na.rm = T)\n",
        "t_full[is.na(t_full$Age), \"Age\"] <- age.median\n",
        "table(is.na(t_full$Age))\n",
        "\n",
        "\n",
        "table(is.na(t_full$Fare))\n",
        "fare.median <- median(t_full$Fare, na.rm = T)\n",
        "t_full[is.na(t_full$Fare), \"Fare\"] <- fare.median\n",
        "table(is.na(t_full$Fare))"
      ],
      "execution_count": 31,
      "outputs": [
        {
          "output_type": "display_data",
          "data": {
            "text/plain": [
              "   C    Q    S NA's \n",
              " 270  123  914    2 "
            ],
            "text/latex": "\\begin{description*}\n\\item[C] 270\n\\item[Q] 123\n\\item[S] 914\n\\item[NA's] 2\n\\end{description*}\n",
            "text/markdown": "C\n:   270Q\n:   123S\n:   914NA's\n:   2\n\n",
            "text/html": [
              "<style>\n",
              ".dl-inline {width: auto; margin:0; padding: 0}\n",
              ".dl-inline>dt, .dl-inline>dd {float: none; width: auto; display: inline-block}\n",
              ".dl-inline>dt::after {content: \":\\0020\"; padding-right: .5ex}\n",
              ".dl-inline>dt:not(:first-of-type) {padding-left: .5ex}\n",
              "</style><dl class=dl-inline><dt>C</dt><dd>270</dd><dt>Q</dt><dd>123</dd><dt>S</dt><dd>914</dd><dt>NA's</dt><dd>2</dd></dl>\n"
            ]
          },
          "metadata": {
            "tags": []
          }
        },
        {
          "output_type": "display_data",
          "data": {
            "text/plain": [
              "  C   Q   S \n",
              "270 123 916 "
            ],
            "text/latex": "\\begin{description*}\n\\item[C] 270\n\\item[Q] 123\n\\item[S] 916\n\\end{description*}\n",
            "text/markdown": "C\n:   270Q\n:   123S\n:   916\n\n",
            "text/html": [
              "<style>\n",
              ".dl-inline {width: auto; margin:0; padding: 0}\n",
              ".dl-inline>dt, .dl-inline>dd {float: none; width: auto; display: inline-block}\n",
              ".dl-inline>dt::after {content: \":\\0020\"; padding-right: .5ex}\n",
              ".dl-inline>dt:not(:first-of-type) {padding-left: .5ex}\n",
              "</style><dl class=dl-inline><dt>C</dt><dd>270</dd><dt>Q</dt><dd>123</dd><dt>S</dt><dd>916</dd></dl>\n"
            ]
          },
          "metadata": {
            "tags": []
          }
        },
        {
          "output_type": "display_data",
          "data": {
            "text/plain": [
              "\n",
              "FALSE  TRUE \n",
              " 1046   263 "
            ]
          },
          "metadata": {
            "tags": []
          }
        },
        {
          "output_type": "display_data",
          "data": {
            "text/plain": [
              "\n",
              "FALSE \n",
              " 1309 "
            ]
          },
          "metadata": {
            "tags": []
          }
        },
        {
          "output_type": "display_data",
          "data": {
            "text/plain": [
              "\n",
              "FALSE  TRUE \n",
              " 1308     1 "
            ]
          },
          "metadata": {
            "tags": []
          }
        },
        {
          "output_type": "display_data",
          "data": {
            "text/plain": [
              "\n",
              "FALSE \n",
              " 1309 "
            ]
          },
          "metadata": {
            "tags": []
          }
        }
      ]
    },
    {
      "cell_type": "code",
      "metadata": {
        "id": "ypjkNZ8jWvO6",
        "colab": {
          "base_uri": "https://localhost:8080/",
          "height": 487
        },
        "outputId": "5e1f3e21-cf47-4eee-c00b-d25890f4f919"
      },
      "source": [
        "# Full data set split back into train & test data sets\n",
        "t_train <- t_full[1:891, ]\n",
        "t_test <- t_full[892:1309, ]\n",
        "t_train$Survived\n",
        "t_test$Survived"
      ],
      "execution_count": 32,
      "outputs": [
        {
          "output_type": "display_data",
          "data": {
            "text/plain": [
              "  [1] 0 1 1 1 0 0 0 0 1 1 1 1 0 0 0 1 0 1 0 1 0 1 1 1 0 1 0 0 1 0 0 1 1 0 0 0 1\n",
              " [38] 0 0 1 0 0 0 1 1 0 0 1 0 0 0 0 1 1 0 1 1 0 1 0 0 1 0 0 0 1 1 0 1 0 0 0 0 0\n",
              " [75] 1 0 0 0 1 1 0 1 1 0 1 1 0 0 1 0 0 0 0 0 0 0 0 1 1 0 0 0 0 0 0 0 1 1 0 1 0\n",
              "[112] 0 0 0 0 0 0 0 0 0 0 0 0 1 0 1 0 1 1 0 0 0 0 1 0 0 1 0 0 0 0 1 1 0 0 0 1 0\n",
              "[149] 0 0 0 1 0 0 0 0 1 0 0 0 0 1 0 0 0 1 1 0 0 0 0 0 1 0 0 0 0 0 0 0 0 0 0 1 1\n",
              "[186] 0 1 1 0 0 1 0 1 1 1 1 0 0 1 0 0 0 0 0 1 0 0 1 1 1 0 1 0 0 0 1 1 0 1 0 1 0\n",
              "[223] 0 0 1 0 1 0 0 0 1 0 0 1 0 0 0 1 0 0 0 1 0 0 0 0 0 1 1 0 0 0 0 0 0 1 1 1 1\n",
              "[260] 1 0 1 0 0 0 0 0 1 1 1 0 1 1 0 1 1 0 0 0 1 0 0 0 1 0 0 1 0 1 1 1 1 0 0 0 0\n",
              "[297] 0 0 1 1 1 1 0 1 0 1 1 1 0 1 1 1 0 0 0 1 1 0 1 1 0 0 1 1 0 1 0 1 1 1 1 0 0\n",
              "[334] 0 1 0 0 1 1 0 1 1 0 0 0 1 1 1 1 0 0 0 0 0 0 0 1 0 1 1 0 0 0 0 0 0 1 1 1 1\n",
              "[371] 1 0 0 0 0 1 1 0 0 0 1 1 0 1 0 0 0 1 0 1 1 1 0 1 1 0 0 0 0 1 1 0 0 0 0 0 0\n",
              "[408] 1 0 0 0 0 1 0 1 0 1 1 0 0 0 0 0 0 0 0 1 1 0 1 1 1 1 0 0 1 0 1 0 0 1 0 0 1\n",
              "[445] 1 1 1 1 1 1 0 0 0 1 0 1 0 1 1 0 1 0 0 0 0 0 0 0 0 1 0 0 1 1 0 0 0 0 0 1 0\n",
              "[482] 0 0 1 1 0 1 0 0 1 0 0 0 0 0 0 1 0 0 0 0 0 0 0 1 0 1 1 0 1 1 0 1 1 0 0 1 0\n",
              "[519] 1 0 1 0 0 1 0 0 1 0 0 0 1 0 0 1 0 1 0 1 0 1 1 0 0 1 0 0 1 1 0 1 1 0 0 1 1\n",
              "[556] 0 1 0 1 1 0 0 0 0 0 0 0 0 0 1 1 1 1 1 0 0 1 1 0 1 1 1 0 0 0 1 0 1 0 0 0 1\n",
              "[593] 0 0 0 0 1 0 0 1 1 0 0 0 1 0 0 1 1 1 0 0 1 0 0 1 0 0 1 0 0 1 1 0 0 0 0 1 0\n",
              "[630] 0 1 0 1 0 0 1 0 0 0 0 0 1 0 1 1 1 0 1 0 1 0 1 0 1 0 0 0 0 0 0 1 0 0 0 1 0\n",
              "[667] 0 0 0 1 1 0 0 1 0 0 0 1 0 1 0 1 0 0 0 0 0 0 0 1 1 1 1 0 0 0 0 1 0 0 1 1 0\n",
              "[704] 0 0 0 1 1 1 1 1 0 1 0 0 0 1 1 0 0 1 0 0 0 1 0 1 1 0 0 1 0 0 0 0 0 0 1 0 0\n",
              "[741] 1 0 1 0 1 0 0 1 0 0 1 1 0 0 1 1 0 0 0 1 0 0 1 1 0 1 0 0 0 0 0 0 0 0 1 0 0\n",
              "[778] 1 0 1 1 1 0 0 0 0 1 0 1 0 0 0 0 0 0 0 1 1 0 0 0 1 1 1 1 0 0 0 0 1 0 0 0 0\n",
              "[815] 0 0 0 0 0 0 1 1 0 1 0 0 0 1 1 1 1 1 0 0 0 1 0 0 1 1 0 0 1 0 0 0 0 0 0 1 0\n",
              "[852] 0 0 1 0 1 1 1 1 0 0 0 1 0 0 1 1 0 0 1 0 1 0 0 1 1 0 0 0 1 1 0 0 0 0 0 0 1\n",
              "[889] 0 1 0\n",
              "Levels: 0 1"
            ],
            "text/latex": "\\begin{enumerate*}\n\\item 0\n\\item 1\n\\item 1\n\\item 1\n\\item 0\n\\item 0\n\\item 0\n\\item 0\n\\item 1\n\\item 1\n\\item 1\n\\item 1\n\\item 0\n\\item 0\n\\item 0\n\\item 1\n\\item 0\n\\item 1\n\\item 0\n\\item 1\n\\item 0\n\\item 1\n\\item 1\n\\item 1\n\\item 0\n\\item 1\n\\item 0\n\\item 0\n\\item 1\n\\item 0\n\\item 0\n\\item 1\n\\item 1\n\\item 0\n\\item 0\n\\item 0\n\\item 1\n\\item 0\n\\item 0\n\\item 1\n\\item 0\n\\item 0\n\\item 0\n\\item 1\n\\item 1\n\\item 0\n\\item 0\n\\item 1\n\\item 0\n\\item 0\n\\item 0\n\\item 0\n\\item 1\n\\item 1\n\\item 0\n\\item 1\n\\item 1\n\\item 0\n\\item 1\n\\item 0\n\\item 0\n\\item 1\n\\item 0\n\\item 0\n\\item 0\n\\item 1\n\\item 1\n\\item 0\n\\item 1\n\\item 0\n\\item 0\n\\item 0\n\\item 0\n\\item 0\n\\item 1\n\\item 0\n\\item 0\n\\item 0\n\\item 1\n\\item 1\n\\item 0\n\\item 1\n\\item 1\n\\item 0\n\\item 1\n\\item 1\n\\item 0\n\\item 0\n\\item 1\n\\item 0\n\\item 0\n\\item 0\n\\item 0\n\\item 0\n\\item 0\n\\item 0\n\\item 0\n\\item 1\n\\item 1\n\\item 0\n\\item 0\n\\item 0\n\\item 0\n\\item 0\n\\item 0\n\\item 0\n\\item 1\n\\item 1\n\\item 0\n\\item 1\n\\item 0\n\\item 0\n\\item 0\n\\item 0\n\\item 0\n\\item 0\n\\item 0\n\\item 0\n\\item 0\n\\item 0\n\\item 0\n\\item 0\n\\item 0\n\\item 1\n\\item 0\n\\item 1\n\\item 0\n\\item 1\n\\item 1\n\\item 0\n\\item 0\n\\item 0\n\\item 0\n\\item 1\n\\item 0\n\\item 0\n\\item 1\n\\item 0\n\\item 0\n\\item 0\n\\item 0\n\\item 1\n\\item 1\n\\item 0\n\\item 0\n\\item 0\n\\item 1\n\\item 0\n\\item 0\n\\item 0\n\\item 0\n\\item 1\n\\item 0\n\\item 0\n\\item 0\n\\item 0\n\\item 1\n\\item 0\n\\item 0\n\\item 0\n\\item 0\n\\item 1\n\\item 0\n\\item 0\n\\item 0\n\\item 1\n\\item 1\n\\item 0\n\\item 0\n\\item 0\n\\item 0\n\\item 0\n\\item 1\n\\item 0\n\\item 0\n\\item 0\n\\item 0\n\\item 0\n\\item 0\n\\item 0\n\\item 0\n\\item 0\n\\item 0\n\\item 1\n\\item 1\n\\item 0\n\\item 1\n\\item 1\n\\item 0\n\\item 0\n\\item 1\n\\item 0\n\\item 1\n\\item 1\n\\item 1\n\\item 1\n\\item 0\n\\item 0\n\\item 1\n\\item 0\n\\item ⋯\n\\item 1\n\\item 1\n\\item 0\n\\item 0\n\\item 0\n\\item 0\n\\item 1\n\\item 0\n\\item 0\n\\item 1\n\\item 1\n\\item 0\n\\item 0\n\\item 0\n\\item 0\n\\item 1\n\\item 1\n\\item 1\n\\item 1\n\\item 1\n\\item 0\n\\item 1\n\\item 0\n\\item 0\n\\item 0\n\\item 1\n\\item 1\n\\item 0\n\\item 0\n\\item 1\n\\item 0\n\\item 0\n\\item 0\n\\item 1\n\\item 0\n\\item 1\n\\item 1\n\\item 0\n\\item 0\n\\item 1\n\\item 0\n\\item 0\n\\item 0\n\\item 0\n\\item 0\n\\item 0\n\\item 1\n\\item 0\n\\item 0\n\\item 1\n\\item 0\n\\item 1\n\\item 0\n\\item 1\n\\item 0\n\\item 0\n\\item 1\n\\item 0\n\\item 0\n\\item 1\n\\item 1\n\\item 0\n\\item 0\n\\item 1\n\\item 1\n\\item 0\n\\item 0\n\\item 0\n\\item 1\n\\item 0\n\\item 0\n\\item 1\n\\item 1\n\\item 0\n\\item 1\n\\item 0\n\\item 0\n\\item 0\n\\item 0\n\\item 0\n\\item 0\n\\item 0\n\\item 0\n\\item 1\n\\item 0\n\\item 0\n\\item 1\n\\item 0\n\\item 1\n\\item 1\n\\item 1\n\\item 0\n\\item 0\n\\item 0\n\\item 0\n\\item 1\n\\item 0\n\\item 1\n\\item 0\n\\item 0\n\\item 0\n\\item 0\n\\item 0\n\\item 0\n\\item 0\n\\item 1\n\\item 1\n\\item 0\n\\item 0\n\\item 0\n\\item 1\n\\item 1\n\\item 1\n\\item 1\n\\item 0\n\\item 0\n\\item 0\n\\item 0\n\\item 1\n\\item 0\n\\item 0\n\\item 0\n\\item 0\n\\item 0\n\\item 0\n\\item 0\n\\item 0\n\\item 0\n\\item 0\n\\item 1\n\\item 1\n\\item 0\n\\item 1\n\\item 0\n\\item 0\n\\item 0\n\\item 1\n\\item 1\n\\item 1\n\\item 1\n\\item 1\n\\item 0\n\\item 0\n\\item 0\n\\item 1\n\\item 0\n\\item 0\n\\item 1\n\\item 1\n\\item 0\n\\item 0\n\\item 1\n\\item 0\n\\item 0\n\\item 0\n\\item 0\n\\item 0\n\\item 0\n\\item 1\n\\item 0\n\\item 0\n\\item 0\n\\item 1\n\\item 0\n\\item 1\n\\item 1\n\\item 1\n\\item 1\n\\item 0\n\\item 0\n\\item 0\n\\item 1\n\\item 0\n\\item 0\n\\item 1\n\\item 1\n\\item 0\n\\item 0\n\\item 1\n\\item 0\n\\item 1\n\\item 0\n\\item 0\n\\item 1\n\\item 1\n\\item 0\n\\item 0\n\\item 0\n\\item 1\n\\item 1\n\\item 0\n\\item 0\n\\item 0\n\\item 0\n\\item 0\n\\item 0\n\\item 1\n\\item 0\n\\item 1\n\\item 0\n\\end{enumerate*}\n\n\\emph{Levels}: \\begin{enumerate*}\n\\item '0'\n\\item '1'\n\\end{enumerate*}\n",
            "text/markdown": "1. 0\n2. 1\n3. 1\n4. 1\n5. 0\n6. 0\n7. 0\n8. 0\n9. 1\n10. 1\n11. 1\n12. 1\n13. 0\n14. 0\n15. 0\n16. 1\n17. 0\n18. 1\n19. 0\n20. 1\n21. 0\n22. 1\n23. 1\n24. 1\n25. 0\n26. 1\n27. 0\n28. 0\n29. 1\n30. 0\n31. 0\n32. 1\n33. 1\n34. 0\n35. 0\n36. 0\n37. 1\n38. 0\n39. 0\n40. 1\n41. 0\n42. 0\n43. 0\n44. 1\n45. 1\n46. 0\n47. 0\n48. 1\n49. 0\n50. 0\n51. 0\n52. 0\n53. 1\n54. 1\n55. 0\n56. 1\n57. 1\n58. 0\n59. 1\n60. 0\n61. 0\n62. 1\n63. 0\n64. 0\n65. 0\n66. 1\n67. 1\n68. 0\n69. 1\n70. 0\n71. 0\n72. 0\n73. 0\n74. 0\n75. 1\n76. 0\n77. 0\n78. 0\n79. 1\n80. 1\n81. 0\n82. 1\n83. 1\n84. 0\n85. 1\n86. 1\n87. 0\n88. 0\n89. 1\n90. 0\n91. 0\n92. 0\n93. 0\n94. 0\n95. 0\n96. 0\n97. 0\n98. 1\n99. 1\n100. 0\n101. 0\n102. 0\n103. 0\n104. 0\n105. 0\n106. 0\n107. 1\n108. 1\n109. 0\n110. 1\n111. 0\n112. 0\n113. 0\n114. 0\n115. 0\n116. 0\n117. 0\n118. 0\n119. 0\n120. 0\n121. 0\n122. 0\n123. 0\n124. 1\n125. 0\n126. 1\n127. 0\n128. 1\n129. 1\n130. 0\n131. 0\n132. 0\n133. 0\n134. 1\n135. 0\n136. 0\n137. 1\n138. 0\n139. 0\n140. 0\n141. 0\n142. 1\n143. 1\n144. 0\n145. 0\n146. 0\n147. 1\n148. 0\n149. 0\n150. 0\n151. 0\n152. 1\n153. 0\n154. 0\n155. 0\n156. 0\n157. 1\n158. 0\n159. 0\n160. 0\n161. 0\n162. 1\n163. 0\n164. 0\n165. 0\n166. 1\n167. 1\n168. 0\n169. 0\n170. 0\n171. 0\n172. 0\n173. 1\n174. 0\n175. 0\n176. 0\n177. 0\n178. 0\n179. 0\n180. 0\n181. 0\n182. 0\n183. 0\n184. 1\n185. 1\n186. 0\n187. 1\n188. 1\n189. 0\n190. 0\n191. 1\n192. 0\n193. 1\n194. 1\n195. 1\n196. 1\n197. 0\n198. 0\n199. 1\n200. 0\n201. ⋯\n202. 1\n203. 1\n204. 0\n205. 0\n206. 0\n207. 0\n208. 1\n209. 0\n210. 0\n211. 1\n212. 1\n213. 0\n214. 0\n215. 0\n216. 0\n217. 1\n218. 1\n219. 1\n220. 1\n221. 1\n222. 0\n223. 1\n224. 0\n225. 0\n226. 0\n227. 1\n228. 1\n229. 0\n230. 0\n231. 1\n232. 0\n233. 0\n234. 0\n235. 1\n236. 0\n237. 1\n238. 1\n239. 0\n240. 0\n241. 1\n242. 0\n243. 0\n244. 0\n245. 0\n246. 0\n247. 0\n248. 1\n249. 0\n250. 0\n251. 1\n252. 0\n253. 1\n254. 0\n255. 1\n256. 0\n257. 0\n258. 1\n259. 0\n260. 0\n261. 1\n262. 1\n263. 0\n264. 0\n265. 1\n266. 1\n267. 0\n268. 0\n269. 0\n270. 1\n271. 0\n272. 0\n273. 1\n274. 1\n275. 0\n276. 1\n277. 0\n278. 0\n279. 0\n280. 0\n281. 0\n282. 0\n283. 0\n284. 0\n285. 1\n286. 0\n287. 0\n288. 1\n289. 0\n290. 1\n291. 1\n292. 1\n293. 0\n294. 0\n295. 0\n296. 0\n297. 1\n298. 0\n299. 1\n300. 0\n301. 0\n302. 0\n303. 0\n304. 0\n305. 0\n306. 0\n307. 1\n308. 1\n309. 0\n310. 0\n311. 0\n312. 1\n313. 1\n314. 1\n315. 1\n316. 0\n317. 0\n318. 0\n319. 0\n320. 1\n321. 0\n322. 0\n323. 0\n324. 0\n325. 0\n326. 0\n327. 0\n328. 0\n329. 0\n330. 0\n331. 1\n332. 1\n333. 0\n334. 1\n335. 0\n336. 0\n337. 0\n338. 1\n339. 1\n340. 1\n341. 1\n342. 1\n343. 0\n344. 0\n345. 0\n346. 1\n347. 0\n348. 0\n349. 1\n350. 1\n351. 0\n352. 0\n353. 1\n354. 0\n355. 0\n356. 0\n357. 0\n358. 0\n359. 0\n360. 1\n361. 0\n362. 0\n363. 0\n364. 1\n365. 0\n366. 1\n367. 1\n368. 1\n369. 1\n370. 0\n371. 0\n372. 0\n373. 1\n374. 0\n375. 0\n376. 1\n377. 1\n378. 0\n379. 0\n380. 1\n381. 0\n382. 1\n383. 0\n384. 0\n385. 1\n386. 1\n387. 0\n388. 0\n389. 0\n390. 1\n391. 1\n392. 0\n393. 0\n394. 0\n395. 0\n396. 0\n397. 0\n398. 1\n399. 0\n400. 1\n401. 0\n\n\n\n**Levels**: 1. '0'\n2. '1'\n\n\n",
            "text/html": [
              "<style>\n",
              ".list-inline {list-style: none; margin:0; padding: 0}\n",
              ".list-inline>li {display: inline-block}\n",
              ".list-inline>li:not(:last-child)::after {content: \"\\00b7\"; padding: 0 .5ex}\n",
              "</style>\n",
              "<ol class=list-inline><li>0</li><li>1</li><li>1</li><li>1</li><li>0</li><li>0</li><li>0</li><li>0</li><li>1</li><li>1</li><li>1</li><li>1</li><li>0</li><li>0</li><li>0</li><li>1</li><li>0</li><li>1</li><li>0</li><li>1</li><li>0</li><li>1</li><li>1</li><li>1</li><li>0</li><li>1</li><li>0</li><li>0</li><li>1</li><li>0</li><li>0</li><li>1</li><li>1</li><li>0</li><li>0</li><li>0</li><li>1</li><li>0</li><li>0</li><li>1</li><li>0</li><li>0</li><li>0</li><li>1</li><li>1</li><li>0</li><li>0</li><li>1</li><li>0</li><li>0</li><li>0</li><li>0</li><li>1</li><li>1</li><li>0</li><li>1</li><li>1</li><li>0</li><li>1</li><li>0</li><li>0</li><li>1</li><li>0</li><li>0</li><li>0</li><li>1</li><li>1</li><li>0</li><li>1</li><li>0</li><li>0</li><li>0</li><li>0</li><li>0</li><li>1</li><li>0</li><li>0</li><li>0</li><li>1</li><li>1</li><li>0</li><li>1</li><li>1</li><li>0</li><li>1</li><li>1</li><li>0</li><li>0</li><li>1</li><li>0</li><li>0</li><li>0</li><li>0</li><li>0</li><li>0</li><li>0</li><li>0</li><li>1</li><li>1</li><li>0</li><li>0</li><li>0</li><li>0</li><li>0</li><li>0</li><li>0</li><li>1</li><li>1</li><li>0</li><li>1</li><li>0</li><li>0</li><li>0</li><li>0</li><li>0</li><li>0</li><li>0</li><li>0</li><li>0</li><li>0</li><li>0</li><li>0</li><li>0</li><li>1</li><li>0</li><li>1</li><li>0</li><li>1</li><li>1</li><li>0</li><li>0</li><li>0</li><li>0</li><li>1</li><li>0</li><li>0</li><li>1</li><li>0</li><li>0</li><li>0</li><li>0</li><li>1</li><li>1</li><li>0</li><li>0</li><li>0</li><li>1</li><li>0</li><li>0</li><li>0</li><li>0</li><li>1</li><li>0</li><li>0</li><li>0</li><li>0</li><li>1</li><li>0</li><li>0</li><li>0</li><li>0</li><li>1</li><li>0</li><li>0</li><li>0</li><li>1</li><li>1</li><li>0</li><li>0</li><li>0</li><li>0</li><li>0</li><li>1</li><li>0</li><li>0</li><li>0</li><li>0</li><li>0</li><li>0</li><li>0</li><li>0</li><li>0</li><li>0</li><li>1</li><li>1</li><li>0</li><li>1</li><li>1</li><li>0</li><li>0</li><li>1</li><li>0</li><li>1</li><li>1</li><li>1</li><li>1</li><li>0</li><li>0</li><li>1</li><li>0</li><li>⋯</li><li>1</li><li>1</li><li>0</li><li>0</li><li>0</li><li>0</li><li>1</li><li>0</li><li>0</li><li>1</li><li>1</li><li>0</li><li>0</li><li>0</li><li>0</li><li>1</li><li>1</li><li>1</li><li>1</li><li>1</li><li>0</li><li>1</li><li>0</li><li>0</li><li>0</li><li>1</li><li>1</li><li>0</li><li>0</li><li>1</li><li>0</li><li>0</li><li>0</li><li>1</li><li>0</li><li>1</li><li>1</li><li>0</li><li>0</li><li>1</li><li>0</li><li>0</li><li>0</li><li>0</li><li>0</li><li>0</li><li>1</li><li>0</li><li>0</li><li>1</li><li>0</li><li>1</li><li>0</li><li>1</li><li>0</li><li>0</li><li>1</li><li>0</li><li>0</li><li>1</li><li>1</li><li>0</li><li>0</li><li>1</li><li>1</li><li>0</li><li>0</li><li>0</li><li>1</li><li>0</li><li>0</li><li>1</li><li>1</li><li>0</li><li>1</li><li>0</li><li>0</li><li>0</li><li>0</li><li>0</li><li>0</li><li>0</li><li>0</li><li>1</li><li>0</li><li>0</li><li>1</li><li>0</li><li>1</li><li>1</li><li>1</li><li>0</li><li>0</li><li>0</li><li>0</li><li>1</li><li>0</li><li>1</li><li>0</li><li>0</li><li>0</li><li>0</li><li>0</li><li>0</li><li>0</li><li>1</li><li>1</li><li>0</li><li>0</li><li>0</li><li>1</li><li>1</li><li>1</li><li>1</li><li>0</li><li>0</li><li>0</li><li>0</li><li>1</li><li>0</li><li>0</li><li>0</li><li>0</li><li>0</li><li>0</li><li>0</li><li>0</li><li>0</li><li>0</li><li>1</li><li>1</li><li>0</li><li>1</li><li>0</li><li>0</li><li>0</li><li>1</li><li>1</li><li>1</li><li>1</li><li>1</li><li>0</li><li>0</li><li>0</li><li>1</li><li>0</li><li>0</li><li>1</li><li>1</li><li>0</li><li>0</li><li>1</li><li>0</li><li>0</li><li>0</li><li>0</li><li>0</li><li>0</li><li>1</li><li>0</li><li>0</li><li>0</li><li>1</li><li>0</li><li>1</li><li>1</li><li>1</li><li>1</li><li>0</li><li>0</li><li>0</li><li>1</li><li>0</li><li>0</li><li>1</li><li>1</li><li>0</li><li>0</li><li>1</li><li>0</li><li>1</li><li>0</li><li>0</li><li>1</li><li>1</li><li>0</li><li>0</li><li>0</li><li>1</li><li>1</li><li>0</li><li>0</li><li>0</li><li>0</li><li>0</li><li>0</li><li>1</li><li>0</li><li>1</li><li>0</li></ol>\n",
              "\n",
              "<details>\n",
              "\t<summary style=display:list-item;cursor:pointer>\n",
              "\t\t<strong>Levels</strong>:\n",
              "\t</summary>\n",
              "\t<style>\n",
              "\t.list-inline {list-style: none; margin:0; padding: 0}\n",
              "\t.list-inline>li {display: inline-block}\n",
              "\t.list-inline>li:not(:last-child)::after {content: \"\\00b7\"; padding: 0 .5ex}\n",
              "\t</style>\n",
              "\t<ol class=list-inline><li>'0'</li><li>'1'</li></ol>\n",
              "</details>"
            ]
          },
          "metadata": {
            "tags": []
          }
        },
        {
          "output_type": "display_data",
          "data": {
            "text/plain": [
              "  [1] <NA> <NA> <NA> <NA> <NA> <NA> <NA> <NA> <NA> <NA> <NA> <NA> <NA> <NA> <NA>\n",
              " [16] <NA> <NA> <NA> <NA> <NA> <NA> <NA> <NA> <NA> <NA> <NA> <NA> <NA> <NA> <NA>\n",
              " [31] <NA> <NA> <NA> <NA> <NA> <NA> <NA> <NA> <NA> <NA> <NA> <NA> <NA> <NA> <NA>\n",
              " [46] <NA> <NA> <NA> <NA> <NA> <NA> <NA> <NA> <NA> <NA> <NA> <NA> <NA> <NA> <NA>\n",
              " [61] <NA> <NA> <NA> <NA> <NA> <NA> <NA> <NA> <NA> <NA> <NA> <NA> <NA> <NA> <NA>\n",
              " [76] <NA> <NA> <NA> <NA> <NA> <NA> <NA> <NA> <NA> <NA> <NA> <NA> <NA> <NA> <NA>\n",
              " [91] <NA> <NA> <NA> <NA> <NA> <NA> <NA> <NA> <NA> <NA> <NA> <NA> <NA> <NA> <NA>\n",
              "[106] <NA> <NA> <NA> <NA> <NA> <NA> <NA> <NA> <NA> <NA> <NA> <NA> <NA> <NA> <NA>\n",
              "[121] <NA> <NA> <NA> <NA> <NA> <NA> <NA> <NA> <NA> <NA> <NA> <NA> <NA> <NA> <NA>\n",
              "[136] <NA> <NA> <NA> <NA> <NA> <NA> <NA> <NA> <NA> <NA> <NA> <NA> <NA> <NA> <NA>\n",
              "[151] <NA> <NA> <NA> <NA> <NA> <NA> <NA> <NA> <NA> <NA> <NA> <NA> <NA> <NA> <NA>\n",
              "[166] <NA> <NA> <NA> <NA> <NA> <NA> <NA> <NA> <NA> <NA> <NA> <NA> <NA> <NA> <NA>\n",
              "[181] <NA> <NA> <NA> <NA> <NA> <NA> <NA> <NA> <NA> <NA> <NA> <NA> <NA> <NA> <NA>\n",
              "[196] <NA> <NA> <NA> <NA> <NA> <NA> <NA> <NA> <NA> <NA> <NA> <NA> <NA> <NA> <NA>\n",
              "[211] <NA> <NA> <NA> <NA> <NA> <NA> <NA> <NA> <NA> <NA> <NA> <NA> <NA> <NA> <NA>\n",
              "[226] <NA> <NA> <NA> <NA> <NA> <NA> <NA> <NA> <NA> <NA> <NA> <NA> <NA> <NA> <NA>\n",
              "[241] <NA> <NA> <NA> <NA> <NA> <NA> <NA> <NA> <NA> <NA> <NA> <NA> <NA> <NA> <NA>\n",
              "[256] <NA> <NA> <NA> <NA> <NA> <NA> <NA> <NA> <NA> <NA> <NA> <NA> <NA> <NA> <NA>\n",
              "[271] <NA> <NA> <NA> <NA> <NA> <NA> <NA> <NA> <NA> <NA> <NA> <NA> <NA> <NA> <NA>\n",
              "[286] <NA> <NA> <NA> <NA> <NA> <NA> <NA> <NA> <NA> <NA> <NA> <NA> <NA> <NA> <NA>\n",
              "[301] <NA> <NA> <NA> <NA> <NA> <NA> <NA> <NA> <NA> <NA> <NA> <NA> <NA> <NA> <NA>\n",
              "[316] <NA> <NA> <NA> <NA> <NA> <NA> <NA> <NA> <NA> <NA> <NA> <NA> <NA> <NA> <NA>\n",
              "[331] <NA> <NA> <NA> <NA> <NA> <NA> <NA> <NA> <NA> <NA> <NA> <NA> <NA> <NA> <NA>\n",
              "[346] <NA> <NA> <NA> <NA> <NA> <NA> <NA> <NA> <NA> <NA> <NA> <NA> <NA> <NA> <NA>\n",
              "[361] <NA> <NA> <NA> <NA> <NA> <NA> <NA> <NA> <NA> <NA> <NA> <NA> <NA> <NA> <NA>\n",
              "[376] <NA> <NA> <NA> <NA> <NA> <NA> <NA> <NA> <NA> <NA> <NA> <NA> <NA> <NA> <NA>\n",
              "[391] <NA> <NA> <NA> <NA> <NA> <NA> <NA> <NA> <NA> <NA> <NA> <NA> <NA> <NA> <NA>\n",
              "[406] <NA> <NA> <NA> <NA> <NA> <NA> <NA> <NA> <NA> <NA> <NA> <NA> <NA>\n",
              "Levels: 0 1"
            ],
            "text/latex": "\\begin{enumerate*}\n\\item <NA>\n\\item <NA>\n\\item <NA>\n\\item <NA>\n\\item <NA>\n\\item <NA>\n\\item <NA>\n\\item <NA>\n\\item <NA>\n\\item <NA>\n\\item <NA>\n\\item <NA>\n\\item <NA>\n\\item <NA>\n\\item <NA>\n\\item <NA>\n\\item <NA>\n\\item <NA>\n\\item <NA>\n\\item <NA>\n\\item <NA>\n\\item <NA>\n\\item <NA>\n\\item <NA>\n\\item <NA>\n\\item <NA>\n\\item <NA>\n\\item <NA>\n\\item <NA>\n\\item <NA>\n\\item <NA>\n\\item <NA>\n\\item <NA>\n\\item <NA>\n\\item <NA>\n\\item <NA>\n\\item <NA>\n\\item <NA>\n\\item <NA>\n\\item <NA>\n\\item <NA>\n\\item <NA>\n\\item <NA>\n\\item <NA>\n\\item <NA>\n\\item <NA>\n\\item <NA>\n\\item <NA>\n\\item <NA>\n\\item <NA>\n\\item <NA>\n\\item <NA>\n\\item <NA>\n\\item <NA>\n\\item <NA>\n\\item <NA>\n\\item <NA>\n\\item <NA>\n\\item <NA>\n\\item <NA>\n\\item <NA>\n\\item <NA>\n\\item <NA>\n\\item <NA>\n\\item <NA>\n\\item <NA>\n\\item <NA>\n\\item <NA>\n\\item <NA>\n\\item <NA>\n\\item <NA>\n\\item <NA>\n\\item <NA>\n\\item <NA>\n\\item <NA>\n\\item <NA>\n\\item <NA>\n\\item <NA>\n\\item <NA>\n\\item <NA>\n\\item <NA>\n\\item <NA>\n\\item <NA>\n\\item <NA>\n\\item <NA>\n\\item <NA>\n\\item <NA>\n\\item <NA>\n\\item <NA>\n\\item <NA>\n\\item <NA>\n\\item <NA>\n\\item <NA>\n\\item <NA>\n\\item <NA>\n\\item <NA>\n\\item <NA>\n\\item <NA>\n\\item <NA>\n\\item <NA>\n\\item <NA>\n\\item <NA>\n\\item <NA>\n\\item <NA>\n\\item <NA>\n\\item <NA>\n\\item <NA>\n\\item <NA>\n\\item <NA>\n\\item <NA>\n\\item <NA>\n\\item <NA>\n\\item <NA>\n\\item <NA>\n\\item <NA>\n\\item <NA>\n\\item <NA>\n\\item <NA>\n\\item <NA>\n\\item <NA>\n\\item <NA>\n\\item <NA>\n\\item <NA>\n\\item <NA>\n\\item <NA>\n\\item <NA>\n\\item <NA>\n\\item <NA>\n\\item <NA>\n\\item <NA>\n\\item <NA>\n\\item <NA>\n\\item <NA>\n\\item <NA>\n\\item <NA>\n\\item <NA>\n\\item <NA>\n\\item <NA>\n\\item <NA>\n\\item <NA>\n\\item <NA>\n\\item <NA>\n\\item <NA>\n\\item <NA>\n\\item <NA>\n\\item <NA>\n\\item <NA>\n\\item <NA>\n\\item <NA>\n\\item <NA>\n\\item <NA>\n\\item <NA>\n\\item <NA>\n\\item <NA>\n\\item <NA>\n\\item <NA>\n\\item <NA>\n\\item <NA>\n\\item <NA>\n\\item <NA>\n\\item <NA>\n\\item <NA>\n\\item <NA>\n\\item <NA>\n\\item <NA>\n\\item <NA>\n\\item <NA>\n\\item <NA>\n\\item <NA>\n\\item <NA>\n\\item <NA>\n\\item <NA>\n\\item <NA>\n\\item <NA>\n\\item <NA>\n\\item <NA>\n\\item <NA>\n\\item <NA>\n\\item <NA>\n\\item <NA>\n\\item <NA>\n\\item <NA>\n\\item <NA>\n\\item <NA>\n\\item <NA>\n\\item <NA>\n\\item <NA>\n\\item <NA>\n\\item <NA>\n\\item <NA>\n\\item <NA>\n\\item <NA>\n\\item <NA>\n\\item <NA>\n\\item <NA>\n\\item <NA>\n\\item <NA>\n\\item <NA>\n\\item <NA>\n\\item <NA>\n\\item ⋯\n\\item <NA>\n\\item <NA>\n\\item <NA>\n\\item <NA>\n\\item <NA>\n\\item <NA>\n\\item <NA>\n\\item <NA>\n\\item <NA>\n\\item <NA>\n\\item <NA>\n\\item <NA>\n\\item <NA>\n\\item <NA>\n\\item <NA>\n\\item <NA>\n\\item <NA>\n\\item <NA>\n\\item <NA>\n\\item <NA>\n\\item <NA>\n\\item <NA>\n\\item <NA>\n\\item <NA>\n\\item <NA>\n\\item <NA>\n\\item <NA>\n\\item <NA>\n\\item <NA>\n\\item <NA>\n\\item <NA>\n\\item <NA>\n\\item <NA>\n\\item <NA>\n\\item <NA>\n\\item <NA>\n\\item <NA>\n\\item <NA>\n\\item <NA>\n\\item <NA>\n\\item <NA>\n\\item <NA>\n\\item <NA>\n\\item <NA>\n\\item <NA>\n\\item <NA>\n\\item <NA>\n\\item <NA>\n\\item <NA>\n\\item <NA>\n\\item <NA>\n\\item <NA>\n\\item <NA>\n\\item <NA>\n\\item <NA>\n\\item <NA>\n\\item <NA>\n\\item <NA>\n\\item <NA>\n\\item <NA>\n\\item <NA>\n\\item <NA>\n\\item <NA>\n\\item <NA>\n\\item <NA>\n\\item <NA>\n\\item <NA>\n\\item <NA>\n\\item <NA>\n\\item <NA>\n\\item <NA>\n\\item <NA>\n\\item <NA>\n\\item <NA>\n\\item <NA>\n\\item <NA>\n\\item <NA>\n\\item <NA>\n\\item <NA>\n\\item <NA>\n\\item <NA>\n\\item <NA>\n\\item <NA>\n\\item <NA>\n\\item <NA>\n\\item <NA>\n\\item <NA>\n\\item <NA>\n\\item <NA>\n\\item <NA>\n\\item <NA>\n\\item <NA>\n\\item <NA>\n\\item <NA>\n\\item <NA>\n\\item <NA>\n\\item <NA>\n\\item <NA>\n\\item <NA>\n\\item <NA>\n\\item <NA>\n\\item <NA>\n\\item <NA>\n\\item <NA>\n\\item <NA>\n\\item <NA>\n\\item <NA>\n\\item <NA>\n\\item <NA>\n\\item <NA>\n\\item <NA>\n\\item <NA>\n\\item <NA>\n\\item <NA>\n\\item <NA>\n\\item <NA>\n\\item <NA>\n\\item <NA>\n\\item <NA>\n\\item <NA>\n\\item <NA>\n\\item <NA>\n\\item <NA>\n\\item <NA>\n\\item <NA>\n\\item <NA>\n\\item <NA>\n\\item <NA>\n\\item <NA>\n\\item <NA>\n\\item <NA>\n\\item <NA>\n\\item <NA>\n\\item <NA>\n\\item <NA>\n\\item <NA>\n\\item <NA>\n\\item <NA>\n\\item <NA>\n\\item <NA>\n\\item <NA>\n\\item <NA>\n\\item <NA>\n\\item <NA>\n\\item <NA>\n\\item <NA>\n\\item <NA>\n\\item <NA>\n\\item <NA>\n\\item <NA>\n\\item <NA>\n\\item <NA>\n\\item <NA>\n\\item <NA>\n\\item <NA>\n\\item <NA>\n\\item <NA>\n\\item <NA>\n\\item <NA>\n\\item <NA>\n\\item <NA>\n\\item <NA>\n\\item <NA>\n\\item <NA>\n\\item <NA>\n\\item <NA>\n\\item <NA>\n\\item <NA>\n\\item <NA>\n\\item <NA>\n\\item <NA>\n\\item <NA>\n\\item <NA>\n\\item <NA>\n\\item <NA>\n\\item <NA>\n\\item <NA>\n\\item <NA>\n\\item <NA>\n\\item <NA>\n\\item <NA>\n\\item <NA>\n\\item <NA>\n\\item <NA>\n\\item <NA>\n\\item <NA>\n\\item <NA>\n\\item <NA>\n\\item <NA>\n\\item <NA>\n\\item <NA>\n\\item <NA>\n\\item <NA>\n\\item <NA>\n\\item <NA>\n\\item <NA>\n\\item <NA>\n\\item <NA>\n\\item <NA>\n\\item <NA>\n\\end{enumerate*}\n\n\\emph{Levels}: \\begin{enumerate*}\n\\item '0'\n\\item '1'\n\\end{enumerate*}\n",
            "text/markdown": "1. &lt;NA&gt;\n2. &lt;NA&gt;\n3. &lt;NA&gt;\n4. &lt;NA&gt;\n5. &lt;NA&gt;\n6. &lt;NA&gt;\n7. &lt;NA&gt;\n8. &lt;NA&gt;\n9. &lt;NA&gt;\n10. &lt;NA&gt;\n11. &lt;NA&gt;\n12. &lt;NA&gt;\n13. &lt;NA&gt;\n14. &lt;NA&gt;\n15. &lt;NA&gt;\n16. &lt;NA&gt;\n17. &lt;NA&gt;\n18. &lt;NA&gt;\n19. &lt;NA&gt;\n20. &lt;NA&gt;\n21. &lt;NA&gt;\n22. &lt;NA&gt;\n23. &lt;NA&gt;\n24. &lt;NA&gt;\n25. &lt;NA&gt;\n26. &lt;NA&gt;\n27. &lt;NA&gt;\n28. &lt;NA&gt;\n29. &lt;NA&gt;\n30. &lt;NA&gt;\n31. &lt;NA&gt;\n32. &lt;NA&gt;\n33. &lt;NA&gt;\n34. &lt;NA&gt;\n35. &lt;NA&gt;\n36. &lt;NA&gt;\n37. &lt;NA&gt;\n38. &lt;NA&gt;\n39. &lt;NA&gt;\n40. &lt;NA&gt;\n41. &lt;NA&gt;\n42. &lt;NA&gt;\n43. &lt;NA&gt;\n44. &lt;NA&gt;\n45. &lt;NA&gt;\n46. &lt;NA&gt;\n47. &lt;NA&gt;\n48. &lt;NA&gt;\n49. &lt;NA&gt;\n50. &lt;NA&gt;\n51. &lt;NA&gt;\n52. &lt;NA&gt;\n53. &lt;NA&gt;\n54. &lt;NA&gt;\n55. &lt;NA&gt;\n56. &lt;NA&gt;\n57. &lt;NA&gt;\n58. &lt;NA&gt;\n59. &lt;NA&gt;\n60. &lt;NA&gt;\n61. &lt;NA&gt;\n62. &lt;NA&gt;\n63. &lt;NA&gt;\n64. &lt;NA&gt;\n65. &lt;NA&gt;\n66. &lt;NA&gt;\n67. &lt;NA&gt;\n68. &lt;NA&gt;\n69. &lt;NA&gt;\n70. &lt;NA&gt;\n71. &lt;NA&gt;\n72. &lt;NA&gt;\n73. &lt;NA&gt;\n74. &lt;NA&gt;\n75. &lt;NA&gt;\n76. &lt;NA&gt;\n77. &lt;NA&gt;\n78. &lt;NA&gt;\n79. &lt;NA&gt;\n80. &lt;NA&gt;\n81. &lt;NA&gt;\n82. &lt;NA&gt;\n83. &lt;NA&gt;\n84. &lt;NA&gt;\n85. &lt;NA&gt;\n86. &lt;NA&gt;\n87. &lt;NA&gt;\n88. &lt;NA&gt;\n89. &lt;NA&gt;\n90. &lt;NA&gt;\n91. &lt;NA&gt;\n92. &lt;NA&gt;\n93. &lt;NA&gt;\n94. &lt;NA&gt;\n95. &lt;NA&gt;\n96. &lt;NA&gt;\n97. &lt;NA&gt;\n98. &lt;NA&gt;\n99. &lt;NA&gt;\n100. &lt;NA&gt;\n101. &lt;NA&gt;\n102. &lt;NA&gt;\n103. &lt;NA&gt;\n104. &lt;NA&gt;\n105. &lt;NA&gt;\n106. &lt;NA&gt;\n107. &lt;NA&gt;\n108. &lt;NA&gt;\n109. &lt;NA&gt;\n110. &lt;NA&gt;\n111. &lt;NA&gt;\n112. &lt;NA&gt;\n113. &lt;NA&gt;\n114. &lt;NA&gt;\n115. &lt;NA&gt;\n116. &lt;NA&gt;\n117. &lt;NA&gt;\n118. &lt;NA&gt;\n119. &lt;NA&gt;\n120. &lt;NA&gt;\n121. &lt;NA&gt;\n122. &lt;NA&gt;\n123. &lt;NA&gt;\n124. &lt;NA&gt;\n125. &lt;NA&gt;\n126. &lt;NA&gt;\n127. &lt;NA&gt;\n128. &lt;NA&gt;\n129. &lt;NA&gt;\n130. &lt;NA&gt;\n131. &lt;NA&gt;\n132. &lt;NA&gt;\n133. &lt;NA&gt;\n134. &lt;NA&gt;\n135. &lt;NA&gt;\n136. &lt;NA&gt;\n137. &lt;NA&gt;\n138. &lt;NA&gt;\n139. &lt;NA&gt;\n140. &lt;NA&gt;\n141. &lt;NA&gt;\n142. &lt;NA&gt;\n143. &lt;NA&gt;\n144. &lt;NA&gt;\n145. &lt;NA&gt;\n146. &lt;NA&gt;\n147. &lt;NA&gt;\n148. &lt;NA&gt;\n149. &lt;NA&gt;\n150. &lt;NA&gt;\n151. &lt;NA&gt;\n152. &lt;NA&gt;\n153. &lt;NA&gt;\n154. &lt;NA&gt;\n155. &lt;NA&gt;\n156. &lt;NA&gt;\n157. &lt;NA&gt;\n158. &lt;NA&gt;\n159. &lt;NA&gt;\n160. &lt;NA&gt;\n161. &lt;NA&gt;\n162. &lt;NA&gt;\n163. &lt;NA&gt;\n164. &lt;NA&gt;\n165. &lt;NA&gt;\n166. &lt;NA&gt;\n167. &lt;NA&gt;\n168. &lt;NA&gt;\n169. &lt;NA&gt;\n170. &lt;NA&gt;\n171. &lt;NA&gt;\n172. &lt;NA&gt;\n173. &lt;NA&gt;\n174. &lt;NA&gt;\n175. &lt;NA&gt;\n176. &lt;NA&gt;\n177. &lt;NA&gt;\n178. &lt;NA&gt;\n179. &lt;NA&gt;\n180. &lt;NA&gt;\n181. &lt;NA&gt;\n182. &lt;NA&gt;\n183. &lt;NA&gt;\n184. &lt;NA&gt;\n185. &lt;NA&gt;\n186. &lt;NA&gt;\n187. &lt;NA&gt;\n188. &lt;NA&gt;\n189. &lt;NA&gt;\n190. &lt;NA&gt;\n191. &lt;NA&gt;\n192. &lt;NA&gt;\n193. &lt;NA&gt;\n194. &lt;NA&gt;\n195. &lt;NA&gt;\n196. &lt;NA&gt;\n197. &lt;NA&gt;\n198. &lt;NA&gt;\n199. &lt;NA&gt;\n200. &lt;NA&gt;\n201. ⋯\n202. &lt;NA&gt;\n203. &lt;NA&gt;\n204. &lt;NA&gt;\n205. &lt;NA&gt;\n206. &lt;NA&gt;\n207. &lt;NA&gt;\n208. &lt;NA&gt;\n209. &lt;NA&gt;\n210. &lt;NA&gt;\n211. &lt;NA&gt;\n212. &lt;NA&gt;\n213. &lt;NA&gt;\n214. &lt;NA&gt;\n215. &lt;NA&gt;\n216. &lt;NA&gt;\n217. &lt;NA&gt;\n218. &lt;NA&gt;\n219. &lt;NA&gt;\n220. &lt;NA&gt;\n221. &lt;NA&gt;\n222. &lt;NA&gt;\n223. &lt;NA&gt;\n224. &lt;NA&gt;\n225. &lt;NA&gt;\n226. &lt;NA&gt;\n227. &lt;NA&gt;\n228. &lt;NA&gt;\n229. &lt;NA&gt;\n230. &lt;NA&gt;\n231. &lt;NA&gt;\n232. &lt;NA&gt;\n233. &lt;NA&gt;\n234. &lt;NA&gt;\n235. &lt;NA&gt;\n236. &lt;NA&gt;\n237. &lt;NA&gt;\n238. &lt;NA&gt;\n239. &lt;NA&gt;\n240. &lt;NA&gt;\n241. &lt;NA&gt;\n242. &lt;NA&gt;\n243. &lt;NA&gt;\n244. &lt;NA&gt;\n245. &lt;NA&gt;\n246. &lt;NA&gt;\n247. &lt;NA&gt;\n248. &lt;NA&gt;\n249. &lt;NA&gt;\n250. &lt;NA&gt;\n251. &lt;NA&gt;\n252. &lt;NA&gt;\n253. &lt;NA&gt;\n254. &lt;NA&gt;\n255. &lt;NA&gt;\n256. &lt;NA&gt;\n257. &lt;NA&gt;\n258. &lt;NA&gt;\n259. &lt;NA&gt;\n260. &lt;NA&gt;\n261. &lt;NA&gt;\n262. &lt;NA&gt;\n263. &lt;NA&gt;\n264. &lt;NA&gt;\n265. &lt;NA&gt;\n266. &lt;NA&gt;\n267. &lt;NA&gt;\n268. &lt;NA&gt;\n269. &lt;NA&gt;\n270. &lt;NA&gt;\n271. &lt;NA&gt;\n272. &lt;NA&gt;\n273. &lt;NA&gt;\n274. &lt;NA&gt;\n275. &lt;NA&gt;\n276. &lt;NA&gt;\n277. &lt;NA&gt;\n278. &lt;NA&gt;\n279. &lt;NA&gt;\n280. &lt;NA&gt;\n281. &lt;NA&gt;\n282. &lt;NA&gt;\n283. &lt;NA&gt;\n284. &lt;NA&gt;\n285. &lt;NA&gt;\n286. &lt;NA&gt;\n287. &lt;NA&gt;\n288. &lt;NA&gt;\n289. &lt;NA&gt;\n290. &lt;NA&gt;\n291. &lt;NA&gt;\n292. &lt;NA&gt;\n293. &lt;NA&gt;\n294. &lt;NA&gt;\n295. &lt;NA&gt;\n296. &lt;NA&gt;\n297. &lt;NA&gt;\n298. &lt;NA&gt;\n299. &lt;NA&gt;\n300. &lt;NA&gt;\n301. &lt;NA&gt;\n302. &lt;NA&gt;\n303. &lt;NA&gt;\n304. &lt;NA&gt;\n305. &lt;NA&gt;\n306. &lt;NA&gt;\n307. &lt;NA&gt;\n308. &lt;NA&gt;\n309. &lt;NA&gt;\n310. &lt;NA&gt;\n311. &lt;NA&gt;\n312. &lt;NA&gt;\n313. &lt;NA&gt;\n314. &lt;NA&gt;\n315. &lt;NA&gt;\n316. &lt;NA&gt;\n317. &lt;NA&gt;\n318. &lt;NA&gt;\n319. &lt;NA&gt;\n320. &lt;NA&gt;\n321. &lt;NA&gt;\n322. &lt;NA&gt;\n323. &lt;NA&gt;\n324. &lt;NA&gt;\n325. &lt;NA&gt;\n326. &lt;NA&gt;\n327. &lt;NA&gt;\n328. &lt;NA&gt;\n329. &lt;NA&gt;\n330. &lt;NA&gt;\n331. &lt;NA&gt;\n332. &lt;NA&gt;\n333. &lt;NA&gt;\n334. &lt;NA&gt;\n335. &lt;NA&gt;\n336. &lt;NA&gt;\n337. &lt;NA&gt;\n338. &lt;NA&gt;\n339. &lt;NA&gt;\n340. &lt;NA&gt;\n341. &lt;NA&gt;\n342. &lt;NA&gt;\n343. &lt;NA&gt;\n344. &lt;NA&gt;\n345. &lt;NA&gt;\n346. &lt;NA&gt;\n347. &lt;NA&gt;\n348. &lt;NA&gt;\n349. &lt;NA&gt;\n350. &lt;NA&gt;\n351. &lt;NA&gt;\n352. &lt;NA&gt;\n353. &lt;NA&gt;\n354. &lt;NA&gt;\n355. &lt;NA&gt;\n356. &lt;NA&gt;\n357. &lt;NA&gt;\n358. &lt;NA&gt;\n359. &lt;NA&gt;\n360. &lt;NA&gt;\n361. &lt;NA&gt;\n362. &lt;NA&gt;\n363. &lt;NA&gt;\n364. &lt;NA&gt;\n365. &lt;NA&gt;\n366. &lt;NA&gt;\n367. &lt;NA&gt;\n368. &lt;NA&gt;\n369. &lt;NA&gt;\n370. &lt;NA&gt;\n371. &lt;NA&gt;\n372. &lt;NA&gt;\n373. &lt;NA&gt;\n374. &lt;NA&gt;\n375. &lt;NA&gt;\n376. &lt;NA&gt;\n377. &lt;NA&gt;\n378. &lt;NA&gt;\n379. &lt;NA&gt;\n380. &lt;NA&gt;\n381. &lt;NA&gt;\n382. &lt;NA&gt;\n383. &lt;NA&gt;\n384. &lt;NA&gt;\n385. &lt;NA&gt;\n386. &lt;NA&gt;\n387. &lt;NA&gt;\n388. &lt;NA&gt;\n389. &lt;NA&gt;\n390. &lt;NA&gt;\n391. &lt;NA&gt;\n392. &lt;NA&gt;\n393. &lt;NA&gt;\n394. &lt;NA&gt;\n395. &lt;NA&gt;\n396. &lt;NA&gt;\n397. &lt;NA&gt;\n398. &lt;NA&gt;\n399. &lt;NA&gt;\n400. &lt;NA&gt;\n401. &lt;NA&gt;\n\n\n\n**Levels**: 1. '0'\n2. '1'\n\n\n",
            "text/html": [
              "<style>\n",
              ".list-inline {list-style: none; margin:0; padding: 0}\n",
              ".list-inline>li {display: inline-block}\n",
              ".list-inline>li:not(:last-child)::after {content: \"\\00b7\"; padding: 0 .5ex}\n",
              "</style>\n",
              "<ol class=list-inline><li>&lt;NA&gt;</li><li>&lt;NA&gt;</li><li>&lt;NA&gt;</li><li>&lt;NA&gt;</li><li>&lt;NA&gt;</li><li>&lt;NA&gt;</li><li>&lt;NA&gt;</li><li>&lt;NA&gt;</li><li>&lt;NA&gt;</li><li>&lt;NA&gt;</li><li>&lt;NA&gt;</li><li>&lt;NA&gt;</li><li>&lt;NA&gt;</li><li>&lt;NA&gt;</li><li>&lt;NA&gt;</li><li>&lt;NA&gt;</li><li>&lt;NA&gt;</li><li>&lt;NA&gt;</li><li>&lt;NA&gt;</li><li>&lt;NA&gt;</li><li>&lt;NA&gt;</li><li>&lt;NA&gt;</li><li>&lt;NA&gt;</li><li>&lt;NA&gt;</li><li>&lt;NA&gt;</li><li>&lt;NA&gt;</li><li>&lt;NA&gt;</li><li>&lt;NA&gt;</li><li>&lt;NA&gt;</li><li>&lt;NA&gt;</li><li>&lt;NA&gt;</li><li>&lt;NA&gt;</li><li>&lt;NA&gt;</li><li>&lt;NA&gt;</li><li>&lt;NA&gt;</li><li>&lt;NA&gt;</li><li>&lt;NA&gt;</li><li>&lt;NA&gt;</li><li>&lt;NA&gt;</li><li>&lt;NA&gt;</li><li>&lt;NA&gt;</li><li>&lt;NA&gt;</li><li>&lt;NA&gt;</li><li>&lt;NA&gt;</li><li>&lt;NA&gt;</li><li>&lt;NA&gt;</li><li>&lt;NA&gt;</li><li>&lt;NA&gt;</li><li>&lt;NA&gt;</li><li>&lt;NA&gt;</li><li>&lt;NA&gt;</li><li>&lt;NA&gt;</li><li>&lt;NA&gt;</li><li>&lt;NA&gt;</li><li>&lt;NA&gt;</li><li>&lt;NA&gt;</li><li>&lt;NA&gt;</li><li>&lt;NA&gt;</li><li>&lt;NA&gt;</li><li>&lt;NA&gt;</li><li>&lt;NA&gt;</li><li>&lt;NA&gt;</li><li>&lt;NA&gt;</li><li>&lt;NA&gt;</li><li>&lt;NA&gt;</li><li>&lt;NA&gt;</li><li>&lt;NA&gt;</li><li>&lt;NA&gt;</li><li>&lt;NA&gt;</li><li>&lt;NA&gt;</li><li>&lt;NA&gt;</li><li>&lt;NA&gt;</li><li>&lt;NA&gt;</li><li>&lt;NA&gt;</li><li>&lt;NA&gt;</li><li>&lt;NA&gt;</li><li>&lt;NA&gt;</li><li>&lt;NA&gt;</li><li>&lt;NA&gt;</li><li>&lt;NA&gt;</li><li>&lt;NA&gt;</li><li>&lt;NA&gt;</li><li>&lt;NA&gt;</li><li>&lt;NA&gt;</li><li>&lt;NA&gt;</li><li>&lt;NA&gt;</li><li>&lt;NA&gt;</li><li>&lt;NA&gt;</li><li>&lt;NA&gt;</li><li>&lt;NA&gt;</li><li>&lt;NA&gt;</li><li>&lt;NA&gt;</li><li>&lt;NA&gt;</li><li>&lt;NA&gt;</li><li>&lt;NA&gt;</li><li>&lt;NA&gt;</li><li>&lt;NA&gt;</li><li>&lt;NA&gt;</li><li>&lt;NA&gt;</li><li>&lt;NA&gt;</li><li>&lt;NA&gt;</li><li>&lt;NA&gt;</li><li>&lt;NA&gt;</li><li>&lt;NA&gt;</li><li>&lt;NA&gt;</li><li>&lt;NA&gt;</li><li>&lt;NA&gt;</li><li>&lt;NA&gt;</li><li>&lt;NA&gt;</li><li>&lt;NA&gt;</li><li>&lt;NA&gt;</li><li>&lt;NA&gt;</li><li>&lt;NA&gt;</li><li>&lt;NA&gt;</li><li>&lt;NA&gt;</li><li>&lt;NA&gt;</li><li>&lt;NA&gt;</li><li>&lt;NA&gt;</li><li>&lt;NA&gt;</li><li>&lt;NA&gt;</li><li>&lt;NA&gt;</li><li>&lt;NA&gt;</li><li>&lt;NA&gt;</li><li>&lt;NA&gt;</li><li>&lt;NA&gt;</li><li>&lt;NA&gt;</li><li>&lt;NA&gt;</li><li>&lt;NA&gt;</li><li>&lt;NA&gt;</li><li>&lt;NA&gt;</li><li>&lt;NA&gt;</li><li>&lt;NA&gt;</li><li>&lt;NA&gt;</li><li>&lt;NA&gt;</li><li>&lt;NA&gt;</li><li>&lt;NA&gt;</li><li>&lt;NA&gt;</li><li>&lt;NA&gt;</li><li>&lt;NA&gt;</li><li>&lt;NA&gt;</li><li>&lt;NA&gt;</li><li>&lt;NA&gt;</li><li>&lt;NA&gt;</li><li>&lt;NA&gt;</li><li>&lt;NA&gt;</li><li>&lt;NA&gt;</li><li>&lt;NA&gt;</li><li>&lt;NA&gt;</li><li>&lt;NA&gt;</li><li>&lt;NA&gt;</li><li>&lt;NA&gt;</li><li>&lt;NA&gt;</li><li>&lt;NA&gt;</li><li>&lt;NA&gt;</li><li>&lt;NA&gt;</li><li>&lt;NA&gt;</li><li>&lt;NA&gt;</li><li>&lt;NA&gt;</li><li>&lt;NA&gt;</li><li>&lt;NA&gt;</li><li>&lt;NA&gt;</li><li>&lt;NA&gt;</li><li>&lt;NA&gt;</li><li>&lt;NA&gt;</li><li>&lt;NA&gt;</li><li>&lt;NA&gt;</li><li>&lt;NA&gt;</li><li>&lt;NA&gt;</li><li>&lt;NA&gt;</li><li>&lt;NA&gt;</li><li>&lt;NA&gt;</li><li>&lt;NA&gt;</li><li>&lt;NA&gt;</li><li>&lt;NA&gt;</li><li>&lt;NA&gt;</li><li>&lt;NA&gt;</li><li>&lt;NA&gt;</li><li>&lt;NA&gt;</li><li>&lt;NA&gt;</li><li>&lt;NA&gt;</li><li>&lt;NA&gt;</li><li>&lt;NA&gt;</li><li>&lt;NA&gt;</li><li>&lt;NA&gt;</li><li>&lt;NA&gt;</li><li>&lt;NA&gt;</li><li>&lt;NA&gt;</li><li>&lt;NA&gt;</li><li>&lt;NA&gt;</li><li>&lt;NA&gt;</li><li>&lt;NA&gt;</li><li>&lt;NA&gt;</li><li>&lt;NA&gt;</li><li>&lt;NA&gt;</li><li>&lt;NA&gt;</li><li>&lt;NA&gt;</li><li>&lt;NA&gt;</li><li>&lt;NA&gt;</li><li>&lt;NA&gt;</li><li>&lt;NA&gt;</li><li>⋯</li><li>&lt;NA&gt;</li><li>&lt;NA&gt;</li><li>&lt;NA&gt;</li><li>&lt;NA&gt;</li><li>&lt;NA&gt;</li><li>&lt;NA&gt;</li><li>&lt;NA&gt;</li><li>&lt;NA&gt;</li><li>&lt;NA&gt;</li><li>&lt;NA&gt;</li><li>&lt;NA&gt;</li><li>&lt;NA&gt;</li><li>&lt;NA&gt;</li><li>&lt;NA&gt;</li><li>&lt;NA&gt;</li><li>&lt;NA&gt;</li><li>&lt;NA&gt;</li><li>&lt;NA&gt;</li><li>&lt;NA&gt;</li><li>&lt;NA&gt;</li><li>&lt;NA&gt;</li><li>&lt;NA&gt;</li><li>&lt;NA&gt;</li><li>&lt;NA&gt;</li><li>&lt;NA&gt;</li><li>&lt;NA&gt;</li><li>&lt;NA&gt;</li><li>&lt;NA&gt;</li><li>&lt;NA&gt;</li><li>&lt;NA&gt;</li><li>&lt;NA&gt;</li><li>&lt;NA&gt;</li><li>&lt;NA&gt;</li><li>&lt;NA&gt;</li><li>&lt;NA&gt;</li><li>&lt;NA&gt;</li><li>&lt;NA&gt;</li><li>&lt;NA&gt;</li><li>&lt;NA&gt;</li><li>&lt;NA&gt;</li><li>&lt;NA&gt;</li><li>&lt;NA&gt;</li><li>&lt;NA&gt;</li><li>&lt;NA&gt;</li><li>&lt;NA&gt;</li><li>&lt;NA&gt;</li><li>&lt;NA&gt;</li><li>&lt;NA&gt;</li><li>&lt;NA&gt;</li><li>&lt;NA&gt;</li><li>&lt;NA&gt;</li><li>&lt;NA&gt;</li><li>&lt;NA&gt;</li><li>&lt;NA&gt;</li><li>&lt;NA&gt;</li><li>&lt;NA&gt;</li><li>&lt;NA&gt;</li><li>&lt;NA&gt;</li><li>&lt;NA&gt;</li><li>&lt;NA&gt;</li><li>&lt;NA&gt;</li><li>&lt;NA&gt;</li><li>&lt;NA&gt;</li><li>&lt;NA&gt;</li><li>&lt;NA&gt;</li><li>&lt;NA&gt;</li><li>&lt;NA&gt;</li><li>&lt;NA&gt;</li><li>&lt;NA&gt;</li><li>&lt;NA&gt;</li><li>&lt;NA&gt;</li><li>&lt;NA&gt;</li><li>&lt;NA&gt;</li><li>&lt;NA&gt;</li><li>&lt;NA&gt;</li><li>&lt;NA&gt;</li><li>&lt;NA&gt;</li><li>&lt;NA&gt;</li><li>&lt;NA&gt;</li><li>&lt;NA&gt;</li><li>&lt;NA&gt;</li><li>&lt;NA&gt;</li><li>&lt;NA&gt;</li><li>&lt;NA&gt;</li><li>&lt;NA&gt;</li><li>&lt;NA&gt;</li><li>&lt;NA&gt;</li><li>&lt;NA&gt;</li><li>&lt;NA&gt;</li><li>&lt;NA&gt;</li><li>&lt;NA&gt;</li><li>&lt;NA&gt;</li><li>&lt;NA&gt;</li><li>&lt;NA&gt;</li><li>&lt;NA&gt;</li><li>&lt;NA&gt;</li><li>&lt;NA&gt;</li><li>&lt;NA&gt;</li><li>&lt;NA&gt;</li><li>&lt;NA&gt;</li><li>&lt;NA&gt;</li><li>&lt;NA&gt;</li><li>&lt;NA&gt;</li><li>&lt;NA&gt;</li><li>&lt;NA&gt;</li><li>&lt;NA&gt;</li><li>&lt;NA&gt;</li><li>&lt;NA&gt;</li><li>&lt;NA&gt;</li><li>&lt;NA&gt;</li><li>&lt;NA&gt;</li><li>&lt;NA&gt;</li><li>&lt;NA&gt;</li><li>&lt;NA&gt;</li><li>&lt;NA&gt;</li><li>&lt;NA&gt;</li><li>&lt;NA&gt;</li><li>&lt;NA&gt;</li><li>&lt;NA&gt;</li><li>&lt;NA&gt;</li><li>&lt;NA&gt;</li><li>&lt;NA&gt;</li><li>&lt;NA&gt;</li><li>&lt;NA&gt;</li><li>&lt;NA&gt;</li><li>&lt;NA&gt;</li><li>&lt;NA&gt;</li><li>&lt;NA&gt;</li><li>&lt;NA&gt;</li><li>&lt;NA&gt;</li><li>&lt;NA&gt;</li><li>&lt;NA&gt;</li><li>&lt;NA&gt;</li><li>&lt;NA&gt;</li><li>&lt;NA&gt;</li><li>&lt;NA&gt;</li><li>&lt;NA&gt;</li><li>&lt;NA&gt;</li><li>&lt;NA&gt;</li><li>&lt;NA&gt;</li><li>&lt;NA&gt;</li><li>&lt;NA&gt;</li><li>&lt;NA&gt;</li><li>&lt;NA&gt;</li><li>&lt;NA&gt;</li><li>&lt;NA&gt;</li><li>&lt;NA&gt;</li><li>&lt;NA&gt;</li><li>&lt;NA&gt;</li><li>&lt;NA&gt;</li><li>&lt;NA&gt;</li><li>&lt;NA&gt;</li><li>&lt;NA&gt;</li><li>&lt;NA&gt;</li><li>&lt;NA&gt;</li><li>&lt;NA&gt;</li><li>&lt;NA&gt;</li><li>&lt;NA&gt;</li><li>&lt;NA&gt;</li><li>&lt;NA&gt;</li><li>&lt;NA&gt;</li><li>&lt;NA&gt;</li><li>&lt;NA&gt;</li><li>&lt;NA&gt;</li><li>&lt;NA&gt;</li><li>&lt;NA&gt;</li><li>&lt;NA&gt;</li><li>&lt;NA&gt;</li><li>&lt;NA&gt;</li><li>&lt;NA&gt;</li><li>&lt;NA&gt;</li><li>&lt;NA&gt;</li><li>&lt;NA&gt;</li><li>&lt;NA&gt;</li><li>&lt;NA&gt;</li><li>&lt;NA&gt;</li><li>&lt;NA&gt;</li><li>&lt;NA&gt;</li><li>&lt;NA&gt;</li><li>&lt;NA&gt;</li><li>&lt;NA&gt;</li><li>&lt;NA&gt;</li><li>&lt;NA&gt;</li><li>&lt;NA&gt;</li><li>&lt;NA&gt;</li><li>&lt;NA&gt;</li><li>&lt;NA&gt;</li><li>&lt;NA&gt;</li><li>&lt;NA&gt;</li><li>&lt;NA&gt;</li><li>&lt;NA&gt;</li><li>&lt;NA&gt;</li><li>&lt;NA&gt;</li><li>&lt;NA&gt;</li><li>&lt;NA&gt;</li><li>&lt;NA&gt;</li><li>&lt;NA&gt;</li><li>&lt;NA&gt;</li><li>&lt;NA&gt;</li><li>&lt;NA&gt;</li></ol>\n",
              "\n",
              "<details>\n",
              "\t<summary style=display:list-item;cursor:pointer>\n",
              "\t\t<strong>Levels</strong>:\n",
              "\t</summary>\n",
              "\t<style>\n",
              "\t.list-inline {list-style: none; margin:0; padding: 0}\n",
              "\t.list-inline>li {display: inline-block}\n",
              "\t.list-inline>li:not(:last-child)::after {content: \"\\00b7\"; padding: 0 .5ex}\n",
              "\t</style>\n",
              "\t<ol class=list-inline><li>'0'</li><li>'1'</li></ol>\n",
              "</details>"
            ]
          },
          "metadata": {
            "tags": []
          }
        }
      ]
    },
    {
      "cell_type": "code",
      "metadata": {
        "id": "57IcC9NgWwhn",
        "colab": {
          "base_uri": "https://localhost:8080/",
          "height": 1000
        },
        "outputId": "9c583041-54bc-4a46-a020-fa9ce16b92ec"
      },
      "source": [
        "#Building a predictive model \n",
        "eqtn <- \"Survived ~ Pclass + Sex + Age + SibSp + Parch + Fare + Embarked\"\n",
        "formula <- as.formula(eqtn)\n",
        "\n",
        "t_model <- randomForest(formula, t_train, ntree = 500, mtry = 3, nodesize = 0.01 * nrow(t_train))\n",
        "\n",
        "features_eqtn <- \"Pclass + Sex + Age + SibSp + Parch + Fare + Embarked\"\n",
        "Survived <- predict(t_model, newdata = t_test)\n",
        "\n",
        "PassengerId <- t_test$PassengerId\n",
        "final_df <- as.data.frame(PassengerId)\n",
        "final_df$Survived <- Survived\n",
        "\n",
        "final_df"
      ],
      "execution_count": 28,
      "outputs": [
        {
          "output_type": "error",
          "ename": "ERROR",
          "evalue": "ignored",
          "traceback": [
            "Error in na.fail.default(structure(list(Survived = c(0, 1, 1, 1, 0, 0, : missing values in object\nTraceback:\n",
            "1. randomForest(formula, t_train, ntree = 500, mtry = 3, nodesize = 0.01 * \n .     nrow(t_train))",
            "2. randomForest.formula(formula, t_train, ntree = 500, mtry = 3, \n .     nodesize = 0.01 * nrow(t_train))",
            "3. eval(m, parent.frame())",
            "4. eval(m, parent.frame())",
            "5. model.frame(formula = formula, data = t_train, na.action = function (object, \n .     ...) \n . UseMethod(\"na.fail\"))",
            "6. model.frame.default(formula = formula, data = t_train, na.action = function (object, \n .     ...) \n . UseMethod(\"na.fail\"))",
            "7. (function (object, ...) \n . UseMethod(\"na.fail\"))(structure(list(Survived = c(0, 1, 1, 1, \n . 0, 0, 0, 0, 1, 1, 1, 1, 0, 0, 0, 1, 0, 1, 0, 1, 0, 1, 1, 1, 0, \n . 1, 0, 0, 1, 0, 0, 1, 1, 0, 0, 0, 1, 0, 0, 1, 0, 0, 0, 1, 1, 0, \n . 0, 1, 0, 0, 0, 0, 1, 1, 0, 1, 1, 0, 1, 0, 0, 1, 0, 0, 0, 1, 1, \n . 0, 1, 0, 0, 0, 0, 0, 1, 0, 0, 0, 1, 1, 0, 1, 1, 0, 1, 1, 0, 0, \n . 1, 0, 0, 0, 0, 0, 0, 0, 0, 1, 1, 0, 0, 0, 0, 0, 0, 0, 1, 1, 0, \n . 1, 0, 0, 0, 0, 0, 0, 0, 0, 0, 0, 0, 0, 0, 1, 0, 1, 0, 1, 1, 0, \n . 0, 0, 0, 1, 0, 0, 1, 0, 0, 0, 0, 1, 1, 0, 0, 0, 1, 0, 0, 0, 0, \n . 1, 0, 0, 0, 0, 1, 0, 0, 0, 0, 1, 0, 0, 0, 1, 1, 0, 0, 0, 0, 0, \n . 1, 0, 0, 0, 0, 0, 0, 0, 0, 0, 0, 1, 1, 0, 1, 1, 0, 0, 1, 0, 1, \n . 1, 1, 1, 0, 0, 1, 0, 0, 0, 0, 0, 1, 0, 0, 1, 1, 1, 0, 1, 0, 0, \n . 0, 1, 1, 0, 1, 0, 1, 0, 0, 0, 1, 0, 1, 0, 0, 0, 1, 0, 0, 1, 0, \n . 0, 0, 1, 0, 0, 0, 1, 0, 0, 0, 0, 0, 1, 1, 0, 0, 0, 0, 0, 0, 1, \n . 1, 1, 1, 1, 0, 1, 0, 0, 0, 0, 0, 1, 1, 1, 0, 1, 1, 0, 1, 1, 0, \n . 0, 0, 1, 0, 0, 0, 1, 0, 0, 1, 0, 1, 1, 1, 1, 0, 0, 0, 0, 0, 0, \n . 1, 1, 1, 1, 0, 1, 0, 1, 1, 1, 0, 1, 1, 1, 0, 0, 0, 1, 1, 0, 1, \n . 1, 0, 0, 1, 1, 0, 1, 0, 1, 1, 1, 1, 0, 0, 0, 1, 0, 0, 1, 1, 0, \n . 1, 1, 0, 0, 0, 1, 1, 1, 1, 0, 0, 0, 0, 0, 0, 0, 1, 0, 1, 1, 0, \n . 0, 0, 0, 0, 0, 1, 1, 1, 1, 1, 0, 0, 0, 0, 1, 1, 0, 0, 0, 1, 1, \n . 0, 1, 0, 0, 0, 1, 0, 1, 1, 1, 0, 1, 1, 0, 0, 0, 0, 1, 1, 0, 0, \n . 0, 0, 0, 0, 1, 0, 0, 0, 0, 1, 0, 1, 0, 1, 1, 0, 0, 0, 0, 0, 0, \n . 0, 0, 1, 1, 0, 1, 1, 1, 1, 0, 0, 1, 0, 1, 0, 0, 1, 0, 0, 1, 1, \n . 1, 1, 1, 1, 1, 0, 0, 0, 1, 0, 1, 0, 1, 1, 0, 1, 0, 0, 0, 0, 0, \n . 0, 0, 0, 1, 0, 0, 1, 1, 0, 0, 0, 0, 0, 1, 0, 0, 0, 1, 1, 0, 1, \n . 0, 0, 1, 0, 0, 0, 0, 0, 0, 1, 0, 0, 0, 0, 0, 0, 0, 1, 0, 1, 1, \n . 0, 1, 1, 0, 1, 1, 0, 0, 1, 0, 1, 0, 1, 0, 0, 1, 0, 0, 1, 0, 0, \n . 0, 1, 0, 0, 1, 0, 1, 0, 1, 0, 1, 1, 0, 0, 1, 0, 0, 1, 1, 0, 1, \n . 1, 0, 0, 1, 1, 0, 1, 0, 1, 1, 0, 0, 0, 0, 0, 0, 0, 0, 0, 1, 1, \n . 1, 1, 1, 0, 0, 1, 1, 0, 1, 1, 1, 0, 0, 0, 1, 0, 1, 0, 0, 0, 1, \n . 0, 0, 0, 0, 1, 0, 0, 1, 1, 0, 0, 0, 1, 0, 0, 1, 1, 1, 0, 0, 1, \n . 0, 0, 1, 0, 0, 1, 0, 0, 1, 1, 0, 0, 0, 0, 1, 0, 0, 1, 0, 1, 0, \n . 0, 1, 0, 0, 0, 0, 0, 1, 0, 1, 1, 1, 0, 1, 0, 1, 0, 1, 0, 1, 0, \n . 0, 0, 0, 0, 0, 1, 0, 0, 0, 1, 0, 0, 0, 0, 1, 1, 0, 0, 1, 0, 0, \n . 0, 1, 0, 1, 0, 1, 0, 0, 0, 0, 0, 0, 0, 1, 1, 1, 1, 0, 0, 0, 0, \n . 1, 0, 0, 1, 1, 0, 0, 0, 0, 1, 1, 1, 1, 1, 0, 1, 0, 0, 0, 1, 1, \n . 0, 0, 1, 0, 0, 0, 1, 0, 1, 1, 0, 0, 1, 0, 0, 0, 0, 0, 0, 1, 0, \n . 0, 1, 0, 1, 0, 1, 0, 0, 1, 0, 0, 1, 1, 0, 0, 1, 1, 0, 0, 0, 1, \n . 0, 0, 1, 1, 0, 1, 0, 0, 0, 0, 0, 0, 0, 0, 1, 0, 0, 1, 0, 1, 1, \n . 1, 0, 0, 0, 0, 1, 0, 1, 0, 0, 0, 0, 0, 0, 0, 1, 1, 0, 0, 0, 1, \n . 1, 1, 1, 0, 0, 0, 0, 1, 0, 0, 0, 0, 0, 0, 0, 0, 0, 0, 1, 1, 0, \n . 1, 0, 0, 0, 1, 1, 1, 1, 1, 0, 0, 0, 1, 0, 0, 1, 1, 0, 0, 1, 0, \n . 0, 0, 0, 0, 0, 1, 0, 0, 0, 1, 0, 1, 1, 1, 1, 0, 0, 0, 1, 0, 0, \n . 1, 1, 0, 0, 1, 0, 1, 0, 0, 1, 1, 0, 0, 0, 1, 1, 0, 0, 0, 0, 0, \n . 0, 1, 0, 1, 0), Pclass = c(3, 1, 3, 1, 3, 3, 1, 3, 3, 2, 3, 1, \n . 3, 3, 3, 2, 3, 2, 3, 3, 2, 2, 3, 1, 3, 3, 3, 1, 3, 3, 1, 1, 3, \n . 2, 1, 1, 3, 3, 3, 3, 3, 2, 3, 2, 3, 3, 3, 3, 3, 3, 3, 3, 1, 2, \n . 1, 1, 2, 3, 2, 3, 3, 1, 1, 3, 1, 3, 2, 3, 3, 3, 2, 3, 2, 3, 3, \n . 3, 3, 3, 2, 3, 3, 3, 3, 1, 2, 3, 3, 3, 1, 3, 3, 3, 1, 3, 3, 3, \n . 1, 1, 2, 2, 3, 3, 1, 3, 3, 3, 3, 3, 3, 3, 1, 3, 3, 3, 3, 3, 3, \n . 2, 1, 3, 2, 3, 2, 2, 1, 3, 3, 3, 3, 3, 3, 3, 3, 2, 2, 2, 1, 1, \n . 3, 1, 3, 3, 3, 3, 2, 2, 3, 3, 2, 2, 2, 1, 3, 3, 3, 1, 3, 3, 3, \n . 3, 3, 2, 3, 3, 3, 3, 1, 3, 1, 3, 1, 3, 3, 3, 1, 3, 3, 1, 2, 3, \n . 3, 2, 3, 2, 3, 1, 3, 1, 3, 3, 2, 2, 3, 2, 1, 1, 3, 3, 3, 2, 3, \n . 3, 3, 3, 3, 3, 3, 3, 3, 1, 3, 2, 3, 2, 3, 1, 3, 2, 1, 2, 3, 2, \n . 3, 3, 1, 3, 2, 3, 2, 3, 1, 3, 2, 3, 2, 3, 2, 2, 2, 2, 3, 3, 2, \n . 3, 3, 1, 3, 2, 1, 2, 3, 3, 1, 3, 3, 3, 1, 1, 1, 2, 3, 3, 1, 1, \n . 3, 2, 3, 3, 1, 1, 1, 3, 2, 1, 3, 1, 3, 2, 3, 3, 3, 3, 3, 3, 1, \n . 3, 3, 3, 2, 3, 1, 1, 2, 3, 3, 1, 3, 1, 1, 1, 3, 3, 3, 2, 3, 1, \n . 1, 1, 2, 1, 1, 1, 2, 3, 2, 3, 2, 2, 1, 1, 3, 3, 2, 2, 3, 1, 3, \n . 2, 3, 1, 3, 1, 1, 3, 1, 3, 1, 1, 3, 1, 2, 1, 2, 2, 2, 2, 2, 3, \n . 3, 3, 3, 1, 3, 3, 3, 3, 1, 2, 3, 3, 3, 2, 3, 3, 3, 3, 1, 3, 3, \n . 1, 1, 3, 3, 1, 3, 1, 3, 1, 3, 3, 1, 3, 3, 1, 3, 2, 3, 2, 3, 2, \n . 1, 3, 3, 1, 3, 3, 3, 2, 2, 2, 3, 3, 3, 3, 3, 2, 3, 2, 3, 3, 3, \n . 3, 1, 2, 3, 3, 2, 2, 2, 3, 3, 3, 3, 3, 3, 3, 2, 2, 3, 3, 1, 3, \n . 2, 3, 1, 1, 3, 2, 1, 2, 2, 3, 3, 2, 3, 1, 2, 1, 3, 1, 2, 3, 1, \n . 1, 3, 3, 1, 1, 2, 3, 1, 3, 1, 2, 3, 3, 2, 1, 3, 3, 3, 3, 2, 2, \n . 3, 1, 2, 3, 3, 3, 3, 2, 3, 3, 1, 3, 1, 1, 3, 3, 3, 3, 1, 1, 3, \n . 3, 1, 3, 1, 3, 3, 3, 3, 3, 1, 1, 2, 1, 3, 3, 3, 3, 1, 1, 3, 1, \n . 2, 3, 2, 3, 1, 3, 3, 1, 3, 3, 2, 1, 3, 2, 2, 3, 3, 3, 3, 2, 1, \n . 1, 3, 1, 1, 3, 3, 2, 1, 1, 2, 2, 3, 2, 1, 2, 3, 3, 3, 1, 1, 1, \n . 1, 3, 3, 3, 2, 3, 3, 3, 3, 3, 3, 3, 2, 1, 1, 3, 3, 3, 2, 1, 3, \n . 3, 2, 1, 2, 1, 3, 1, 2, 1, 3, 3, 3, 1, 3, 3, 2, 3, 2, 3, 3, 1, \n . 2, 3, 1, 3, 1, 3, 3, 1, 2, 1, 3, 3, 3, 3, 3, 2, 3, 3, 2, 2, 3, \n . 1, 3, 3, 3, 1, 2, 1, 3, 3, 1, 3, 1, 1, 3, 2, 3, 2, 3, 3, 3, 1, \n . 3, 3, 3, 1, 3, 1, 3, 3, 3, 2, 3, 3, 3, 2, 3, 3, 2, 1, 1, 3, 1, \n . 3, 3, 2, 2, 3, 3, 1, 2, 1, 2, 2, 2, 3, 3, 3, 3, 1, 3, 1, 3, 3, \n . 2, 2, 3, 3, 3, 1, 1, 3, 3, 3, 1, 2, 3, 3, 1, 3, 1, 1, 3, 3, 3, \n . 2, 2, 1, 1, 3, 1, 1, 1, 3, 2, 3, 1, 2, 3, 3, 2, 3, 2, 2, 1, 3, \n . 2, 3, 2, 3, 1, 3, 2, 2, 2, 3, 3, 1, 3, 3, 1, 1, 1, 3, 3, 1, 3, \n . 2, 1, 3, 2, 3, 3, 3, 2, 2, 3, 2, 3, 1, 3, 3, 3, 1, 3, 1, 1, 3, \n . 3, 3, 3, 3, 2, 3, 2, 3, 3, 3, 3, 1, 3, 1, 1, 3, 3, 3, 3, 3, 3, \n . 1, 3, 2, 3, 1, 3, 2, 1, 3, 3, 3, 2, 2, 1, 3, 3, 3, 1, 3, 2, 1, \n . 3, 3, 2, 3, 3, 1, 3, 2, 3, 3, 1, 3, 1, 3, 3, 3, 3, 2, 3, 1, 3, \n . 2, 3, 3, 3, 1, 3, 3, 3, 1, 3, 2, 1, 3, 3, 3, 3, 3, 2, 1, 3, 3, \n . 3, 1, 2, 3, 1, 1, 3, 3, 3, 2, 1, 3, 2, 2, 2, 1, 3, 3, 3, 1, 1, \n . 3, 2, 3, 3, 3, 3, 1, 2, 3, 3, 2, 3, 3, 2, 1, 3, 1, 3), Sex = c(\"male\", \n . \"female\", \"female\", \"female\", \"male\", \"male\", \"male\", \"male\", \n . \"female\", \"female\", \"female\", \"female\", \"male\", \"male\", \"female\", \n . \"female\", \"male\", \"male\", \"female\", \"female\", \"male\", \"male\", \n . \"female\", \"male\", \"female\", \"female\", \"male\", \"male\", \"female\", \n . \"male\", \"male\", \"female\", \"female\", \"male\", \"male\", \"male\", \"male\", \n . \"male\", \"female\", \"female\", \"female\", \"female\", \"male\", \"female\", \n . \"female\", \"male\", \"male\", \"female\", \"male\", \"female\", \"male\", \n . \"male\", \"female\", \"female\", \"male\", \"male\", \"female\", \"male\", \n . \"female\", \"male\", \"male\", \"female\", \"male\", \"male\", \"male\", \"male\", \n . \"female\", \"male\", \"female\", \"male\", \"male\", \"female\", \"male\", \n . \"male\", \"male\", \"male\", \"male\", \"male\", \"male\", \"female\", \"male\", \n . \"male\", \"female\", \"male\", \"female\", \"female\", \"male\", \"male\", \n . \"female\", \"male\", \"male\", \"male\", \"male\", \"male\", \"male\", \"male\", \n . \"male\", \"male\", \"female\", \"male\", \"female\", \"male\", \"male\", \"male\", \n . \"male\", \"male\", \"female\", \"male\", \"male\", \"female\", \"male\", \"female\", \n . \"male\", \"female\", \"female\", \"male\", \"male\", \"male\", \"male\", \"female\", \n . \"male\", \"male\", \"male\", \"female\", \"male\", \"male\", \"male\", \"male\", \n . \"female\", \"male\", \"male\", \"male\", \"female\", \"female\", \"male\", \n . \"male\", \"female\", \"male\", \"male\", \"male\", \"female\", \"female\", \n . \"female\", \"male\", \"male\", \"male\", \"male\", \"female\", \"male\", \"male\", \n . \"male\", \"female\", \"male\", \"male\", \"male\", \"male\", \"female\", \"male\", \n . \"male\", \"male\", \"male\", \"female\", \"male\", \"male\", \"male\", \"male\", \n . \"female\", \"female\", \"male\", \"male\", \"male\", \"male\", \"female\", \n . \"male\", \"male\", \"male\", \"male\", \"female\", \"male\", \"male\", \"female\", \n . \"male\", \"male\", \"male\", \"female\", \"male\", \"female\", \"male\", \"male\", \n . \"male\", \"female\", \"male\", \"female\", \"male\", \"female\", \"female\", \n . \"male\", \"male\", \"female\", \"female\", \"male\", \"male\", \"male\", \"male\", \n . \"male\", \"female\", \"male\", \"male\", \"female\", \"male\", \"male\", \"female\", \n . \"male\", \"male\", \"male\", \"female\", \"female\", \"male\", \"female\", \n . \"male\", \"male\", \"male\", \"male\", \"male\", \"male\", \"male\", \"male\", \n . \"male\", \"male\", \"female\", \"female\", \"male\", \"male\", \"female\", \n . \"male\", \"female\", \"male\", \"female\", \"male\", \"male\", \"female\", \n . \"female\", \"male\", \"male\", \"male\", \"male\", \"female\", \"female\", \n . \"male\", \"male\", \"male\", \"female\", \"male\", \"male\", \"female\", \"female\", \n . \"female\", \"female\", \"female\", \"female\", \"male\", \"male\", \"male\", \n . \"male\", \"female\", \"male\", \"male\", \"male\", \"female\", \"female\", \n . \"male\", \"male\", \"female\", \"male\", \"female\", \"female\", \"female\", \n . \"male\", \"male\", \"female\", \"male\", \"male\", \"male\", \"male\", \"male\", \n . \"male\", \"male\", \"male\", \"male\", \"female\", \"female\", \"female\", \n . \"male\", \"female\", \"male\", \"male\", \"male\", \"female\", \"male\", \"female\", \n . \"female\", \"male\", \"male\", \"female\", \"male\", \"male\", \"female\", \n . \"female\", \"male\", \"female\", \"female\", \"female\", \"female\", \"male\", \n . \"male\", \"female\", \"female\", \"male\", \"female\", \"female\", \"male\", \n . \"male\", \"female\", \"female\", \"male\", \"female\", \"male\", \"female\", \n . \"female\", \"female\", \"female\", \"male\", \"male\", \"male\", \"female\", \n . \"male\", \"male\", \"female\", \"male\", \"male\", \"male\", \"female\", \"male\", \n . \"male\", \"male\", \"female\", \"female\", \"female\", \"male\", \"male\", \n . \"male\", \"male\", \"male\", \"male\", \"male\", \"male\", \"female\", \"female\", \n . \"female\", \"female\", \"male\", \"male\", \"female\", \"male\", \"male\", \n . \"male\", \"female\", \"female\", \"female\", \"female\", \"male\", \"male\", \n . \"male\", \"male\", \"female\", \"female\", \"female\", \"male\", \"male\", \n . \"male\", \"female\", \"female\", \"male\", \"female\", \"male\", \"male\", \n . \"male\", \"female\", \"male\", \"female\", \"male\", \"male\", \"male\", \"female\", \n . \"female\", \"male\", \"female\", \"male\", \"male\", \"female\", \"male\", \n . \"male\", \"female\", \"male\", \"female\", \"male\", \"male\", \"male\", \"male\", \n . \"female\", \"male\", \"male\", \"female\", \"male\", \"male\", \"female\", \n . \"female\", \"female\", \"male\", \"female\", \"male\", \"male\", \"male\", \n . \"female\", \"male\", \"male\", \"female\", \"female\", \"male\", \"male\", \n . \"male\", \"female\", \"female\", \"male\", \"male\", \"female\", \"female\", \n . \"female\", \"male\", \"male\", \"female\", \"male\", \"male\", \"female\", \n . \"male\", \"male\", \"female\", \"male\", \"female\", \"male\", \"male\", \"male\", \n . \"male\", \"male\", \"male\", \"male\", \"male\", \"female\", \"female\", \"male\", \n . \"male\", \"male\", \"male\", \"male\", \"male\", \"male\", \"male\", \"male\", \n . \"male\", \"female\", \"male\", \"male\", \"female\", \"female\", \"female\", \n . \"male\", \"male\", \"male\", \"male\", \"female\", \"male\", \"male\", \"male\", \n . \"female\", \"male\", \"female\", \"female\", \"male\", \"male\", \"male\", \n . \"male\", \"male\", \"male\", \"male\", \"male\", \"male\", \"female\", \"male\", \n . \"female\", \"male\", \"male\", \"female\", \"female\", \"female\", \"female\", \n . \"male\", \"female\", \"male\", \"male\", \"male\", \"male\", \"male\", \"male\", \n . \"female\", \"male\", \"male\", \"female\", \"male\", \"female\", \"male\", \n . \"female\", \"male\", \"male\", \"female\", \"male\", \"male\", \"female\", \n . \"male\", \"male\", \"male\", \"female\", \"male\", \"male\", \"female\", \"female\", \n . \"female\", \"male\", \"female\", \"male\", \"female\", \"female\", \"female\", \n . \"female\", \"male\", \"male\", \"male\", \"female\", \"male\", \"male\", \"male\", \n . \"male\", \"male\", \"male\", \"male\", \"female\", \"male\", \"female\", \"male\", \n . \"female\", \"female\", \"male\", \"male\", \"male\", \"male\", \"female\", \n . \"male\", \"male\", \"female\", \"male\", \"male\", \"male\", \"female\", \"male\", \n . \"female\", \"male\", \"male\", \"female\", \"female\", \"female\", \"male\", \n . \"female\", \"female\", \"male\", \"male\", \"male\", \"female\", \"male\", \n . \"male\", \"male\", \"male\", \"male\", \"female\", \"male\", \"female\", \"male\", \n . \"male\", \"female\", \"male\", \"male\", \"male\", \"female\", \"male\", \"male\", \n . \"male\", \"male\", \"male\", \"male\", \"male\", \"female\", \"female\", \"female\", \n . \"male\", \"female\", \"male\", \"male\", \"female\", \"male\", \"female\", \n . \"female\", \"male\", \"male\", \"male\", \"male\", \"male\", \"male\", \"male\", \n . \"male\", \"female\", \"male\", \"male\", \"male\", \"male\", \"male\", \"male\", \n . \"female\", \"female\", \"male\", \"male\", \"female\", \"male\", \"male\", \n . \"female\", \"female\", \"male\", \"female\", \"male\", \"male\", \"male\", \n . \"male\", \"female\", \"male\", \"female\", \"male\", \"female\", \"female\", \n . \"male\", \"male\", \"female\", \"male\", \"male\", \"male\", \"male\", \"male\", \n . \"male\", \"male\", \"male\", \"male\", \"male\", \"male\", \"female\", \"female\", \n . \"male\", \"male\", \"male\", \"male\", \"male\", \"male\", \"female\", \"female\", \n . \"male\", \"female\", \"male\", \"male\", \"male\", \"male\", \"male\", \"male\", \n . \"male\", \"male\", \"female\", \"male\", \"female\", \"male\", \"male\", \"male\", \n . \"male\", \"male\", \"female\", \"male\", \"male\", \"female\", \"male\", \"female\", \n . \"male\", \"male\", \"male\", \"female\", \"male\", \"female\", \"male\", \"female\", \n . \"male\", \"male\", \"male\", \"male\", \"male\", \"female\", \"female\", \"male\", \n . \"male\", \"female\", \"male\", \"male\", \"male\", \"male\", \"male\", \"female\", \n . \"female\", \"male\", \"female\", \"female\", \"male\", \"male\", \"male\", \n . \"male\", \"male\", \"female\", \"male\", \"male\", \"male\", \"male\", \"male\", \n . \"female\", \"male\", \"male\", \"male\", \"male\", \"female\", \"male\", \"male\", \n . \"female\", \"male\", \"male\", \"male\", \"female\", \"male\", \"male\", \"male\", \n . \"male\", \"female\", \"male\", \"male\", \"male\", \"female\", \"male\", \"female\", \n . \"male\", \"female\", \"male\", \"male\", \"male\", \"male\", \"female\", \"male\", \n . \"female\", \"male\", \"male\", \"female\", \"male\", \"female\", \"female\", \n . \"female\", \"male\", \"male\", \"male\", \"male\", \"female\", \"male\", \"male\", \n . \"male\", \"male\", \"male\", \"female\", \"male\", \"male\", \"male\", \"female\", \n . \"female\", \"male\", \"female\", \"male\", \"female\", \"male\", \"male\", \n . \"male\", \"male\", \"male\", \"female\", \"male\", \"female\", \"male\", \"male\", \n . \"male\", \"female\", \"male\", \"male\", \"female\", \"male\", \"male\", \"male\", \n . \"female\", \"male\", \"male\", \"female\", \"male\", \"male\", \"male\", \"male\", \n . \"male\", \"female\", \"female\", \"male\", \"male\", \"male\", \"male\", \"female\", \n . \"male\", \"male\", \"male\", \"male\", \"male\", \"male\", \"female\", \"male\", \n . \"male\", \"male\", \"male\", \"male\", \"male\", \"female\", \"male\", \"male\", \n . \"female\", \"female\", \"female\", \"female\", \"female\", \"male\", \"female\", \n . \"male\", \"male\", \"male\", \"female\", \"female\", \"male\", \"female\", \n . \"female\", \"male\", \"male\", \"male\", \"male\", \"female\", \"male\", \"male\", \n . \"female\", \"female\", \"male\", \"male\", \"male\", \"female\", \"female\", \n . \"male\", \"female\", \"male\", \"male\", \"female\", \"male\", \"female\", \n . \"female\", \"male\", \"male\"), Age = c(22, 38, 26, 35, 35, NA, 54, \n . 2, 27, 14, 4, 58, 20, 39, 14, 55, 2, NA, 31, NA, 35, 34, 15, \n . 28, 8, 38, NA, 19, NA, NA, 40, NA, NA, 66, 28, 42, NA, 21, 18, \n . 14, 40, 27, NA, 3, 19, NA, NA, NA, NA, 18, 7, 21, 49, 29, 65, \n . NA, 21, 28.5, 5, 11, 22, 38, 45, 4, NA, NA, 29, 19, 17, 26, 32, \n . 16, 21, 26, 32, 25, NA, NA, 0.83, 30, 22, 29, NA, 28, 17, 33, \n . 16, NA, 23, 24, 29, 20, 46, 26, 59, NA, 71, 23, 34, 34, 28, NA, \n . 21, 33, 37, 28, 21, NA, 38, NA, 47, 14.5, 22, 20, 17, 21, 70.5, \n . 29, 24, 2, 21, NA, 32.5, 32.5, 54, 12, NA, 24, NA, 45, 33, 20, \n . 47, 29, 25, 23, 19, 37, 16, 24, NA, 22, 24, 19, 18, 19, 27, 9, \n . 36.5, 42, 51, 22, 55.5, 40.5, NA, 51, 16, 30, NA, NA, 44, 40, \n . 26, 17, 1, 9, NA, 45, NA, 28, 61, 4, 1, 21, 56, 18, NA, 50, 30, \n . 36, NA, NA, 9, 1, 4, NA, NA, 45, 40, 36, 32, 19, 19, 3, 44, 58, \n . NA, 42, NA, 24, 28, NA, 34, 45.5, 18, 2, 32, 26, 16, 40, 24, \n . 35, 22, 30, NA, 31, 27, 42, 32, 30, 16, 27, 51, NA, 38, 22, 19, \n . 20.5, 18, NA, 35, 29, 59, 5, 24, NA, 44, 8, 19, 33, NA, NA, 29, \n . 22, 30, 44, 25, 24, 37, 54, NA, 29, 62, 30, 41, 29, NA, 30, 35, \n . 50, NA, 3, 52, 40, NA, 36, 16, 25, 58, 35, NA, 25, 41, 37, NA, \n . 63, 45, NA, 7, 35, 65, 28, 16, 19, NA, 33, 30, 22, 42, 22, 26, \n . 19, 36, 24, 24, NA, 23.5, 2, NA, 50, NA, NA, 19, NA, NA, 0.92, \n . NA, 17, 30, 30, 24, 18, 26, 28, 43, 26, 24, 54, 31, 40, 22, 27, \n . 30, 22, NA, 36, 61, 36, 31, 16, NA, 45.5, 38, 16, NA, NA, 29, \n . 41, 45, 45, 2, 24, 28, 25, 36, 24, 40, NA, 3, 42, 23, NA, 15, \n . 25, NA, 28, 22, 38, NA, NA, 40, 29, 45, 35, NA, 30, 60, NA, NA, \n . 24, 25, 18, 19, 22, 3, NA, 22, 27, 20, 19, 42, 1, 32, 35, NA, \n . 18, 1, 36, NA, 17, 36, 21, 28, 23, 24, 22, 31, 46, 23, 28, 39, \n . 26, 21, 28, 20, 34, 51, 3, 21, NA, NA, NA, 33, NA, 44, NA, 34, \n . 18, 30, 10, NA, 21, 29, 28, 18, NA, 28, 19, NA, 32, 28, NA, 42, \n . 17, 50, 14, 21, 24, 64, 31, 45, 20, 25, 28, NA, 4, 13, 34, 5, \n . 52, 36, NA, 30, 49, NA, 29, 65, NA, 50, NA, 48, 34, 47, 48, NA, \n . 38, NA, 56, NA, 0.75, NA, 38, 33, 23, 22, NA, 34, 29, 22, 2, \n . 9, NA, 50, 63, 25, NA, 35, 58, 30, 9, NA, 21, 55, 71, 21, NA, \n . 54, NA, 25, 24, 17, 21, NA, 37, 16, 18, 33, NA, 28, 26, 29, NA, \n . 36, 54, 24, 47, 34, NA, 36, 32, 30, 22, NA, 44, NA, 40.5, 50, \n . NA, 39, 23, 2, NA, 17, NA, 30, 7, 45, 30, NA, 22, 36, 9, 11, \n . 32, 50, 64, 19, NA, 33, 8, 17, 27, NA, 22, 22, 62, 48, NA, 39, \n . 36, NA, 40, 28, NA, NA, 24, 19, 29, NA, 32, 62, 53, 36, NA, 16, \n . 19, 34, 39, NA, 32, 25, 39, 54, 36, NA, 18, 47, 60, 22, NA, 35, \n . 52, 47, NA, 37, 36, NA, 49, NA, 49, 24, NA, NA, 44, 35, 36, 30, \n . 27, 22, 40, 39, NA, NA, NA, 35, 24, 34, 26, 4, 26, 27, 42, 20, \n . 21, 21, 61, 57, 21, 26, NA, 80, 51, 32, NA, 9, 28, 32, 31, 41, \n . NA, 20, 24, 2, NA, 0.75, 48, 19, 56, NA, 23, NA, 18, 21, NA, \n . 18, 24, NA, 32, 23, 58, 50, 40, 47, 36, 20, 32, 25, NA, 43, NA, \n . 40, 31, 70, 31, NA, 18, 24.5, 18, 43, 36, NA, 27, 20, 14, 60, \n . 25, 14, 19, 18, 15, 31, 4, NA, 25, 60, 52, 44, NA, 49, 42, 18, \n . 35, 18, 25, 26, 39, 45, 42, 22, NA, 24, NA, 48, 29, 52, 19, 38, \n . 27, NA, 33, 6, 17, 34, 50, 27, 20, 30, NA, 25, 25, 29, 11, NA, \n . 23, 23, 28.5, 48, 35, NA, NA, NA, 36, 21, 24, 31, 70, 16, 30, \n . 19, 31, 4, 6, 33, 23, 48, 0.67, 28, 18, 34, 33, NA, 41, 20, 36, \n . 16, 51, NA, 30.5, NA, 32, 24, 48, 57, NA, 54, 18, NA, 5, NA, \n . 43, 13, 17, 29, NA, 25, 25, 18, 8, 1, 46, NA, 16, NA, NA, 25, \n . 39, 49, 31, 30, 30, 34, 31, 11, 0.42, 27, 31, 39, 18, 39, 33, \n . 26, 39, 35, 6, 30.5, NA, 23, 31, 43, 10, 52, 27, 38, 27, 2, NA, \n . NA, 1, NA, 62, 15, 0.83, NA, 23, 18, 39, 21, NA, 32, NA, 20, \n . 16, 30, 34.5, 17, 42, NA, 35, 28, NA, 4, 74, 9, 16, 44, 18, 45, \n . 51, 24, NA, 41, 21, 48, NA, 24, 42, 27, 31, NA, 4, 26, 47, 33, \n . 47, 28, 15, 20, 19, NA, 56, 25, 33, 22, 28, 25, 39, 27, 19, NA, \n . 26, 32), SibSp = c(1, 1, 0, 1, 0, 0, 0, 3, 0, 1, 1, 0, 0, 1, \n . 0, 0, 4, 0, 1, 0, 0, 0, 0, 0, 3, 1, 0, 3, 0, 0, 0, 1, 0, 0, 1, \n . 1, 0, 0, 2, 1, 1, 1, 0, 1, 0, 0, 1, 0, 2, 1, 4, 0, 1, 1, 0, 0, \n . 0, 0, 1, 5, 0, 0, 1, 3, 0, 1, 0, 0, 4, 2, 0, 5, 0, 1, 0, 0, 0, \n . 0, 0, 0, 0, 0, 0, 0, 0, 3, 1, 0, 3, 0, 0, 0, 1, 1, 0, 0, 0, 0, \n . 0, 1, 0, 0, 0, 0, 2, 0, 0, 0, 0, 1, 0, 1, 0, 1, 0, 0, 0, 1, 0, \n . 4, 2, 0, 1, 0, 0, 1, 0, 0, 1, 0, 0, 0, 1, 1, 0, 0, 0, 1, 0, 0, \n . 0, 0, 1, 0, 0, 1, 0, 2, 0, 0, 0, 1, 0, 0, 0, 0, 0, 0, 0, 8, 0, \n . 0, 0, 0, 4, 0, 0, 1, 0, 0, 0, 4, 1, 0, 0, 1, 3, 0, 0, 0, 8, 0, \n . 4, 2, 0, 0, 1, 0, 1, 0, 0, 0, 1, 1, 0, 0, 0, 0, 0, 0, 0, 8, 0, \n . 0, 0, 0, 1, 0, 0, 0, 0, 0, 0, 0, 1, 1, 0, 1, 0, 0, 0, 0, 0, 0, \n . 1, 0, 0, 0, 0, 3, 1, 0, 0, 4, 0, 0, 1, 0, 0, 0, 1, 1, 0, 0, 0, \n . 2, 0, 0, 1, 1, 0, 1, 0, 1, 0, 0, 0, 0, 0, 0, 0, 4, 1, 0, 0, 0, \n . 4, 1, 0, 0, 0, 0, 0, 0, 0, 1, 0, 0, 4, 1, 0, 0, 0, 0, 0, 0, 0, \n . 0, 0, 0, 0, 1, 0, 0, 0, 0, 0, 1, 0, 0, 0, 2, 0, 0, 0, 1, 0, 1, \n . 1, 0, 0, 2, 1, 0, 1, 0, 1, 0, 0, 1, 0, 0, 0, 1, 8, 0, 0, 0, 1, \n . 0, 2, 0, 0, 2, 1, 0, 1, 0, 0, 0, 1, 3, 0, 0, 0, 0, 0, 1, 1, 0, \n . 0, 0, 1, 1, 0, 0, 0, 0, 0, 0, 1, 1, 0, 0, 1, 0, 1, 0, 0, 0, 1, \n . 1, 0, 0, 3, 1, 0, 0, 0, 0, 0, 0, 0, 1, 0, 0, 5, 0, 0, 0, 1, 0, \n . 2, 1, 0, 0, 0, 0, 0, 0, 0, 0, 1, 1, 0, 1, 0, 1, 0, 3, 0, 0, 1, \n . 0, 0, 0, 1, 0, 0, 0, 0, 0, 0, 1, 1, 0, 1, 0, 0, 0, 0, 1, 1, 0, \n . 1, 1, 2, 2, 1, 0, 1, 0, 1, 0, 0, 0, 0, 0, 2, 0, 1, 1, 0, 1, 0, \n . 0, 0, 1, 0, 0, 0, 0, 0, 0, 0, 0, 0, 0, 0, 2, 0, 0, 1, 0, 0, 0, \n . 1, 1, 0, 0, 5, 0, 0, 0, 1, 3, 1, 0, 0, 1, 1, 0, 0, 0, 0, 0, 1, \n . 0, 1, 0, 0, 0, 0, 0, 0, 1, 0, 0, 0, 0, 0, 0, 0, 1, 0, 0, 0, 0, \n . 1, 0, 0, 0, 0, 0, 0, 0, 0, 0, 0, 2, 1, 0, 1, 0, 0, 0, 0, 0, 0, \n . 0, 0, 4, 4, 1, 1, 0, 1, 0, 1, 1, 0, 0, 0, 0, 0, 0, 1, 0, 1, 1, \n . 0, 0, 0, 0, 0, 2, 0, 0, 0, 0, 0, 2, 0, 0, 0, 0, 0, 1, 1, 0, 1, \n . 1, 0, 0, 0, 0, 0, 1, 0, 0, 0, 1, 0, 0, 1, 1, 0, 0, 0, 1, 2, 0, \n . 0, 0, 0, 1, 0, 0, 1, 0, 1, 0, 1, 0, 0, 1, 1, 1, 2, 0, 1, 1, 1, \n . 0, 0, 0, 0, 0, 0, 0, 0, 0, 0, 0, 3, 0, 0, 1, 0, 1, 0, 0, 3, 0, \n . 2, 1, 0, 0, 0, 0, 0, 0, 0, 0, 0, 2, 0, 1, 0, 0, 2, 0, 0, 0, 1, \n . 2, 0, 0, 0, 1, 1, 1, 0, 0, 0, 0, 0, 0, 1, 0, 0, 0, 0, 5, 1, 1, \n . 4, 0, 0, 0, 1, 0, 0, 0, 0, 0, 0, 0, 1, 0, 1, 0, 0, 0, 1, 0, 0, \n . 0, 0, 1, 0, 0, 1, 0, 0, 0, 0, 0, 0, 0, 0, 1, 0, 0, 1, 0, 3, 0, \n . 1, 1, 0, 0, 0, 0, 0, 0, 1, 0, 0, 0, 0, 1, 2, 1, 0, 1, 1, 0, 1, \n . 0, 1, 0, 0, 0, 1, 1, 0, 0, 0, 0, 0, 0, 0, 1, 0, 1, 0, 0, 1, 0, \n . 0, 0, 0, 0, 1, 0, 0, 0, 0, 0, 0, 1, 0, 1, 0, 0, 0, 4, 1, 0, 0, \n . 0, 8, 0, 0, 0, 0, 0, 0, 1, 0, 1, 1, 0, 0, 0, 0, 0, 0, 1, 0, 0, \n . 0, 4, 0, 0, 0, 1, 0, 3, 1, 0, 0, 0, 4, 0, 0, 0, 0, 0, 1, 1, 0, \n . 0, 0, 1, 0, 0, 0, 0, 0, 0, 0, 0, 0, 0, 8, 0, 0, 1, 4, 0, 1, 0, \n . 1, 0, 1, 0, 0, 0, 2, 1, 0, 8, 0, 0, 1, 0, 0, 1, 0, 1, 0, 0, 1, \n . 0, 0, 0, 0, 0, 0, 0, 0, 0, 0, 0, 0, 0, 1, 0, 0), Parch = c(0, \n . 0, 0, 0, 0, 0, 0, 1, 2, 0, 1, 0, 0, 5, 0, 0, 1, 0, 0, 0, 0, 0, \n . 0, 0, 1, 5, 0, 2, 0, 0, 0, 0, 0, 0, 0, 0, 0, 0, 0, 0, 0, 0, 0, \n . 2, 0, 0, 0, 0, 0, 0, 1, 0, 0, 0, 1, 0, 0, 0, 2, 2, 0, 0, 0, 2, \n . 0, 1, 0, 0, 2, 0, 0, 2, 0, 0, 0, 0, 0, 0, 2, 0, 0, 0, 0, 0, 0, \n . 0, 3, 0, 2, 0, 0, 0, 0, 2, 0, 0, 0, 1, 1, 0, 0, 0, 1, 0, 0, 0, \n . 0, 0, 0, 0, 0, 0, 0, 0, 0, 0, 0, 0, 1, 2, 0, 0, 0, 0, 1, 0, 0, \n . 0, 1, 0, 0, 0, 0, 0, 0, 0, 2, 0, 0, 0, 2, 0, 0, 0, 0, 1, 0, 2, \n . 2, 0, 0, 0, 0, 2, 0, 1, 0, 0, 0, 2, 1, 0, 0, 0, 1, 2, 1, 4, 0, \n . 0, 0, 1, 1, 0, 0, 1, 1, 0, 0, 0, 2, 0, 2, 1, 2, 0, 0, 0, 1, 0, \n . 0, 0, 0, 1, 0, 0, 0, 1, 0, 0, 0, 2, 0, 0, 0, 1, 0, 0, 0, 0, 0, \n . 0, 0, 0, 0, 0, 0, 0, 0, 0, 0, 0, 0, 0, 0, 0, 0, 0, 0, 1, 0, 0, \n . 0, 2, 0, 0, 0, 2, 0, 0, 0, 0, 0, 0, 0, 0, 0, 2, 1, 0, 0, 1, 0, \n . 0, 2, 2, 0, 0, 0, 1, 0, 2, 1, 0, 0, 0, 1, 0, 1, 0, 0, 0, 1, 1, \n . 0, 0, 0, 0, 1, 1, 0, 0, 0, 0, 0, 0, 0, 0, 0, 0, 0, 0, 0, 0, 0, \n . 0, 0, 2, 0, 1, 0, 0, 0, 0, 0, 2, 0, 0, 0, 0, 0, 2, 1, 0, 1, 0, \n . 0, 0, 2, 1, 0, 0, 0, 1, 2, 0, 0, 0, 1, 1, 0, 0, 1, 0, 0, 0, 0, \n . 0, 0, 0, 1, 2, 0, 0, 0, 0, 0, 0, 1, 0, 0, 0, 1, 0, 0, 0, 1, 0, \n . 0, 0, 4, 0, 1, 0, 0, 0, 0, 0, 0, 0, 0, 0, 0, 0, 1, 0, 0, 2, 0, \n . 0, 0, 2, 0, 0, 0, 0, 2, 0, 0, 0, 2, 0, 0, 0, 2, 0, 0, 0, 0, 0, \n . 0, 0, 0, 0, 0, 0, 0, 1, 0, 1, 0, 0, 0, 0, 0, 0, 1, 2, 0, 2, 0, \n . 0, 0, 1, 1, 0, 0, 0, 0, 0, 0, 0, 0, 0, 0, 2, 2, 3, 4, 0, 1, 0, \n . 0, 0, 0, 2, 1, 0, 1, 0, 2, 0, 0, 0, 0, 0, 0, 0, 0, 0, 0, 0, 0, \n . 0, 0, 0, 0, 0, 0, 1, 0, 0, 2, 0, 0, 0, 0, 0, 0, 1, 2, 0, 0, 0, \n . 0, 1, 0, 0, 0, 1, 0, 0, 0, 0, 0, 0, 0, 0, 2, 0, 0, 0, 0, 0, 0, \n . 0, 2, 0, 0, 0, 0, 0, 0, 0, 0, 0, 0, 0, 0, 0, 0, 0, 0, 1, 0, 0, \n . 0, 0, 0, 1, 1, 0, 1, 2, 0, 2, 0, 0, 0, 2, 2, 2, 2, 0, 0, 0, 0, \n . 0, 1, 1, 2, 0, 0, 0, 0, 0, 0, 0, 1, 0, 0, 0, 0, 0, 0, 0, 0, 4, \n . 0, 0, 0, 0, 0, 0, 0, 0, 0, 0, 0, 0, 1, 1, 0, 0, 0, 2, 0, 1, 0, \n . 0, 0, 0, 0, 2, 0, 1, 0, 0, 0, 0, 1, 0, 0, 0, 0, 0, 0, 0, 2, 0, \n . 5, 0, 0, 0, 0, 2, 1, 0, 1, 0, 0, 0, 1, 0, 0, 0, 0, 0, 0, 0, 0, \n . 0, 0, 0, 2, 0, 0, 1, 5, 0, 0, 0, 2, 0, 1, 0, 0, 0, 0, 0, 0, 1, \n . 0, 0, 0, 0, 0, 1, 0, 2, 0, 0, 0, 0, 0, 0, 0, 0, 0, 0, 1, 0, 0, \n . 0, 0, 0, 0, 0, 6, 1, 0, 0, 0, 2, 1, 2, 1, 0, 0, 1, 0, 1, 0, 0, \n . 0, 0, 0, 0, 1, 0, 0, 0, 1, 0, 0, 0, 0, 0, 0, 1, 0, 0, 0, 0, 0, \n . 0, 0, 0, 0, 0, 1, 0, 0, 0, 0, 0, 0, 0, 0, 0, 0, 0, 0, 0, 0, 0, \n . 3, 0, 0, 0, 0, 0, 2, 0, 0, 1, 1, 0, 0, 0, 1, 1, 0, 0, 2, 1, 0, \n . 0, 0, 0, 0, 0, 0, 2, 0, 0, 0, 0, 0, 0, 0, 0, 0, 0, 3, 0, 0, 0, \n . 0, 1, 0, 0, 0, 2, 0, 0, 0, 1, 2, 0, 0, 0, 2, 0, 0, 0, 0, 0, 0, \n . 1, 0, 1, 2, 1, 0, 0, 0, 0, 0, 0, 0, 0, 0, 2, 0, 0, 0, 1, 0, 2, \n . 1, 0, 0, 1, 1, 0, 0, 2, 0, 0, 0, 1, 0, 0, 0, 1, 0, 0, 0, 0, 0, \n . 0, 0, 0, 0, 0, 2, 0, 1, 0, 2, 0, 1, 1, 0, 1, 1, 0, 3, 0, 0, 0, \n . 0, 2, 0, 0, 0, 0, 0, 1, 0, 1, 0, 0, 0, 0, 0, 0, 0, 1, 1, 0, 0, \n . 0, 0, 5, 0, 0, 2, 0, 0), Fare = c(7.25, 71.2833, 7.925, 53.1, \n . 8.05, 8.4583, 51.8625, 21.075, 11.1333, 30.0708, 16.7, 26.55, \n . 8.05, 31.275, 7.8542, 16, 29.125, 13, 18, 7.225, 26, 13, 8.0292, \n . 35.5, 21.075, 31.3875, 7.225, 263, 7.8792, 7.8958, 27.7208, 146.5208, \n . 7.75, 10.5, 82.1708, 52, 7.2292, 8.05, 18, 11.2417, 9.475, 21, \n . 7.8958, 41.5792, 7.8792, 8.05, 15.5, 7.75, 21.6792, 17.8, 39.6875, \n . 7.8, 76.7292, 26, 61.9792, 35.5, 10.5, 7.2292, 27.75, 46.9, 7.2292, \n . 80, 83.475, 27.9, 27.7208, 15.2458, 10.5, 8.1583, 7.925, 8.6625, \n . 10.5, 46.9, 73.5, 14.4542, 56.4958, 7.65, 7.8958, 8.05, 29, 12.475, \n . 9, 9.5, 7.7875, 47.1, 10.5, 15.85, 34.375, 8.05, 263, 8.05, 8.05, \n . 7.8542, 61.175, 20.575, 7.25, 8.05, 34.6542, 63.3583, 23, 26, \n . 7.8958, 7.8958, 77.2875, 8.6542, 7.925, 7.8958, 7.65, 7.775, \n . 7.8958, 24.15, 52, 14.4542, 8.05, 9.825, 14.4583, 7.925, 7.75, \n . 21, 247.5208, 31.275, 73.5, 8.05, 30.0708, 13, 77.2875, 11.2417, \n . 7.75, 7.1417, 22.3583, 6.975, 7.8958, 7.05, 14.5, 26, 13, 15.0458, \n . 26.2833, 53.1, 9.2167, 79.2, 15.2458, 7.75, 15.85, 6.75, 11.5, \n . 36.75, 7.7958, 34.375, 26, 13, 12.525, 66.6, 8.05, 14.5, 7.3125, \n . 61.3792, 7.7333, 8.05, 8.6625, 69.55, 16.1, 15.75, 7.775, 8.6625, \n . 39.6875, 20.525, 55, 27.9, 25.925, 56.4958, 33.5, 29.125, 11.1333, \n . 7.925, 30.6958, 7.8542, 25.4667, 28.7125, 13, 0, 69.55, 15.05, \n . 31.3875, 39, 22.025, 50, 15.5, 26.55, 15.5, 7.8958, 13, 13, 7.8542, \n . 26, 27.7208, 146.5208, 7.75, 8.4042, 7.75, 13, 9.5, 69.55, 6.4958, \n . 7.225, 8.05, 10.4625, 15.85, 18.7875, 7.75, 31, 7.05, 21, 7.25, \n . 13, 7.75, 113.275, 7.925, 27, 76.2917, 10.5, 8.05, 13, 8.05, \n . 7.8958, 90, 9.35, 10.5, 7.25, 13, 25.4667, 83.475, 7.775, 13.5, \n . 31.3875, 10.5, 7.55, 26, 26.25, 10.5, 12.275, 14.4542, 15.5, \n . 10.5, 7.125, 7.225, 90, 7.775, 14.5, 52.5542, 26, 7.25, 10.4625, \n . 26.55, 16.1, 20.2125, 15.2458, 79.2, 86.5, 512.3292, 26, 7.75, \n . 31.3875, 79.65, 0, 7.75, 10.5, 39.6875, 7.775, 153.4625, 135.6333, \n . 31, 0, 19.5, 29.7, 7.75, 77.9583, 7.75, 0, 29.125, 20.25, 7.75, \n . 7.8542, 9.5, 8.05, 26, 8.6625, 9.5, 7.8958, 13, 7.75, 78.85, \n . 91.0792, 12.875, 8.85, 7.8958, 27.7208, 7.2292, 151.55, 30.5, \n . 247.5208, 7.75, 23.25, 0, 12.35, 8.05, 151.55, 110.8833, 108.9, \n . 24, 56.9292, 83.1583, 262.375, 26, 7.8958, 26.25, 7.8542, 26, \n . 14, 164.8667, 134.5, 7.25, 7.8958, 12.35, 29, 69.55, 135.6333, \n . 6.2375, 13, 20.525, 57.9792, 23.25, 28.5, 153.4625, 18, 133.65, \n . 7.8958, 66.6, 134.5, 8.05, 35.5, 26, 263, 13, 13, 13, 13, 13, \n . 16.1, 15.9, 8.6625, 9.225, 35, 7.2292, 17.8, 7.225, 9.5, 55, \n . 13, 7.8792, 7.8792, 27.9, 27.7208, 14.4542, 7.05, 15.5, 7.25, \n . 75.25, 7.2292, 7.75, 69.3, 55.4417, 6.4958, 8.05, 135.6333, 21.075, \n . 82.1708, 7.25, 211.5, 4.0125, 7.775, 227.525, 15.7417, 7.925, \n . 52, 7.8958, 73.5, 46.9, 13, 7.7292, 12, 120, 7.7958, 7.925, 113.275, \n . 16.7, 7.7958, 7.8542, 26, 10.5, 12.65, 7.925, 8.05, 9.825, 15.85, \n . 8.6625, 21, 7.75, 18.75, 7.775, 25.4667, 7.8958, 6.8583, 90, \n . 0, 7.925, 8.05, 32.5, 13, 13, 24.15, 7.8958, 7.7333, 7.875, 14.4, \n . 20.2125, 7.25, 26, 26, 7.75, 8.05, 26.55, 16.1, 26, 7.125, 55.9, \n . 120, 34.375, 18.75, 263, 10.5, 26.25, 9.5, 7.775, 13, 8.1125, \n . 81.8583, 19.5, 26.55, 19.2583, 30.5, 27.75, 19.9667, 27.75, 89.1042, \n . 8.05, 7.8958, 26.55, 51.8625, 10.5, 7.75, 26.55, 8.05, 38.5, \n . 13, 8.05, 7.05, 0, 26.55, 7.725, 19.2583, 7.25, 8.6625, 27.75, \n . 13.7917, 9.8375, 52, 21, 7.0458, 7.5208, 12.2875, 46.9, 0, 8.05, \n . 9.5875, 91.0792, 25.4667, 90, 29.7, 8.05, 15.9, 19.9667, 7.25, \n . 30.5, 49.5042, 8.05, 14.4583, 78.2667, 15.1, 151.55, 7.7958, \n . 8.6625, 7.75, 7.6292, 9.5875, 86.5, 108.9, 26, 26.55, 22.525, \n . 56.4958, 7.75, 8.05, 26.2875, 59.4, 7.4958, 34.0208, 10.5, 24.15, \n . 26, 7.8958, 93.5, 7.8958, 7.225, 57.9792, 7.2292, 7.75, 10.5, \n . 221.7792, 7.925, 11.5, 26, 7.2292, 7.2292, 22.3583, 8.6625, 26.25, \n . 26.55, 106.425, 14.5, 49.5, 71, 31.275, 31.275, 26, 106.425, \n . 26, 26, 13.8625, 20.525, 36.75, 110.8833, 26, 7.8292, 7.225, \n . 7.775, 26.55, 39.6, 227.525, 79.65, 17.4, 7.75, 7.8958, 13.5, \n . 8.05, 8.05, 24.15, 7.8958, 21.075, 7.2292, 7.8542, 10.5, 51.4792, \n . 26.3875, 7.75, 8.05, 14.5, 13, 55.9, 14.4583, 7.925, 30, 110.8833, \n . 26, 40.125, 8.7125, 79.65, 15, 79.2, 8.05, 8.05, 7.125, 78.2667, \n . 7.25, 7.75, 26, 24.15, 33, 0, 7.225, 56.9292, 27, 7.8958, 42.4, \n . 8.05, 26.55, 15.55, 7.8958, 30.5, 41.5792, 153.4625, 31.275, \n . 7.05, 15.5, 7.75, 8.05, 65, 14.4, 16.1, 39, 10.5, 14.4542, 52.5542, \n . 15.7417, 7.8542, 16.1, 32.3208, 12.35, 77.9583, 7.8958, 7.7333, \n . 30, 7.0542, 30.5, 0, 27.9, 13, 7.925, 26.25, 39.6875, 16.1, 7.8542, \n . 69.3, 27.9, 56.4958, 19.2583, 76.7292, 7.8958, 35.5, 7.55, 7.55, \n . 7.8958, 23, 8.4333, 7.8292, 6.75, 73.5, 7.8958, 15.5, 13, 113.275, \n . 133.65, 7.225, 25.5875, 7.4958, 7.925, 73.5, 13, 7.775, 8.05, \n . 52, 39, 52, 10.5, 13, 0, 7.775, 8.05, 9.8417, 46.9, 512.3292, \n . 8.1375, 76.7292, 9.225, 46.9, 39, 41.5792, 39.6875, 10.1708, \n . 7.7958, 211.3375, 57, 13.4167, 56.4958, 7.225, 26.55, 13.5, 8.05, \n . 7.7333, 110.8833, 7.65, 227.525, 26.2875, 14.4542, 7.7417, 7.8542, \n . 26, 13.5, 26.2875, 151.55, 15.2458, 49.5042, 26.55, 52, 9.4833, \n . 13, 7.65, 227.525, 10.5, 15.5, 7.775, 33, 7.0542, 13, 13, 53.1, \n . 8.6625, 21, 7.7375, 26, 7.925, 211.3375, 18.7875, 0, 13, 13, \n . 16.1, 34.375, 512.3292, 7.8958, 7.8958, 30, 78.85, 262.375, 16.1, \n . 7.925, 71, 20.25, 13, 53.1, 7.75, 23, 12.475, 9.5, 7.8958, 65, \n . 14.5, 7.7958, 11.5, 8.05, 86.5, 14.5, 7.125, 7.2292, 120, 7.775, \n . 77.9583, 39.6, 7.75, 24.15, 8.3625, 9.5, 7.8542, 10.5, 7.225, \n . 23, 7.75, 7.75, 12.475, 7.7375, 211.3375, 7.2292, 57, 30, 23.45, \n . 7.05, 7.25, 7.4958, 29.125, 20.575, 79.2, 7.75, 26, 69.55, 30.6958, \n . 7.8958, 13, 25.9292, 8.6833, 7.2292, 24.15, 13, 26.25, 120, 8.5167, \n . 6.975, 7.775, 0, 7.775, 13, 53.1, 7.8875, 24.15, 10.5, 31.275, \n . 8.05, 0, 7.925, 37.0042, 6.45, 27.9, 93.5, 8.6625, 0, 12.475, \n . 39.6875, 6.95, 56.4958, 37.0042, 7.75, 80, 14.4542, 18.75, 7.2292, \n . 7.8542, 8.3, 83.1583, 8.6625, 8.05, 56.4958, 29.7, 7.925, 10.5, \n . 31, 6.4375, 8.6625, 7.55, 69.55, 7.8958, 33, 89.1042, 31.275, \n . 7.775, 15.2458, 39.4, 26, 9.35, 164.8667, 26.55, 19.2583, 7.2292, \n . 14.1083, 11.5, 25.9292, 69.55, 13, 13, 13.8583, 50.4958, 9.5, \n . 11.1333, 7.8958, 52.5542, 5, 9, 24, 7.225, 9.8458, 7.8958, 7.8958, \n . 83.1583, 26, 7.8958, 10.5167, 10.5, 7.05, 29.125, 13, 30, 23.45, \n . 30, 7.75), Embarked = c(\"S\", \"C\", \"S\", \"S\", \"S\", \"Q\", \"S\", \"S\", \n . \"S\", \"C\", \"S\", \"S\", \"S\", \"S\", \"S\", \"S\", \"Q\", \"S\", \"S\", \"C\", \"S\", \n . \"S\", \"Q\", \"S\", \"S\", \"S\", \"C\", \"S\", \"Q\", \"S\", \"C\", \"C\", \"Q\", \"S\", \n . \"C\", \"S\", \"C\", \"S\", \"S\", \"C\", \"S\", \"S\", \"C\", \"C\", \"Q\", \"S\", \"Q\", \n . \"Q\", \"C\", \"S\", \"S\", \"S\", \"C\", \"S\", \"C\", \"S\", \"S\", \"C\", \"S\", \"S\", \n . \"C\", NA, \"S\", \"S\", \"C\", \"C\", \"S\", \"S\", \"S\", \"S\", \"S\", \"S\", \"S\", \n . \"C\", \"S\", \"S\", \"S\", \"S\", \"S\", \"S\", \"S\", \"S\", \"Q\", \"S\", \"S\", \"S\", \n . \"S\", \"S\", \"S\", \"S\", \"S\", \"S\", \"S\", \"S\", \"S\", \"S\", \"C\", \"C\", \"S\", \n . \"S\", \"S\", \"S\", \"S\", \"S\", \"S\", \"S\", \"S\", \"S\", \"S\", \"Q\", \"S\", \"C\", \n . \"S\", \"S\", \"C\", \"S\", \"Q\", \"S\", \"C\", \"S\", \"S\", \"S\", \"C\", \"S\", \"S\", \n . \"C\", \"Q\", \"S\", \"C\", \"S\", \"C\", \"S\", \"S\", \"S\", \"S\", \"C\", \"S\", \"S\", \n . \"S\", \"C\", \"C\", \"S\", \"S\", \"Q\", \"S\", \"S\", \"S\", \"S\", \"S\", \"S\", \"S\", \n . \"S\", \"S\", \"S\", \"S\", \"C\", \"Q\", \"S\", \"S\", \"S\", \"S\", \"S\", \"S\", \"S\", \n . \"S\", \"S\", \"S\", \"S\", \"S\", \"S\", \"S\", \"Q\", \"S\", \"S\", \"C\", \"S\", \"S\", \n . \"C\", \"S\", \"S\", \"S\", \"C\", \"S\", \"S\", \"S\", \"S\", \"Q\", \"S\", \"Q\", \"S\", \n . \"S\", \"S\", \"S\", \"S\", \"C\", \"C\", \"Q\", \"S\", \"Q\", \"S\", \"S\", \"S\", \"S\", \n . \"C\", \"S\", \"S\", \"S\", \"C\", \"Q\", \"C\", \"S\", \"S\", \"S\", \"S\", \"Q\", \"C\", \n . \"S\", \"S\", \"C\", \"S\", \"S\", \"S\", \"S\", \"S\", \"S\", \"S\", \"S\", \"S\", \"S\", \n . \"S\", \"S\", \"S\", \"S\", \"S\", \"S\", \"S\", \"S\", \"S\", \"S\", \"S\", \"C\", \"Q\", \n . \"S\", \"S\", \"C\", \"Q\", \"S\", \"S\", \"S\", \"S\", \"S\", \"S\", \"S\", \"S\", \"S\", \n . \"C\", \"C\", \"S\", \"C\", \"S\", \"Q\", \"S\", \"S\", \"S\", \"Q\", \"S\", \"S\", \"S\", \n . \"S\", \"S\", \"S\", \"S\", \"S\", \"C\", \"Q\", \"S\", \"S\", \"S\", \"Q\", \"S\", \"Q\", \n . \"S\", \"S\", \"S\", \"S\", \"C\", \"S\", \"S\", \"S\", \"Q\", \"S\", \"C\", \"C\", \"S\", \n . \"S\", \"C\", \"C\", \"S\", \"S\", \"C\", \"Q\", \"Q\", \"S\", \"Q\", \"S\", \"S\", \"C\", \n . \"C\", \"C\", \"C\", \"C\", \"C\", \"S\", \"S\", \"S\", \"S\", \"S\", \"S\", \"S\", \"C\", \n . \"S\", \"S\", \"Q\", \"S\", \"S\", \"C\", \"S\", \"S\", \"S\", \"C\", \"Q\", \"S\", \"S\", \n . \"S\", \"S\", \"S\", \"S\", \"C\", \"S\", \"S\", \"S\", \"S\", \"S\", \"S\", \"S\", \"S\", \n . \"S\", \"S\", \"S\", \"S\", \"S\", \"S\", \"C\", \"S\", \"C\", \"S\", \"S\", \"S\", \"Q\", \n . \"Q\", \"S\", \"C\", \"C\", \"S\", \"Q\", \"S\", \"C\", \"C\", \"Q\", \"C\", \"C\", \"S\", \n . \"S\", \"C\", \"S\", \"C\", \"S\", \"C\", \"C\", \"S\", \"C\", \"C\", \"S\", \"S\", \"S\", \n . \"S\", \"S\", \"S\", \"Q\", \"C\", \"S\", \"S\", \"S\", \"C\", \"S\", \"S\", \"S\", \"S\", \n . \"S\", \"S\", \"S\", \"S\", \"S\", \"S\", \"S\", \"S\", \"S\", \"S\", \"S\", \"S\", \"S\", \n . \"Q\", \"Q\", \"S\", \"S\", \"S\", \"S\", \"S\", \"S\", \"S\", \"C\", \"Q\", \"S\", \"S\", \n . \"S\", \"S\", \"S\", \"S\", \"Q\", \"S\", \"S\", \"S\", \"S\", \"S\", \"S\", \"S\", \"S\", \n . \"S\", \"S\", \"S\", \"S\", \"S\", \"S\", \"S\", \"S\", \"S\", \"S\", \"S\", \"C\", \"S\", \n . \"S\", \"S\", \"C\", \"C\", \"S\", \"C\", \"S\", \"S\", \"S\", \"Q\", \"S\", \"S\", \"S\", \n . \"S\", \"S\", \"S\", \"S\", \"S\", \"Q\", \"C\", \"S\", \"S\", \"S\", \"C\", \"S\", \"S\", \n . \"S\", \"S\", \"S\", \"S\", \"S\", \"S\", \"S\", \"S\", \"C\", \"S\", \"S\", \"C\", \"S\", \n . \"S\", \"S\", \"S\", \"S\", \"C\", \"S\", \"C\", \"C\", \"S\", \"S\", \"S\", \"S\", \"Q\", \n . \"Q\", \"S\", \"S\", \"C\", \"S\", \"S\", \"S\", \"S\", \"Q\", \"S\", \"S\", \"C\", \"S\", \n . \"S\", \"S\", \"Q\", \"S\", \"S\", \"S\", \"S\", \"C\", \"C\", \"C\", \"Q\", \"S\", \"S\", \n . \"S\", \"S\", \"S\", \"C\", \"C\", \"C\", \"S\", \"S\", \"S\", \"C\", \"S\", \"C\", \"S\", \n . \"S\", \"S\", \"S\", \"C\", \"S\", \"S\", \"C\", \"S\", \"S\", \"C\", \"S\", \"Q\", \"C\", \n . \"S\", \"S\", \"C\", \"C\", \"S\", \"S\", \"Q\", \"S\", \"S\", \"S\", \"S\", \"S\", \"S\", \n . \"S\", \"C\", \"S\", \"S\", \"S\", \"S\", \"Q\", \"S\", \"S\", \"S\", \"S\", \"C\", \"S\", \n . \"S\", \"C\", \"S\", \"C\", \"C\", \"S\", \"S\", \"C\", \"S\", \"S\", \"S\", \"C\", \"S\", \n . \"Q\", \"S\", \"S\", \"S\", \"S\", \"C\", \"C\", \"S\", \"S\", \"S\", \"S\", \"C\", \"S\", \n . \"S\", \"S\", \"C\", \"S\", \"S\", \"S\", \"Q\", \"Q\", \"S\", \"S\", \"S\", \"S\", \"S\", \n . \"S\", \"C\", \"S\", \"C\", \"S\", \"S\", \"S\", \"Q\", \"S\", \"S\", \"Q\", \"S\", \"S\", \n . \"C\", \"S\", \"S\", \"S\", \"S\", \"S\", \"S\", \"S\", \"S\", \"C\", \"S\", \"S\", \"C\", \n . \"C\", \"S\", \"C\", \"S\", \"S\", \"S\", \"S\", \"S\", \"Q\", \"Q\", \"S\", \"S\", \"Q\", \n . \"S\", \"C\", \"S\", \"C\", \"S\", \"S\", \"S\", \"S\", \"S\", \"S\", \"S\", \"S\", \"S\", \n . \"S\", \"S\", \"S\", \"S\", \"S\", \"S\", \"S\", \"S\", \"C\", \"Q\", \"C\", \"S\", \"S\", \n . \"S\", \"C\", \"S\", \"S\", \"S\", \"S\", \"S\", \"C\", \"S\", \"C\", \"S\", \"S\", \"S\", \n . \"Q\", \"C\", \"S\", \"C\", \"S\", \"C\", \"Q\", \"S\", \"S\", \"S\", \"S\", \"S\", \"C\", \n . \"C\", \"S\", \"S\", \"S\", \"S\", \"S\", \"C\", \"S\", \"Q\", \"S\", \"S\", \"S\", \"S\", \n . \"S\", \"S\", \"S\", \"S\", \"Q\", \"S\", \"S\", \"S\", \"C\", \"S\", \"S\", \"S\", \"S\", \n . \"S\", \"C\", \"S\", \"S\", \"S\", \"S\", \"C\", \"S\", \"S\", \"S\", \"S\", \"S\", \"S\", \n . \"Q\", \"S\", \"S\", \"S\", \"S\", \"S\", \"S\", \"S\", \"S\", \"S\", \"S\", \"S\", \"S\", \n . \"C\", \"S\", \"S\", \"S\", \"C\", \"Q\", \"Q\", \"S\", \"S\", \"S\", \"S\", \"C\", \"S\", \n . \"S\", \"Q\", \"S\", \"Q\", \"S\", \"C\", \"S\", \"S\", \"S\", \"S\", \"S\", \"S\", \"Q\", \n . \"S\", \"C\", \"Q\", \"S\", \"S\", \"C\", \"S\", \"S\", \"S\", \"S\", \"C\", \"S\", \"S\", \n . \"S\", \"S\", \"C\", \"S\", \"S\", \"S\", \"S\", \"S\", \"S\", \"S\", \"S\", \"S\", \"S\", \n . \"S\", \"S\", \"S\", \"C\", \"S\", \"S\", \"S\", \"S\", \"S\", \"S\", \"S\", \"Q\", \"S\", \n . \"C\", \"Q\", NA, \"C\", \"S\", \"C\", \"S\", \"S\", \"C\", \"S\", \"S\", \"S\", \"C\", \n . \"S\", \"S\", \"C\", \"C\", \"S\", \"S\", \"S\", \"C\", \"S\", \"C\", \"S\", \"S\", \"C\", \n . \"S\", \"S\", \"S\", \"S\", \"S\", \"C\", \"C\", \"S\", \"S\", \"S\", \"S\", \"S\", \"S\", \n . \"C\", \"S\", \"S\", \"S\", \"S\", \"S\", \"S\", \"S\", \"C\", \"C\", \"S\", \"S\", \"S\", \n . \"C\", \"S\", \"S\", \"S\", \"S\", \"S\", \"Q\", \"S\", \"S\", \"S\", \"C\", \"Q\")), class = \"data.frame\", row.names = c(NA, \n . 891L), terms = Survived ~ Pclass + Sex + Age + SibSp + Parch + \n .     Fare + Embarked))",
            "8. na.fail.default(structure(list(Survived = c(0, 1, 1, 1, 0, 0, \n . 0, 0, 1, 1, 1, 1, 0, 0, 0, 1, 0, 1, 0, 1, 0, 1, 1, 1, 0, 1, 0, \n . 0, 1, 0, 0, 1, 1, 0, 0, 0, 1, 0, 0, 1, 0, 0, 0, 1, 1, 0, 0, 1, \n . 0, 0, 0, 0, 1, 1, 0, 1, 1, 0, 1, 0, 0, 1, 0, 0, 0, 1, 1, 0, 1, \n . 0, 0, 0, 0, 0, 1, 0, 0, 0, 1, 1, 0, 1, 1, 0, 1, 1, 0, 0, 1, 0, \n . 0, 0, 0, 0, 0, 0, 0, 1, 1, 0, 0, 0, 0, 0, 0, 0, 1, 1, 0, 1, 0, \n . 0, 0, 0, 0, 0, 0, 0, 0, 0, 0, 0, 0, 1, 0, 1, 0, 1, 1, 0, 0, 0, \n . 0, 1, 0, 0, 1, 0, 0, 0, 0, 1, 1, 0, 0, 0, 1, 0, 0, 0, 0, 1, 0, \n . 0, 0, 0, 1, 0, 0, 0, 0, 1, 0, 0, 0, 1, 1, 0, 0, 0, 0, 0, 1, 0, \n . 0, 0, 0, 0, 0, 0, 0, 0, 0, 1, 1, 0, 1, 1, 0, 0, 1, 0, 1, 1, 1, \n . 1, 0, 0, 1, 0, 0, 0, 0, 0, 1, 0, 0, 1, 1, 1, 0, 1, 0, 0, 0, 1, \n . 1, 0, 1, 0, 1, 0, 0, 0, 1, 0, 1, 0, 0, 0, 1, 0, 0, 1, 0, 0, 0, \n . 1, 0, 0, 0, 1, 0, 0, 0, 0, 0, 1, 1, 0, 0, 0, 0, 0, 0, 1, 1, 1, \n . 1, 1, 0, 1, 0, 0, 0, 0, 0, 1, 1, 1, 0, 1, 1, 0, 1, 1, 0, 0, 0, \n . 1, 0, 0, 0, 1, 0, 0, 1, 0, 1, 1, 1, 1, 0, 0, 0, 0, 0, 0, 1, 1, \n . 1, 1, 0, 1, 0, 1, 1, 1, 0, 1, 1, 1, 0, 0, 0, 1, 1, 0, 1, 1, 0, \n . 0, 1, 1, 0, 1, 0, 1, 1, 1, 1, 0, 0, 0, 1, 0, 0, 1, 1, 0, 1, 1, \n . 0, 0, 0, 1, 1, 1, 1, 0, 0, 0, 0, 0, 0, 0, 1, 0, 1, 1, 0, 0, 0, \n . 0, 0, 0, 1, 1, 1, 1, 1, 0, 0, 0, 0, 1, 1, 0, 0, 0, 1, 1, 0, 1, \n . 0, 0, 0, 1, 0, 1, 1, 1, 0, 1, 1, 0, 0, 0, 0, 1, 1, 0, 0, 0, 0, \n . 0, 0, 1, 0, 0, 0, 0, 1, 0, 1, 0, 1, 1, 0, 0, 0, 0, 0, 0, 0, 0, \n . 1, 1, 0, 1, 1, 1, 1, 0, 0, 1, 0, 1, 0, 0, 1, 0, 0, 1, 1, 1, 1, \n . 1, 1, 1, 0, 0, 0, 1, 0, 1, 0, 1, 1, 0, 1, 0, 0, 0, 0, 0, 0, 0, \n . 0, 1, 0, 0, 1, 1, 0, 0, 0, 0, 0, 1, 0, 0, 0, 1, 1, 0, 1, 0, 0, \n . 1, 0, 0, 0, 0, 0, 0, 1, 0, 0, 0, 0, 0, 0, 0, 1, 0, 1, 1, 0, 1, \n . 1, 0, 1, 1, 0, 0, 1, 0, 1, 0, 1, 0, 0, 1, 0, 0, 1, 0, 0, 0, 1, \n . 0, 0, 1, 0, 1, 0, 1, 0, 1, 1, 0, 0, 1, 0, 0, 1, 1, 0, 1, 1, 0, \n . 0, 1, 1, 0, 1, 0, 1, 1, 0, 0, 0, 0, 0, 0, 0, 0, 0, 1, 1, 1, 1, \n . 1, 0, 0, 1, 1, 0, 1, 1, 1, 0, 0, 0, 1, 0, 1, 0, 0, 0, 1, 0, 0, \n . 0, 0, 1, 0, 0, 1, 1, 0, 0, 0, 1, 0, 0, 1, 1, 1, 0, 0, 1, 0, 0, \n . 1, 0, 0, 1, 0, 0, 1, 1, 0, 0, 0, 0, 1, 0, 0, 1, 0, 1, 0, 0, 1, \n . 0, 0, 0, 0, 0, 1, 0, 1, 1, 1, 0, 1, 0, 1, 0, 1, 0, 1, 0, 0, 0, \n . 0, 0, 0, 1, 0, 0, 0, 1, 0, 0, 0, 0, 1, 1, 0, 0, 1, 0, 0, 0, 1, \n . 0, 1, 0, 1, 0, 0, 0, 0, 0, 0, 0, 1, 1, 1, 1, 0, 0, 0, 0, 1, 0, \n . 0, 1, 1, 0, 0, 0, 0, 1, 1, 1, 1, 1, 0, 1, 0, 0, 0, 1, 1, 0, 0, \n . 1, 0, 0, 0, 1, 0, 1, 1, 0, 0, 1, 0, 0, 0, 0, 0, 0, 1, 0, 0, 1, \n . 0, 1, 0, 1, 0, 0, 1, 0, 0, 1, 1, 0, 0, 1, 1, 0, 0, 0, 1, 0, 0, \n . 1, 1, 0, 1, 0, 0, 0, 0, 0, 0, 0, 0, 1, 0, 0, 1, 0, 1, 1, 1, 0, \n . 0, 0, 0, 1, 0, 1, 0, 0, 0, 0, 0, 0, 0, 1, 1, 0, 0, 0, 1, 1, 1, \n . 1, 0, 0, 0, 0, 1, 0, 0, 0, 0, 0, 0, 0, 0, 0, 0, 1, 1, 0, 1, 0, \n . 0, 0, 1, 1, 1, 1, 1, 0, 0, 0, 1, 0, 0, 1, 1, 0, 0, 1, 0, 0, 0, \n . 0, 0, 0, 1, 0, 0, 0, 1, 0, 1, 1, 1, 1, 0, 0, 0, 1, 0, 0, 1, 1, \n . 0, 0, 1, 0, 1, 0, 0, 1, 1, 0, 0, 0, 1, 1, 0, 0, 0, 0, 0, 0, 1, \n . 0, 1, 0), Pclass = c(3, 1, 3, 1, 3, 3, 1, 3, 3, 2, 3, 1, 3, 3, \n . 3, 2, 3, 2, 3, 3, 2, 2, 3, 1, 3, 3, 3, 1, 3, 3, 1, 1, 3, 2, 1, \n . 1, 3, 3, 3, 3, 3, 2, 3, 2, 3, 3, 3, 3, 3, 3, 3, 3, 1, 2, 1, 1, \n . 2, 3, 2, 3, 3, 1, 1, 3, 1, 3, 2, 3, 3, 3, 2, 3, 2, 3, 3, 3, 3, \n . 3, 2, 3, 3, 3, 3, 1, 2, 3, 3, 3, 1, 3, 3, 3, 1, 3, 3, 3, 1, 1, \n . 2, 2, 3, 3, 1, 3, 3, 3, 3, 3, 3, 3, 1, 3, 3, 3, 3, 3, 3, 2, 1, \n . 3, 2, 3, 2, 2, 1, 3, 3, 3, 3, 3, 3, 3, 3, 2, 2, 2, 1, 1, 3, 1, \n . 3, 3, 3, 3, 2, 2, 3, 3, 2, 2, 2, 1, 3, 3, 3, 1, 3, 3, 3, 3, 3, \n . 2, 3, 3, 3, 3, 1, 3, 1, 3, 1, 3, 3, 3, 1, 3, 3, 1, 2, 3, 3, 2, \n . 3, 2, 3, 1, 3, 1, 3, 3, 2, 2, 3, 2, 1, 1, 3, 3, 3, 2, 3, 3, 3, \n . 3, 3, 3, 3, 3, 3, 1, 3, 2, 3, 2, 3, 1, 3, 2, 1, 2, 3, 2, 3, 3, \n . 1, 3, 2, 3, 2, 3, 1, 3, 2, 3, 2, 3, 2, 2, 2, 2, 3, 3, 2, 3, 3, \n . 1, 3, 2, 1, 2, 3, 3, 1, 3, 3, 3, 1, 1, 1, 2, 3, 3, 1, 1, 3, 2, \n . 3, 3, 1, 1, 1, 3, 2, 1, 3, 1, 3, 2, 3, 3, 3, 3, 3, 3, 1, 3, 3, \n . 3, 2, 3, 1, 1, 2, 3, 3, 1, 3, 1, 1, 1, 3, 3, 3, 2, 3, 1, 1, 1, \n . 2, 1, 1, 1, 2, 3, 2, 3, 2, 2, 1, 1, 3, 3, 2, 2, 3, 1, 3, 2, 3, \n . 1, 3, 1, 1, 3, 1, 3, 1, 1, 3, 1, 2, 1, 2, 2, 2, 2, 2, 3, 3, 3, \n . 3, 1, 3, 3, 3, 3, 1, 2, 3, 3, 3, 2, 3, 3, 3, 3, 1, 3, 3, 1, 1, \n . 3, 3, 1, 3, 1, 3, 1, 3, 3, 1, 3, 3, 1, 3, 2, 3, 2, 3, 2, 1, 3, \n . 3, 1, 3, 3, 3, 2, 2, 2, 3, 3, 3, 3, 3, 2, 3, 2, 3, 3, 3, 3, 1, \n . 2, 3, 3, 2, 2, 2, 3, 3, 3, 3, 3, 3, 3, 2, 2, 3, 3, 1, 3, 2, 3, \n . 1, 1, 3, 2, 1, 2, 2, 3, 3, 2, 3, 1, 2, 1, 3, 1, 2, 3, 1, 1, 3, \n . 3, 1, 1, 2, 3, 1, 3, 1, 2, 3, 3, 2, 1, 3, 3, 3, 3, 2, 2, 3, 1, \n . 2, 3, 3, 3, 3, 2, 3, 3, 1, 3, 1, 1, 3, 3, 3, 3, 1, 1, 3, 3, 1, \n . 3, 1, 3, 3, 3, 3, 3, 1, 1, 2, 1, 3, 3, 3, 3, 1, 1, 3, 1, 2, 3, \n . 2, 3, 1, 3, 3, 1, 3, 3, 2, 1, 3, 2, 2, 3, 3, 3, 3, 2, 1, 1, 3, \n . 1, 1, 3, 3, 2, 1, 1, 2, 2, 3, 2, 1, 2, 3, 3, 3, 1, 1, 1, 1, 3, \n . 3, 3, 2, 3, 3, 3, 3, 3, 3, 3, 2, 1, 1, 3, 3, 3, 2, 1, 3, 3, 2, \n . 1, 2, 1, 3, 1, 2, 1, 3, 3, 3, 1, 3, 3, 2, 3, 2, 3, 3, 1, 2, 3, \n . 1, 3, 1, 3, 3, 1, 2, 1, 3, 3, 3, 3, 3, 2, 3, 3, 2, 2, 3, 1, 3, \n . 3, 3, 1, 2, 1, 3, 3, 1, 3, 1, 1, 3, 2, 3, 2, 3, 3, 3, 1, 3, 3, \n . 3, 1, 3, 1, 3, 3, 3, 2, 3, 3, 3, 2, 3, 3, 2, 1, 1, 3, 1, 3, 3, \n . 2, 2, 3, 3, 1, 2, 1, 2, 2, 2, 3, 3, 3, 3, 1, 3, 1, 3, 3, 2, 2, \n . 3, 3, 3, 1, 1, 3, 3, 3, 1, 2, 3, 3, 1, 3, 1, 1, 3, 3, 3, 2, 2, \n . 1, 1, 3, 1, 1, 1, 3, 2, 3, 1, 2, 3, 3, 2, 3, 2, 2, 1, 3, 2, 3, \n . 2, 3, 1, 3, 2, 2, 2, 3, 3, 1, 3, 3, 1, 1, 1, 3, 3, 1, 3, 2, 1, \n . 3, 2, 3, 3, 3, 2, 2, 3, 2, 3, 1, 3, 3, 3, 1, 3, 1, 1, 3, 3, 3, \n . 3, 3, 2, 3, 2, 3, 3, 3, 3, 1, 3, 1, 1, 3, 3, 3, 3, 3, 3, 1, 3, \n . 2, 3, 1, 3, 2, 1, 3, 3, 3, 2, 2, 1, 3, 3, 3, 1, 3, 2, 1, 3, 3, \n . 2, 3, 3, 1, 3, 2, 3, 3, 1, 3, 1, 3, 3, 3, 3, 2, 3, 1, 3, 2, 3, \n . 3, 3, 1, 3, 3, 3, 1, 3, 2, 1, 3, 3, 3, 3, 3, 2, 1, 3, 3, 3, 1, \n . 2, 3, 1, 1, 3, 3, 3, 2, 1, 3, 2, 2, 2, 1, 3, 3, 3, 1, 1, 3, 2, \n . 3, 3, 3, 3, 1, 2, 3, 3, 2, 3, 3, 2, 1, 3, 1, 3), Sex = c(\"male\", \n . \"female\", \"female\", \"female\", \"male\", \"male\", \"male\", \"male\", \n . \"female\", \"female\", \"female\", \"female\", \"male\", \"male\", \"female\", \n . \"female\", \"male\", \"male\", \"female\", \"female\", \"male\", \"male\", \n . \"female\", \"male\", \"female\", \"female\", \"male\", \"male\", \"female\", \n . \"male\", \"male\", \"female\", \"female\", \"male\", \"male\", \"male\", \"male\", \n . \"male\", \"female\", \"female\", \"female\", \"female\", \"male\", \"female\", \n . \"female\", \"male\", \"male\", \"female\", \"male\", \"female\", \"male\", \n . \"male\", \"female\", \"female\", \"male\", \"male\", \"female\", \"male\", \n . \"female\", \"male\", \"male\", \"female\", \"male\", \"male\", \"male\", \"male\", \n . \"female\", \"male\", \"female\", \"male\", \"male\", \"female\", \"male\", \n . \"male\", \"male\", \"male\", \"male\", \"male\", \"male\", \"female\", \"male\", \n . \"male\", \"female\", \"male\", \"female\", \"female\", \"male\", \"male\", \n . \"female\", \"male\", \"male\", \"male\", \"male\", \"male\", \"male\", \"male\", \n . \"male\", \"male\", \"female\", \"male\", \"female\", \"male\", \"male\", \"male\", \n . \"male\", \"male\", \"female\", \"male\", \"male\", \"female\", \"male\", \"female\", \n . \"male\", \"female\", \"female\", \"male\", \"male\", \"male\", \"male\", \"female\", \n . \"male\", \"male\", \"male\", \"female\", \"male\", \"male\", \"male\", \"male\", \n . \"female\", \"male\", \"male\", \"male\", \"female\", \"female\", \"male\", \n . \"male\", \"female\", \"male\", \"male\", \"male\", \"female\", \"female\", \n . \"female\", \"male\", \"male\", \"male\", \"male\", \"female\", \"male\", \"male\", \n . \"male\", \"female\", \"male\", \"male\", \"male\", \"male\", \"female\", \"male\", \n . \"male\", \"male\", \"male\", \"female\", \"male\", \"male\", \"male\", \"male\", \n . \"female\", \"female\", \"male\", \"male\", \"male\", \"male\", \"female\", \n . \"male\", \"male\", \"male\", \"male\", \"female\", \"male\", \"male\", \"female\", \n . \"male\", \"male\", \"male\", \"female\", \"male\", \"female\", \"male\", \"male\", \n . \"male\", \"female\", \"male\", \"female\", \"male\", \"female\", \"female\", \n . \"male\", \"male\", \"female\", \"female\", \"male\", \"male\", \"male\", \"male\", \n . \"male\", \"female\", \"male\", \"male\", \"female\", \"male\", \"male\", \"female\", \n . \"male\", \"male\", \"male\", \"female\", \"female\", \"male\", \"female\", \n . \"male\", \"male\", \"male\", \"male\", \"male\", \"male\", \"male\", \"male\", \n . \"male\", \"male\", \"female\", \"female\", \"male\", \"male\", \"female\", \n . \"male\", \"female\", \"male\", \"female\", \"male\", \"male\", \"female\", \n . \"female\", \"male\", \"male\", \"male\", \"male\", \"female\", \"female\", \n . \"male\", \"male\", \"male\", \"female\", \"male\", \"male\", \"female\", \"female\", \n . \"female\", \"female\", \"female\", \"female\", \"male\", \"male\", \"male\", \n . \"male\", \"female\", \"male\", \"male\", \"male\", \"female\", \"female\", \n . \"male\", \"male\", \"female\", \"male\", \"female\", \"female\", \"female\", \n . \"male\", \"male\", \"female\", \"male\", \"male\", \"male\", \"male\", \"male\", \n . \"male\", \"male\", \"male\", \"male\", \"female\", \"female\", \"female\", \n . \"male\", \"female\", \"male\", \"male\", \"male\", \"female\", \"male\", \"female\", \n . \"female\", \"male\", \"male\", \"female\", \"male\", \"male\", \"female\", \n . \"female\", \"male\", \"female\", \"female\", \"female\", \"female\", \"male\", \n . \"male\", \"female\", \"female\", \"male\", \"female\", \"female\", \"male\", \n . \"male\", \"female\", \"female\", \"male\", \"female\", \"male\", \"female\", \n . \"female\", \"female\", \"female\", \"male\", \"male\", \"male\", \"female\", \n . \"male\", \"male\", \"female\", \"male\", \"male\", \"male\", \"female\", \"male\", \n . \"male\", \"male\", \"female\", \"female\", \"female\", \"male\", \"male\", \n . \"male\", \"male\", \"male\", \"male\", \"male\", \"male\", \"female\", \"female\", \n . \"female\", \"female\", \"male\", \"male\", \"female\", \"male\", \"male\", \n . \"male\", \"female\", \"female\", \"female\", \"female\", \"male\", \"male\", \n . \"male\", \"male\", \"female\", \"female\", \"female\", \"male\", \"male\", \n . \"male\", \"female\", \"female\", \"male\", \"female\", \"male\", \"male\", \n . \"male\", \"female\", \"male\", \"female\", \"male\", \"male\", \"male\", \"female\", \n . \"female\", \"male\", \"female\", \"male\", \"male\", \"female\", \"male\", \n . \"male\", \"female\", \"male\", \"female\", \"male\", \"male\", \"male\", \"male\", \n . \"female\", \"male\", \"male\", \"female\", \"male\", \"male\", \"female\", \n . \"female\", \"female\", \"male\", \"female\", \"male\", \"male\", \"male\", \n . \"female\", \"male\", \"male\", \"female\", \"female\", \"male\", \"male\", \n . \"male\", \"female\", \"female\", \"male\", \"male\", \"female\", \"female\", \n . \"female\", \"male\", \"male\", \"female\", \"male\", \"male\", \"female\", \n . \"male\", \"male\", \"female\", \"male\", \"female\", \"male\", \"male\", \"male\", \n . \"male\", \"male\", \"male\", \"male\", \"male\", \"female\", \"female\", \"male\", \n . \"male\", \"male\", \"male\", \"male\", \"male\", \"male\", \"male\", \"male\", \n . \"male\", \"female\", \"male\", \"male\", \"female\", \"female\", \"female\", \n . \"male\", \"male\", \"male\", \"male\", \"female\", \"male\", \"male\", \"male\", \n . \"female\", \"male\", \"female\", \"female\", \"male\", \"male\", \"male\", \n . \"male\", \"male\", \"male\", \"male\", \"male\", \"male\", \"female\", \"male\", \n . \"female\", \"male\", \"male\", \"female\", \"female\", \"female\", \"female\", \n . \"male\", \"female\", \"male\", \"male\", \"male\", \"male\", \"male\", \"male\", \n . \"female\", \"male\", \"male\", \"female\", \"male\", \"female\", \"male\", \n . \"female\", \"male\", \"male\", \"female\", \"male\", \"male\", \"female\", \n . \"male\", \"male\", \"male\", \"female\", \"male\", \"male\", \"female\", \"female\", \n . \"female\", \"male\", \"female\", \"male\", \"female\", \"female\", \"female\", \n . \"female\", \"male\", \"male\", \"male\", \"female\", \"male\", \"male\", \"male\", \n . \"male\", \"male\", \"male\", \"male\", \"female\", \"male\", \"female\", \"male\", \n . \"female\", \"female\", \"male\", \"male\", \"male\", \"male\", \"female\", \n . \"male\", \"male\", \"female\", \"male\", \"male\", \"male\", \"female\", \"male\", \n . \"female\", \"male\", \"male\", \"female\", \"female\", \"female\", \"male\", \n . \"female\", \"female\", \"male\", \"male\", \"male\", \"female\", \"male\", \n . \"male\", \"male\", \"male\", \"male\", \"female\", \"male\", \"female\", \"male\", \n . \"male\", \"female\", \"male\", \"male\", \"male\", \"female\", \"male\", \"male\", \n . \"male\", \"male\", \"male\", \"male\", \"male\", \"female\", \"female\", \"female\", \n . \"male\", \"female\", \"male\", \"male\", \"female\", \"male\", \"female\", \n . \"female\", \"male\", \"male\", \"male\", \"male\", \"male\", \"male\", \"male\", \n . \"male\", \"female\", \"male\", \"male\", \"male\", \"male\", \"male\", \"male\", \n . \"female\", \"female\", \"male\", \"male\", \"female\", \"male\", \"male\", \n . \"female\", \"female\", \"male\", \"female\", \"male\", \"male\", \"male\", \n . \"male\", \"female\", \"male\", \"female\", \"male\", \"female\", \"female\", \n . \"male\", \"male\", \"female\", \"male\", \"male\", \"male\", \"male\", \"male\", \n . \"male\", \"male\", \"male\", \"male\", \"male\", \"male\", \"female\", \"female\", \n . \"male\", \"male\", \"male\", \"male\", \"male\", \"male\", \"female\", \"female\", \n . \"male\", \"female\", \"male\", \"male\", \"male\", \"male\", \"male\", \"male\", \n . \"male\", \"male\", \"female\", \"male\", \"female\", \"male\", \"male\", \"male\", \n . \"male\", \"male\", \"female\", \"male\", \"male\", \"female\", \"male\", \"female\", \n . \"male\", \"male\", \"male\", \"female\", \"male\", \"female\", \"male\", \"female\", \n . \"male\", \"male\", \"male\", \"male\", \"male\", \"female\", \"female\", \"male\", \n . \"male\", \"female\", \"male\", \"male\", \"male\", \"male\", \"male\", \"female\", \n . \"female\", \"male\", \"female\", \"female\", \"male\", \"male\", \"male\", \n . \"male\", \"male\", \"female\", \"male\", \"male\", \"male\", \"male\", \"male\", \n . \"female\", \"male\", \"male\", \"male\", \"male\", \"female\", \"male\", \"male\", \n . \"female\", \"male\", \"male\", \"male\", \"female\", \"male\", \"male\", \"male\", \n . \"male\", \"female\", \"male\", \"male\", \"male\", \"female\", \"male\", \"female\", \n . \"male\", \"female\", \"male\", \"male\", \"male\", \"male\", \"female\", \"male\", \n . \"female\", \"male\", \"male\", \"female\", \"male\", \"female\", \"female\", \n . \"female\", \"male\", \"male\", \"male\", \"male\", \"female\", \"male\", \"male\", \n . \"male\", \"male\", \"male\", \"female\", \"male\", \"male\", \"male\", \"female\", \n . \"female\", \"male\", \"female\", \"male\", \"female\", \"male\", \"male\", \n . \"male\", \"male\", \"male\", \"female\", \"male\", \"female\", \"male\", \"male\", \n . \"male\", \"female\", \"male\", \"male\", \"female\", \"male\", \"male\", \"male\", \n . \"female\", \"male\", \"male\", \"female\", \"male\", \"male\", \"male\", \"male\", \n . \"male\", \"female\", \"female\", \"male\", \"male\", \"male\", \"male\", \"female\", \n . \"male\", \"male\", \"male\", \"male\", \"male\", \"male\", \"female\", \"male\", \n . \"male\", \"male\", \"male\", \"male\", \"male\", \"female\", \"male\", \"male\", \n . \"female\", \"female\", \"female\", \"female\", \"female\", \"male\", \"female\", \n . \"male\", \"male\", \"male\", \"female\", \"female\", \"male\", \"female\", \n . \"female\", \"male\", \"male\", \"male\", \"male\", \"female\", \"male\", \"male\", \n . \"female\", \"female\", \"male\", \"male\", \"male\", \"female\", \"female\", \n . \"male\", \"female\", \"male\", \"male\", \"female\", \"male\", \"female\", \n . \"female\", \"male\", \"male\"), Age = c(22, 38, 26, 35, 35, NA, 54, \n . 2, 27, 14, 4, 58, 20, 39, 14, 55, 2, NA, 31, NA, 35, 34, 15, \n . 28, 8, 38, NA, 19, NA, NA, 40, NA, NA, 66, 28, 42, NA, 21, 18, \n . 14, 40, 27, NA, 3, 19, NA, NA, NA, NA, 18, 7, 21, 49, 29, 65, \n . NA, 21, 28.5, 5, 11, 22, 38, 45, 4, NA, NA, 29, 19, 17, 26, 32, \n . 16, 21, 26, 32, 25, NA, NA, 0.83, 30, 22, 29, NA, 28, 17, 33, \n . 16, NA, 23, 24, 29, 20, 46, 26, 59, NA, 71, 23, 34, 34, 28, NA, \n . 21, 33, 37, 28, 21, NA, 38, NA, 47, 14.5, 22, 20, 17, 21, 70.5, \n . 29, 24, 2, 21, NA, 32.5, 32.5, 54, 12, NA, 24, NA, 45, 33, 20, \n . 47, 29, 25, 23, 19, 37, 16, 24, NA, 22, 24, 19, 18, 19, 27, 9, \n . 36.5, 42, 51, 22, 55.5, 40.5, NA, 51, 16, 30, NA, NA, 44, 40, \n . 26, 17, 1, 9, NA, 45, NA, 28, 61, 4, 1, 21, 56, 18, NA, 50, 30, \n . 36, NA, NA, 9, 1, 4, NA, NA, 45, 40, 36, 32, 19, 19, 3, 44, 58, \n . NA, 42, NA, 24, 28, NA, 34, 45.5, 18, 2, 32, 26, 16, 40, 24, \n . 35, 22, 30, NA, 31, 27, 42, 32, 30, 16, 27, 51, NA, 38, 22, 19, \n . 20.5, 18, NA, 35, 29, 59, 5, 24, NA, 44, 8, 19, 33, NA, NA, 29, \n . 22, 30, 44, 25, 24, 37, 54, NA, 29, 62, 30, 41, 29, NA, 30, 35, \n . 50, NA, 3, 52, 40, NA, 36, 16, 25, 58, 35, NA, 25, 41, 37, NA, \n . 63, 45, NA, 7, 35, 65, 28, 16, 19, NA, 33, 30, 22, 42, 22, 26, \n . 19, 36, 24, 24, NA, 23.5, 2, NA, 50, NA, NA, 19, NA, NA, 0.92, \n . NA, 17, 30, 30, 24, 18, 26, 28, 43, 26, 24, 54, 31, 40, 22, 27, \n . 30, 22, NA, 36, 61, 36, 31, 16, NA, 45.5, 38, 16, NA, NA, 29, \n . 41, 45, 45, 2, 24, 28, 25, 36, 24, 40, NA, 3, 42, 23, NA, 15, \n . 25, NA, 28, 22, 38, NA, NA, 40, 29, 45, 35, NA, 30, 60, NA, NA, \n . 24, 25, 18, 19, 22, 3, NA, 22, 27, 20, 19, 42, 1, 32, 35, NA, \n . 18, 1, 36, NA, 17, 36, 21, 28, 23, 24, 22, 31, 46, 23, 28, 39, \n . 26, 21, 28, 20, 34, 51, 3, 21, NA, NA, NA, 33, NA, 44, NA, 34, \n . 18, 30, 10, NA, 21, 29, 28, 18, NA, 28, 19, NA, 32, 28, NA, 42, \n . 17, 50, 14, 21, 24, 64, 31, 45, 20, 25, 28, NA, 4, 13, 34, 5, \n . 52, 36, NA, 30, 49, NA, 29, 65, NA, 50, NA, 48, 34, 47, 48, NA, \n . 38, NA, 56, NA, 0.75, NA, 38, 33, 23, 22, NA, 34, 29, 22, 2, \n . 9, NA, 50, 63, 25, NA, 35, 58, 30, 9, NA, 21, 55, 71, 21, NA, \n . 54, NA, 25, 24, 17, 21, NA, 37, 16, 18, 33, NA, 28, 26, 29, NA, \n . 36, 54, 24, 47, 34, NA, 36, 32, 30, 22, NA, 44, NA, 40.5, 50, \n . NA, 39, 23, 2, NA, 17, NA, 30, 7, 45, 30, NA, 22, 36, 9, 11, \n . 32, 50, 64, 19, NA, 33, 8, 17, 27, NA, 22, 22, 62, 48, NA, 39, \n . 36, NA, 40, 28, NA, NA, 24, 19, 29, NA, 32, 62, 53, 36, NA, 16, \n . 19, 34, 39, NA, 32, 25, 39, 54, 36, NA, 18, 47, 60, 22, NA, 35, \n . 52, 47, NA, 37, 36, NA, 49, NA, 49, 24, NA, NA, 44, 35, 36, 30, \n . 27, 22, 40, 39, NA, NA, NA, 35, 24, 34, 26, 4, 26, 27, 42, 20, \n . 21, 21, 61, 57, 21, 26, NA, 80, 51, 32, NA, 9, 28, 32, 31, 41, \n . NA, 20, 24, 2, NA, 0.75, 48, 19, 56, NA, 23, NA, 18, 21, NA, \n . 18, 24, NA, 32, 23, 58, 50, 40, 47, 36, 20, 32, 25, NA, 43, NA, \n . 40, 31, 70, 31, NA, 18, 24.5, 18, 43, 36, NA, 27, 20, 14, 60, \n . 25, 14, 19, 18, 15, 31, 4, NA, 25, 60, 52, 44, NA, 49, 42, 18, \n . 35, 18, 25, 26, 39, 45, 42, 22, NA, 24, NA, 48, 29, 52, 19, 38, \n . 27, NA, 33, 6, 17, 34, 50, 27, 20, 30, NA, 25, 25, 29, 11, NA, \n . 23, 23, 28.5, 48, 35, NA, NA, NA, 36, 21, 24, 31, 70, 16, 30, \n . 19, 31, 4, 6, 33, 23, 48, 0.67, 28, 18, 34, 33, NA, 41, 20, 36, \n . 16, 51, NA, 30.5, NA, 32, 24, 48, 57, NA, 54, 18, NA, 5, NA, \n . 43, 13, 17, 29, NA, 25, 25, 18, 8, 1, 46, NA, 16, NA, NA, 25, \n . 39, 49, 31, 30, 30, 34, 31, 11, 0.42, 27, 31, 39, 18, 39, 33, \n . 26, 39, 35, 6, 30.5, NA, 23, 31, 43, 10, 52, 27, 38, 27, 2, NA, \n . NA, 1, NA, 62, 15, 0.83, NA, 23, 18, 39, 21, NA, 32, NA, 20, \n . 16, 30, 34.5, 17, 42, NA, 35, 28, NA, 4, 74, 9, 16, 44, 18, 45, \n . 51, 24, NA, 41, 21, 48, NA, 24, 42, 27, 31, NA, 4, 26, 47, 33, \n . 47, 28, 15, 20, 19, NA, 56, 25, 33, 22, 28, 25, 39, 27, 19, NA, \n . 26, 32), SibSp = c(1, 1, 0, 1, 0, 0, 0, 3, 0, 1, 1, 0, 0, 1, \n . 0, 0, 4, 0, 1, 0, 0, 0, 0, 0, 3, 1, 0, 3, 0, 0, 0, 1, 0, 0, 1, \n . 1, 0, 0, 2, 1, 1, 1, 0, 1, 0, 0, 1, 0, 2, 1, 4, 0, 1, 1, 0, 0, \n . 0, 0, 1, 5, 0, 0, 1, 3, 0, 1, 0, 0, 4, 2, 0, 5, 0, 1, 0, 0, 0, \n . 0, 0, 0, 0, 0, 0, 0, 0, 3, 1, 0, 3, 0, 0, 0, 1, 1, 0, 0, 0, 0, \n . 0, 1, 0, 0, 0, 0, 2, 0, 0, 0, 0, 1, 0, 1, 0, 1, 0, 0, 0, 1, 0, \n . 4, 2, 0, 1, 0, 0, 1, 0, 0, 1, 0, 0, 0, 1, 1, 0, 0, 0, 1, 0, 0, \n . 0, 0, 1, 0, 0, 1, 0, 2, 0, 0, 0, 1, 0, 0, 0, 0, 0, 0, 0, 8, 0, \n . 0, 0, 0, 4, 0, 0, 1, 0, 0, 0, 4, 1, 0, 0, 1, 3, 0, 0, 0, 8, 0, \n . 4, 2, 0, 0, 1, 0, 1, 0, 0, 0, 1, 1, 0, 0, 0, 0, 0, 0, 0, 8, 0, \n . 0, 0, 0, 1, 0, 0, 0, 0, 0, 0, 0, 1, 1, 0, 1, 0, 0, 0, 0, 0, 0, \n . 1, 0, 0, 0, 0, 3, 1, 0, 0, 4, 0, 0, 1, 0, 0, 0, 1, 1, 0, 0, 0, \n . 2, 0, 0, 1, 1, 0, 1, 0, 1, 0, 0, 0, 0, 0, 0, 0, 4, 1, 0, 0, 0, \n . 4, 1, 0, 0, 0, 0, 0, 0, 0, 1, 0, 0, 4, 1, 0, 0, 0, 0, 0, 0, 0, \n . 0, 0, 0, 0, 1, 0, 0, 0, 0, 0, 1, 0, 0, 0, 2, 0, 0, 0, 1, 0, 1, \n . 1, 0, 0, 2, 1, 0, 1, 0, 1, 0, 0, 1, 0, 0, 0, 1, 8, 0, 0, 0, 1, \n . 0, 2, 0, 0, 2, 1, 0, 1, 0, 0, 0, 1, 3, 0, 0, 0, 0, 0, 1, 1, 0, \n . 0, 0, 1, 1, 0, 0, 0, 0, 0, 0, 1, 1, 0, 0, 1, 0, 1, 0, 0, 0, 1, \n . 1, 0, 0, 3, 1, 0, 0, 0, 0, 0, 0, 0, 1, 0, 0, 5, 0, 0, 0, 1, 0, \n . 2, 1, 0, 0, 0, 0, 0, 0, 0, 0, 1, 1, 0, 1, 0, 1, 0, 3, 0, 0, 1, \n . 0, 0, 0, 1, 0, 0, 0, 0, 0, 0, 1, 1, 0, 1, 0, 0, 0, 0, 1, 1, 0, \n . 1, 1, 2, 2, 1, 0, 1, 0, 1, 0, 0, 0, 0, 0, 2, 0, 1, 1, 0, 1, 0, \n . 0, 0, 1, 0, 0, 0, 0, 0, 0, 0, 0, 0, 0, 0, 2, 0, 0, 1, 0, 0, 0, \n . 1, 1, 0, 0, 5, 0, 0, 0, 1, 3, 1, 0, 0, 1, 1, 0, 0, 0, 0, 0, 1, \n . 0, 1, 0, 0, 0, 0, 0, 0, 1, 0, 0, 0, 0, 0, 0, 0, 1, 0, 0, 0, 0, \n . 1, 0, 0, 0, 0, 0, 0, 0, 0, 0, 0, 2, 1, 0, 1, 0, 0, 0, 0, 0, 0, \n . 0, 0, 4, 4, 1, 1, 0, 1, 0, 1, 1, 0, 0, 0, 0, 0, 0, 1, 0, 1, 1, \n . 0, 0, 0, 0, 0, 2, 0, 0, 0, 0, 0, 2, 0, 0, 0, 0, 0, 1, 1, 0, 1, \n . 1, 0, 0, 0, 0, 0, 1, 0, 0, 0, 1, 0, 0, 1, 1, 0, 0, 0, 1, 2, 0, \n . 0, 0, 0, 1, 0, 0, 1, 0, 1, 0, 1, 0, 0, 1, 1, 1, 2, 0, 1, 1, 1, \n . 0, 0, 0, 0, 0, 0, 0, 0, 0, 0, 0, 3, 0, 0, 1, 0, 1, 0, 0, 3, 0, \n . 2, 1, 0, 0, 0, 0, 0, 0, 0, 0, 0, 2, 0, 1, 0, 0, 2, 0, 0, 0, 1, \n . 2, 0, 0, 0, 1, 1, 1, 0, 0, 0, 0, 0, 0, 1, 0, 0, 0, 0, 5, 1, 1, \n . 4, 0, 0, 0, 1, 0, 0, 0, 0, 0, 0, 0, 1, 0, 1, 0, 0, 0, 1, 0, 0, \n . 0, 0, 1, 0, 0, 1, 0, 0, 0, 0, 0, 0, 0, 0, 1, 0, 0, 1, 0, 3, 0, \n . 1, 1, 0, 0, 0, 0, 0, 0, 1, 0, 0, 0, 0, 1, 2, 1, 0, 1, 1, 0, 1, \n . 0, 1, 0, 0, 0, 1, 1, 0, 0, 0, 0, 0, 0, 0, 1, 0, 1, 0, 0, 1, 0, \n . 0, 0, 0, 0, 1, 0, 0, 0, 0, 0, 0, 1, 0, 1, 0, 0, 0, 4, 1, 0, 0, \n . 0, 8, 0, 0, 0, 0, 0, 0, 1, 0, 1, 1, 0, 0, 0, 0, 0, 0, 1, 0, 0, \n . 0, 4, 0, 0, 0, 1, 0, 3, 1, 0, 0, 0, 4, 0, 0, 0, 0, 0, 1, 1, 0, \n . 0, 0, 1, 0, 0, 0, 0, 0, 0, 0, 0, 0, 0, 8, 0, 0, 1, 4, 0, 1, 0, \n . 1, 0, 1, 0, 0, 0, 2, 1, 0, 8, 0, 0, 1, 0, 0, 1, 0, 1, 0, 0, 1, \n . 0, 0, 0, 0, 0, 0, 0, 0, 0, 0, 0, 0, 0, 1, 0, 0), Parch = c(0, \n . 0, 0, 0, 0, 0, 0, 1, 2, 0, 1, 0, 0, 5, 0, 0, 1, 0, 0, 0, 0, 0, \n . 0, 0, 1, 5, 0, 2, 0, 0, 0, 0, 0, 0, 0, 0, 0, 0, 0, 0, 0, 0, 0, \n . 2, 0, 0, 0, 0, 0, 0, 1, 0, 0, 0, 1, 0, 0, 0, 2, 2, 0, 0, 0, 2, \n . 0, 1, 0, 0, 2, 0, 0, 2, 0, 0, 0, 0, 0, 0, 2, 0, 0, 0, 0, 0, 0, \n . 0, 3, 0, 2, 0, 0, 0, 0, 2, 0, 0, 0, 1, 1, 0, 0, 0, 1, 0, 0, 0, \n . 0, 0, 0, 0, 0, 0, 0, 0, 0, 0, 0, 0, 1, 2, 0, 0, 0, 0, 1, 0, 0, \n . 0, 1, 0, 0, 0, 0, 0, 0, 0, 2, 0, 0, 0, 2, 0, 0, 0, 0, 1, 0, 2, \n . 2, 0, 0, 0, 0, 2, 0, 1, 0, 0, 0, 2, 1, 0, 0, 0, 1, 2, 1, 4, 0, \n . 0, 0, 1, 1, 0, 0, 1, 1, 0, 0, 0, 2, 0, 2, 1, 2, 0, 0, 0, 1, 0, \n . 0, 0, 0, 1, 0, 0, 0, 1, 0, 0, 0, 2, 0, 0, 0, 1, 0, 0, 0, 0, 0, \n . 0, 0, 0, 0, 0, 0, 0, 0, 0, 0, 0, 0, 0, 0, 0, 0, 0, 0, 1, 0, 0, \n . 0, 2, 0, 0, 0, 2, 0, 0, 0, 0, 0, 0, 0, 0, 0, 2, 1, 0, 0, 1, 0, \n . 0, 2, 2, 0, 0, 0, 1, 0, 2, 1, 0, 0, 0, 1, 0, 1, 0, 0, 0, 1, 1, \n . 0, 0, 0, 0, 1, 1, 0, 0, 0, 0, 0, 0, 0, 0, 0, 0, 0, 0, 0, 0, 0, \n . 0, 0, 2, 0, 1, 0, 0, 0, 0, 0, 2, 0, 0, 0, 0, 0, 2, 1, 0, 1, 0, \n . 0, 0, 2, 1, 0, 0, 0, 1, 2, 0, 0, 0, 1, 1, 0, 0, 1, 0, 0, 0, 0, \n . 0, 0, 0, 1, 2, 0, 0, 0, 0, 0, 0, 1, 0, 0, 0, 1, 0, 0, 0, 1, 0, \n . 0, 0, 4, 0, 1, 0, 0, 0, 0, 0, 0, 0, 0, 0, 0, 0, 1, 0, 0, 2, 0, \n . 0, 0, 2, 0, 0, 0, 0, 2, 0, 0, 0, 2, 0, 0, 0, 2, 0, 0, 0, 0, 0, \n . 0, 0, 0, 0, 0, 0, 0, 1, 0, 1, 0, 0, 0, 0, 0, 0, 1, 2, 0, 2, 0, \n . 0, 0, 1, 1, 0, 0, 0, 0, 0, 0, 0, 0, 0, 0, 2, 2, 3, 4, 0, 1, 0, \n . 0, 0, 0, 2, 1, 0, 1, 0, 2, 0, 0, 0, 0, 0, 0, 0, 0, 0, 0, 0, 0, \n . 0, 0, 0, 0, 0, 0, 1, 0, 0, 2, 0, 0, 0, 0, 0, 0, 1, 2, 0, 0, 0, \n . 0, 1, 0, 0, 0, 1, 0, 0, 0, 0, 0, 0, 0, 0, 2, 0, 0, 0, 0, 0, 0, \n . 0, 2, 0, 0, 0, 0, 0, 0, 0, 0, 0, 0, 0, 0, 0, 0, 0, 0, 1, 0, 0, \n . 0, 0, 0, 1, 1, 0, 1, 2, 0, 2, 0, 0, 0, 2, 2, 2, 2, 0, 0, 0, 0, \n . 0, 1, 1, 2, 0, 0, 0, 0, 0, 0, 0, 1, 0, 0, 0, 0, 0, 0, 0, 0, 4, \n . 0, 0, 0, 0, 0, 0, 0, 0, 0, 0, 0, 0, 1, 1, 0, 0, 0, 2, 0, 1, 0, \n . 0, 0, 0, 0, 2, 0, 1, 0, 0, 0, 0, 1, 0, 0, 0, 0, 0, 0, 0, 2, 0, \n . 5, 0, 0, 0, 0, 2, 1, 0, 1, 0, 0, 0, 1, 0, 0, 0, 0, 0, 0, 0, 0, \n . 0, 0, 0, 2, 0, 0, 1, 5, 0, 0, 0, 2, 0, 1, 0, 0, 0, 0, 0, 0, 1, \n . 0, 0, 0, 0, 0, 1, 0, 2, 0, 0, 0, 0, 0, 0, 0, 0, 0, 0, 1, 0, 0, \n . 0, 0, 0, 0, 0, 6, 1, 0, 0, 0, 2, 1, 2, 1, 0, 0, 1, 0, 1, 0, 0, \n . 0, 0, 0, 0, 1, 0, 0, 0, 1, 0, 0, 0, 0, 0, 0, 1, 0, 0, 0, 0, 0, \n . 0, 0, 0, 0, 0, 1, 0, 0, 0, 0, 0, 0, 0, 0, 0, 0, 0, 0, 0, 0, 0, \n . 3, 0, 0, 0, 0, 0, 2, 0, 0, 1, 1, 0, 0, 0, 1, 1, 0, 0, 2, 1, 0, \n . 0, 0, 0, 0, 0, 0, 2, 0, 0, 0, 0, 0, 0, 0, 0, 0, 0, 3, 0, 0, 0, \n . 0, 1, 0, 0, 0, 2, 0, 0, 0, 1, 2, 0, 0, 0, 2, 0, 0, 0, 0, 0, 0, \n . 1, 0, 1, 2, 1, 0, 0, 0, 0, 0, 0, 0, 0, 0, 2, 0, 0, 0, 1, 0, 2, \n . 1, 0, 0, 1, 1, 0, 0, 2, 0, 0, 0, 1, 0, 0, 0, 1, 0, 0, 0, 0, 0, \n . 0, 0, 0, 0, 0, 2, 0, 1, 0, 2, 0, 1, 1, 0, 1, 1, 0, 3, 0, 0, 0, \n . 0, 2, 0, 0, 0, 0, 0, 1, 0, 1, 0, 0, 0, 0, 0, 0, 0, 1, 1, 0, 0, \n . 0, 0, 5, 0, 0, 2, 0, 0), Fare = c(7.25, 71.2833, 7.925, 53.1, \n . 8.05, 8.4583, 51.8625, 21.075, 11.1333, 30.0708, 16.7, 26.55, \n . 8.05, 31.275, 7.8542, 16, 29.125, 13, 18, 7.225, 26, 13, 8.0292, \n . 35.5, 21.075, 31.3875, 7.225, 263, 7.8792, 7.8958, 27.7208, 146.5208, \n . 7.75, 10.5, 82.1708, 52, 7.2292, 8.05, 18, 11.2417, 9.475, 21, \n . 7.8958, 41.5792, 7.8792, 8.05, 15.5, 7.75, 21.6792, 17.8, 39.6875, \n . 7.8, 76.7292, 26, 61.9792, 35.5, 10.5, 7.2292, 27.75, 46.9, 7.2292, \n . 80, 83.475, 27.9, 27.7208, 15.2458, 10.5, 8.1583, 7.925, 8.6625, \n . 10.5, 46.9, 73.5, 14.4542, 56.4958, 7.65, 7.8958, 8.05, 29, 12.475, \n . 9, 9.5, 7.7875, 47.1, 10.5, 15.85, 34.375, 8.05, 263, 8.05, 8.05, \n . 7.8542, 61.175, 20.575, 7.25, 8.05, 34.6542, 63.3583, 23, 26, \n . 7.8958, 7.8958, 77.2875, 8.6542, 7.925, 7.8958, 7.65, 7.775, \n . 7.8958, 24.15, 52, 14.4542, 8.05, 9.825, 14.4583, 7.925, 7.75, \n . 21, 247.5208, 31.275, 73.5, 8.05, 30.0708, 13, 77.2875, 11.2417, \n . 7.75, 7.1417, 22.3583, 6.975, 7.8958, 7.05, 14.5, 26, 13, 15.0458, \n . 26.2833, 53.1, 9.2167, 79.2, 15.2458, 7.75, 15.85, 6.75, 11.5, \n . 36.75, 7.7958, 34.375, 26, 13, 12.525, 66.6, 8.05, 14.5, 7.3125, \n . 61.3792, 7.7333, 8.05, 8.6625, 69.55, 16.1, 15.75, 7.775, 8.6625, \n . 39.6875, 20.525, 55, 27.9, 25.925, 56.4958, 33.5, 29.125, 11.1333, \n . 7.925, 30.6958, 7.8542, 25.4667, 28.7125, 13, 0, 69.55, 15.05, \n . 31.3875, 39, 22.025, 50, 15.5, 26.55, 15.5, 7.8958, 13, 13, 7.8542, \n . 26, 27.7208, 146.5208, 7.75, 8.4042, 7.75, 13, 9.5, 69.55, 6.4958, \n . 7.225, 8.05, 10.4625, 15.85, 18.7875, 7.75, 31, 7.05, 21, 7.25, \n . 13, 7.75, 113.275, 7.925, 27, 76.2917, 10.5, 8.05, 13, 8.05, \n . 7.8958, 90, 9.35, 10.5, 7.25, 13, 25.4667, 83.475, 7.775, 13.5, \n . 31.3875, 10.5, 7.55, 26, 26.25, 10.5, 12.275, 14.4542, 15.5, \n . 10.5, 7.125, 7.225, 90, 7.775, 14.5, 52.5542, 26, 7.25, 10.4625, \n . 26.55, 16.1, 20.2125, 15.2458, 79.2, 86.5, 512.3292, 26, 7.75, \n . 31.3875, 79.65, 0, 7.75, 10.5, 39.6875, 7.775, 153.4625, 135.6333, \n . 31, 0, 19.5, 29.7, 7.75, 77.9583, 7.75, 0, 29.125, 20.25, 7.75, \n . 7.8542, 9.5, 8.05, 26, 8.6625, 9.5, 7.8958, 13, 7.75, 78.85, \n . 91.0792, 12.875, 8.85, 7.8958, 27.7208, 7.2292, 151.55, 30.5, \n . 247.5208, 7.75, 23.25, 0, 12.35, 8.05, 151.55, 110.8833, 108.9, \n . 24, 56.9292, 83.1583, 262.375, 26, 7.8958, 26.25, 7.8542, 26, \n . 14, 164.8667, 134.5, 7.25, 7.8958, 12.35, 29, 69.55, 135.6333, \n . 6.2375, 13, 20.525, 57.9792, 23.25, 28.5, 153.4625, 18, 133.65, \n . 7.8958, 66.6, 134.5, 8.05, 35.5, 26, 263, 13, 13, 13, 13, 13, \n . 16.1, 15.9, 8.6625, 9.225, 35, 7.2292, 17.8, 7.225, 9.5, 55, \n . 13, 7.8792, 7.8792, 27.9, 27.7208, 14.4542, 7.05, 15.5, 7.25, \n . 75.25, 7.2292, 7.75, 69.3, 55.4417, 6.4958, 8.05, 135.6333, 21.075, \n . 82.1708, 7.25, 211.5, 4.0125, 7.775, 227.525, 15.7417, 7.925, \n . 52, 7.8958, 73.5, 46.9, 13, 7.7292, 12, 120, 7.7958, 7.925, 113.275, \n . 16.7, 7.7958, 7.8542, 26, 10.5, 12.65, 7.925, 8.05, 9.825, 15.85, \n . 8.6625, 21, 7.75, 18.75, 7.775, 25.4667, 7.8958, 6.8583, 90, \n . 0, 7.925, 8.05, 32.5, 13, 13, 24.15, 7.8958, 7.7333, 7.875, 14.4, \n . 20.2125, 7.25, 26, 26, 7.75, 8.05, 26.55, 16.1, 26, 7.125, 55.9, \n . 120, 34.375, 18.75, 263, 10.5, 26.25, 9.5, 7.775, 13, 8.1125, \n . 81.8583, 19.5, 26.55, 19.2583, 30.5, 27.75, 19.9667, 27.75, 89.1042, \n . 8.05, 7.8958, 26.55, 51.8625, 10.5, 7.75, 26.55, 8.05, 38.5, \n . 13, 8.05, 7.05, 0, 26.55, 7.725, 19.2583, 7.25, 8.6625, 27.75, \n . 13.7917, 9.8375, 52, 21, 7.0458, 7.5208, 12.2875, 46.9, 0, 8.05, \n . 9.5875, 91.0792, 25.4667, 90, 29.7, 8.05, 15.9, 19.9667, 7.25, \n . 30.5, 49.5042, 8.05, 14.4583, 78.2667, 15.1, 151.55, 7.7958, \n . 8.6625, 7.75, 7.6292, 9.5875, 86.5, 108.9, 26, 26.55, 22.525, \n . 56.4958, 7.75, 8.05, 26.2875, 59.4, 7.4958, 34.0208, 10.5, 24.15, \n . 26, 7.8958, 93.5, 7.8958, 7.225, 57.9792, 7.2292, 7.75, 10.5, \n . 221.7792, 7.925, 11.5, 26, 7.2292, 7.2292, 22.3583, 8.6625, 26.25, \n . 26.55, 106.425, 14.5, 49.5, 71, 31.275, 31.275, 26, 106.425, \n . 26, 26, 13.8625, 20.525, 36.75, 110.8833, 26, 7.8292, 7.225, \n . 7.775, 26.55, 39.6, 227.525, 79.65, 17.4, 7.75, 7.8958, 13.5, \n . 8.05, 8.05, 24.15, 7.8958, 21.075, 7.2292, 7.8542, 10.5, 51.4792, \n . 26.3875, 7.75, 8.05, 14.5, 13, 55.9, 14.4583, 7.925, 30, 110.8833, \n . 26, 40.125, 8.7125, 79.65, 15, 79.2, 8.05, 8.05, 7.125, 78.2667, \n . 7.25, 7.75, 26, 24.15, 33, 0, 7.225, 56.9292, 27, 7.8958, 42.4, \n . 8.05, 26.55, 15.55, 7.8958, 30.5, 41.5792, 153.4625, 31.275, \n . 7.05, 15.5, 7.75, 8.05, 65, 14.4, 16.1, 39, 10.5, 14.4542, 52.5542, \n . 15.7417, 7.8542, 16.1, 32.3208, 12.35, 77.9583, 7.8958, 7.7333, \n . 30, 7.0542, 30.5, 0, 27.9, 13, 7.925, 26.25, 39.6875, 16.1, 7.8542, \n . 69.3, 27.9, 56.4958, 19.2583, 76.7292, 7.8958, 35.5, 7.55, 7.55, \n . 7.8958, 23, 8.4333, 7.8292, 6.75, 73.5, 7.8958, 15.5, 13, 113.275, \n . 133.65, 7.225, 25.5875, 7.4958, 7.925, 73.5, 13, 7.775, 8.05, \n . 52, 39, 52, 10.5, 13, 0, 7.775, 8.05, 9.8417, 46.9, 512.3292, \n . 8.1375, 76.7292, 9.225, 46.9, 39, 41.5792, 39.6875, 10.1708, \n . 7.7958, 211.3375, 57, 13.4167, 56.4958, 7.225, 26.55, 13.5, 8.05, \n . 7.7333, 110.8833, 7.65, 227.525, 26.2875, 14.4542, 7.7417, 7.8542, \n . 26, 13.5, 26.2875, 151.55, 15.2458, 49.5042, 26.55, 52, 9.4833, \n . 13, 7.65, 227.525, 10.5, 15.5, 7.775, 33, 7.0542, 13, 13, 53.1, \n . 8.6625, 21, 7.7375, 26, 7.925, 211.3375, 18.7875, 0, 13, 13, \n . 16.1, 34.375, 512.3292, 7.8958, 7.8958, 30, 78.85, 262.375, 16.1, \n . 7.925, 71, 20.25, 13, 53.1, 7.75, 23, 12.475, 9.5, 7.8958, 65, \n . 14.5, 7.7958, 11.5, 8.05, 86.5, 14.5, 7.125, 7.2292, 120, 7.775, \n . 77.9583, 39.6, 7.75, 24.15, 8.3625, 9.5, 7.8542, 10.5, 7.225, \n . 23, 7.75, 7.75, 12.475, 7.7375, 211.3375, 7.2292, 57, 30, 23.45, \n . 7.05, 7.25, 7.4958, 29.125, 20.575, 79.2, 7.75, 26, 69.55, 30.6958, \n . 7.8958, 13, 25.9292, 8.6833, 7.2292, 24.15, 13, 26.25, 120, 8.5167, \n . 6.975, 7.775, 0, 7.775, 13, 53.1, 7.8875, 24.15, 10.5, 31.275, \n . 8.05, 0, 7.925, 37.0042, 6.45, 27.9, 93.5, 8.6625, 0, 12.475, \n . 39.6875, 6.95, 56.4958, 37.0042, 7.75, 80, 14.4542, 18.75, 7.2292, \n . 7.8542, 8.3, 83.1583, 8.6625, 8.05, 56.4958, 29.7, 7.925, 10.5, \n . 31, 6.4375, 8.6625, 7.55, 69.55, 7.8958, 33, 89.1042, 31.275, \n . 7.775, 15.2458, 39.4, 26, 9.35, 164.8667, 26.55, 19.2583, 7.2292, \n . 14.1083, 11.5, 25.9292, 69.55, 13, 13, 13.8583, 50.4958, 9.5, \n . 11.1333, 7.8958, 52.5542, 5, 9, 24, 7.225, 9.8458, 7.8958, 7.8958, \n . 83.1583, 26, 7.8958, 10.5167, 10.5, 7.05, 29.125, 13, 30, 23.45, \n . 30, 7.75), Embarked = c(\"S\", \"C\", \"S\", \"S\", \"S\", \"Q\", \"S\", \"S\", \n . \"S\", \"C\", \"S\", \"S\", \"S\", \"S\", \"S\", \"S\", \"Q\", \"S\", \"S\", \"C\", \"S\", \n . \"S\", \"Q\", \"S\", \"S\", \"S\", \"C\", \"S\", \"Q\", \"S\", \"C\", \"C\", \"Q\", \"S\", \n . \"C\", \"S\", \"C\", \"S\", \"S\", \"C\", \"S\", \"S\", \"C\", \"C\", \"Q\", \"S\", \"Q\", \n . \"Q\", \"C\", \"S\", \"S\", \"S\", \"C\", \"S\", \"C\", \"S\", \"S\", \"C\", \"S\", \"S\", \n . \"C\", NA, \"S\", \"S\", \"C\", \"C\", \"S\", \"S\", \"S\", \"S\", \"S\", \"S\", \"S\", \n . \"C\", \"S\", \"S\", \"S\", \"S\", \"S\", \"S\", \"S\", \"S\", \"Q\", \"S\", \"S\", \"S\", \n . \"S\", \"S\", \"S\", \"S\", \"S\", \"S\", \"S\", \"S\", \"S\", \"S\", \"C\", \"C\", \"S\", \n . \"S\", \"S\", \"S\", \"S\", \"S\", \"S\", \"S\", \"S\", \"S\", \"S\", \"Q\", \"S\", \"C\", \n . \"S\", \"S\", \"C\", \"S\", \"Q\", \"S\", \"C\", \"S\", \"S\", \"S\", \"C\", \"S\", \"S\", \n . \"C\", \"Q\", \"S\", \"C\", \"S\", \"C\", \"S\", \"S\", \"S\", \"S\", \"C\", \"S\", \"S\", \n . \"S\", \"C\", \"C\", \"S\", \"S\", \"Q\", \"S\", \"S\", \"S\", \"S\", \"S\", \"S\", \"S\", \n . \"S\", \"S\", \"S\", \"S\", \"C\", \"Q\", \"S\", \"S\", \"S\", \"S\", \"S\", \"S\", \"S\", \n . \"S\", \"S\", \"S\", \"S\", \"S\", \"S\", \"S\", \"Q\", \"S\", \"S\", \"C\", \"S\", \"S\", \n . \"C\", \"S\", \"S\", \"S\", \"C\", \"S\", \"S\", \"S\", \"S\", \"Q\", \"S\", \"Q\", \"S\", \n . \"S\", \"S\", \"S\", \"S\", \"C\", \"C\", \"Q\", \"S\", \"Q\", \"S\", \"S\", \"S\", \"S\", \n . \"C\", \"S\", \"S\", \"S\", \"C\", \"Q\", \"C\", \"S\", \"S\", \"S\", \"S\", \"Q\", \"C\", \n . \"S\", \"S\", \"C\", \"S\", \"S\", \"S\", \"S\", \"S\", \"S\", \"S\", \"S\", \"S\", \"S\", \n . \"S\", \"S\", \"S\", \"S\", \"S\", \"S\", \"S\", \"S\", \"S\", \"S\", \"S\", \"C\", \"Q\", \n . \"S\", \"S\", \"C\", \"Q\", \"S\", \"S\", \"S\", \"S\", \"S\", \"S\", \"S\", \"S\", \"S\", \n . \"C\", \"C\", \"S\", \"C\", \"S\", \"Q\", \"S\", \"S\", \"S\", \"Q\", \"S\", \"S\", \"S\", \n . \"S\", \"S\", \"S\", \"S\", \"S\", \"C\", \"Q\", \"S\", \"S\", \"S\", \"Q\", \"S\", \"Q\", \n . \"S\", \"S\", \"S\", \"S\", \"C\", \"S\", \"S\", \"S\", \"Q\", \"S\", \"C\", \"C\", \"S\", \n . \"S\", \"C\", \"C\", \"S\", \"S\", \"C\", \"Q\", \"Q\", \"S\", \"Q\", \"S\", \"S\", \"C\", \n . \"C\", \"C\", \"C\", \"C\", \"C\", \"S\", \"S\", \"S\", \"S\", \"S\", \"S\", \"S\", \"C\", \n . \"S\", \"S\", \"Q\", \"S\", \"S\", \"C\", \"S\", \"S\", \"S\", \"C\", \"Q\", \"S\", \"S\", \n . \"S\", \"S\", \"S\", \"S\", \"C\", \"S\", \"S\", \"S\", \"S\", \"S\", \"S\", \"S\", \"S\", \n . \"S\", \"S\", \"S\", \"S\", \"S\", \"S\", \"C\", \"S\", \"C\", \"S\", \"S\", \"S\", \"Q\", \n . \"Q\", \"S\", \"C\", \"C\", \"S\", \"Q\", \"S\", \"C\", \"C\", \"Q\", \"C\", \"C\", \"S\", \n . \"S\", \"C\", \"S\", \"C\", \"S\", \"C\", \"C\", \"S\", \"C\", \"C\", \"S\", \"S\", \"S\", \n . \"S\", \"S\", \"S\", \"Q\", \"C\", \"S\", \"S\", \"S\", \"C\", \"S\", \"S\", \"S\", \"S\", \n . \"S\", \"S\", \"S\", \"S\", \"S\", \"S\", \"S\", \"S\", \"S\", \"S\", \"S\", \"S\", \"S\", \n . \"Q\", \"Q\", \"S\", \"S\", \"S\", \"S\", \"S\", \"S\", \"S\", \"C\", \"Q\", \"S\", \"S\", \n . \"S\", \"S\", \"S\", \"S\", \"Q\", \"S\", \"S\", \"S\", \"S\", \"S\", \"S\", \"S\", \"S\", \n . \"S\", \"S\", \"S\", \"S\", \"S\", \"S\", \"S\", \"S\", \"S\", \"S\", \"S\", \"C\", \"S\", \n . \"S\", \"S\", \"C\", \"C\", \"S\", \"C\", \"S\", \"S\", \"S\", \"Q\", \"S\", \"S\", \"S\", \n . \"S\", \"S\", \"S\", \"S\", \"S\", \"Q\", \"C\", \"S\", \"S\", \"S\", \"C\", \"S\", \"S\", \n . \"S\", \"S\", \"S\", \"S\", \"S\", \"S\", \"S\", \"S\", \"C\", \"S\", \"S\", \"C\", \"S\", \n . \"S\", \"S\", \"S\", \"S\", \"C\", \"S\", \"C\", \"C\", \"S\", \"S\", \"S\", \"S\", \"Q\", \n . \"Q\", \"S\", \"S\", \"C\", \"S\", \"S\", \"S\", \"S\", \"Q\", \"S\", \"S\", \"C\", \"S\", \n . \"S\", \"S\", \"Q\", \"S\", \"S\", \"S\", \"S\", \"C\", \"C\", \"C\", \"Q\", \"S\", \"S\", \n . \"S\", \"S\", \"S\", \"C\", \"C\", \"C\", \"S\", \"S\", \"S\", \"C\", \"S\", \"C\", \"S\", \n . \"S\", \"S\", \"S\", \"C\", \"S\", \"S\", \"C\", \"S\", \"S\", \"C\", \"S\", \"Q\", \"C\", \n . \"S\", \"S\", \"C\", \"C\", \"S\", \"S\", \"Q\", \"S\", \"S\", \"S\", \"S\", \"S\", \"S\", \n . \"S\", \"C\", \"S\", \"S\", \"S\", \"S\", \"Q\", \"S\", \"S\", \"S\", \"S\", \"C\", \"S\", \n . \"S\", \"C\", \"S\", \"C\", \"C\", \"S\", \"S\", \"C\", \"S\", \"S\", \"S\", \"C\", \"S\", \n . \"Q\", \"S\", \"S\", \"S\", \"S\", \"C\", \"C\", \"S\", \"S\", \"S\", \"S\", \"C\", \"S\", \n . \"S\", \"S\", \"C\", \"S\", \"S\", \"S\", \"Q\", \"Q\", \"S\", \"S\", \"S\", \"S\", \"S\", \n . \"S\", \"C\", \"S\", \"C\", \"S\", \"S\", \"S\", \"Q\", \"S\", \"S\", \"Q\", \"S\", \"S\", \n . \"C\", \"S\", \"S\", \"S\", \"S\", \"S\", \"S\", \"S\", \"S\", \"C\", \"S\", \"S\", \"C\", \n . \"C\", \"S\", \"C\", \"S\", \"S\", \"S\", \"S\", \"S\", \"Q\", \"Q\", \"S\", \"S\", \"Q\", \n . \"S\", \"C\", \"S\", \"C\", \"S\", \"S\", \"S\", \"S\", \"S\", \"S\", \"S\", \"S\", \"S\", \n . \"S\", \"S\", \"S\", \"S\", \"S\", \"S\", \"S\", \"S\", \"C\", \"Q\", \"C\", \"S\", \"S\", \n . \"S\", \"C\", \"S\", \"S\", \"S\", \"S\", \"S\", \"C\", \"S\", \"C\", \"S\", \"S\", \"S\", \n . \"Q\", \"C\", \"S\", \"C\", \"S\", \"C\", \"Q\", \"S\", \"S\", \"S\", \"S\", \"S\", \"C\", \n . \"C\", \"S\", \"S\", \"S\", \"S\", \"S\", \"C\", \"S\", \"Q\", \"S\", \"S\", \"S\", \"S\", \n . \"S\", \"S\", \"S\", \"S\", \"Q\", \"S\", \"S\", \"S\", \"C\", \"S\", \"S\", \"S\", \"S\", \n . \"S\", \"C\", \"S\", \"S\", \"S\", \"S\", \"C\", \"S\", \"S\", \"S\", \"S\", \"S\", \"S\", \n . \"Q\", \"S\", \"S\", \"S\", \"S\", \"S\", \"S\", \"S\", \"S\", \"S\", \"S\", \"S\", \"S\", \n . \"C\", \"S\", \"S\", \"S\", \"C\", \"Q\", \"Q\", \"S\", \"S\", \"S\", \"S\", \"C\", \"S\", \n . \"S\", \"Q\", \"S\", \"Q\", \"S\", \"C\", \"S\", \"S\", \"S\", \"S\", \"S\", \"S\", \"Q\", \n . \"S\", \"C\", \"Q\", \"S\", \"S\", \"C\", \"S\", \"S\", \"S\", \"S\", \"C\", \"S\", \"S\", \n . \"S\", \"S\", \"C\", \"S\", \"S\", \"S\", \"S\", \"S\", \"S\", \"S\", \"S\", \"S\", \"S\", \n . \"S\", \"S\", \"S\", \"C\", \"S\", \"S\", \"S\", \"S\", \"S\", \"S\", \"S\", \"Q\", \"S\", \n . \"C\", \"Q\", NA, \"C\", \"S\", \"C\", \"S\", \"S\", \"C\", \"S\", \"S\", \"S\", \"C\", \n . \"S\", \"S\", \"C\", \"C\", \"S\", \"S\", \"S\", \"C\", \"S\", \"C\", \"S\", \"S\", \"C\", \n . \"S\", \"S\", \"S\", \"S\", \"S\", \"C\", \"C\", \"S\", \"S\", \"S\", \"S\", \"S\", \"S\", \n . \"C\", \"S\", \"S\", \"S\", \"S\", \"S\", \"S\", \"S\", \"C\", \"C\", \"S\", \"S\", \"S\", \n . \"C\", \"S\", \"S\", \"S\", \"S\", \"S\", \"Q\", \"S\", \"S\", \"S\", \"C\", \"Q\")), class = \"data.frame\", row.names = c(NA, \n . 891L), terms = Survived ~ Pclass + Sex + Age + SibSp + Parch + \n .     Fare + Embarked))",
            "9. stop(\"missing values in object\")"
          ]
        }
      ]
    }
  ]
}