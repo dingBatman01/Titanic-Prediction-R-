{
  "nbformat": 4,
  "nbformat_minor": 0,
  "metadata": {
    "colab": {
      "name": "Titanic Prediction.ipynb",
      "provenance": [],
      "collapsed_sections": [],
      "authorship_tag": "ABX9TyM2kS56xxhmnCjZydP8n1KL",
      "include_colab_link": true
    },
    "kernelspec": {
      "display_name": "R",
      "name": "ir"
    },
    "language_info": {
      "name": "R"
    },
    "accelerator": "GPU"
  },
  "cells": [
    {
      "cell_type": "markdown",
      "metadata": {
        "id": "view-in-github",
        "colab_type": "text"
      },
      "source": [
        "<a href=\"https://colab.research.google.com/github/dingBatman01/titanic_r/blob/main/Titanic_Prediction.ipynb\" target=\"_parent\"><img src=\"https://colab.research.google.com/assets/colab-badge.svg\" alt=\"Open In Colab\"/></a>"
      ]
    },
    {
      "cell_type": "code",
      "metadata": {
        "colab": {
          "base_uri": "https://localhost:8080/"
        },
        "id": "1FtmajBkogxr",
        "outputId": "d1ef166e-5eb3-4157-cc6f-24bff81be8ba"
      },
      "source": [
        "install.packages(c(\"dplyr\", \"randomForest\", \"BiocManager\"))"
      ],
      "execution_count": 36,
      "outputs": [
        {
          "output_type": "stream",
          "text": [
            "Installing packages into ‘/usr/local/lib/R/site-library’\n",
            "(as ‘lib’ is unspecified)\n",
            "\n"
          ],
          "name": "stderr"
        }
      ]
    },
    {
      "cell_type": "code",
      "metadata": {
        "id": "TlqlIJH9_Qkh"
      },
      "source": [
        "library(BiocManager)"
      ],
      "execution_count": 37,
      "outputs": []
    },
    {
      "cell_type": "code",
      "metadata": {
        "colab": {
          "base_uri": "https://localhost:8080/"
        },
        "id": "CI5XlXFwWUiO",
        "outputId": "afcdbb38-abc3-4d14-838c-615349e54489"
      },
      "source": [
        "required_packages <- c(\n",
        "  'VIM'   \n",
        ")\n",
        "\n",
        "missing_packages <- required_packages[!required_packages %in% rownames(installed.packages())]\n",
        "if (length(missing_packages) > 0){\n",
        "    BiocManager::install(missing_packages)\n",
        "}"
      ],
      "execution_count": 38,
      "outputs": [
        {
          "output_type": "stream",
          "text": [
            "'getOption(\"repos\")' replaces Bioconductor standard repositories, see\n",
            "'?repositories' for details\n",
            "\n",
            "replacement repositories:\n",
            "    CRAN: https://cran.rstudio.com\n",
            "\n",
            "\n",
            "Bioconductor version 3.12 (BiocManager 1.30.12), R 4.0.5 (2021-03-31)\n",
            "\n",
            "Installing package(s) 'VIM'\n",
            "\n",
            "also installing the dependencies ‘openxlsx’, ‘rio’, ‘car’, ‘data.table’\n",
            "\n",
            "\n",
            "Warning message in install.packages(...):\n",
            "“installation of package ‘openxlsx’ had non-zero exit status”\n",
            "Warning message in install.packages(...):\n",
            "“installation of package ‘data.table’ had non-zero exit status”\n",
            "Warning message in install.packages(...):\n",
            "“installation of package ‘rio’ had non-zero exit status”\n",
            "Warning message in install.packages(...):\n",
            "“installation of package ‘car’ had non-zero exit status”\n",
            "Warning message in install.packages(...):\n",
            "“installation of package ‘VIM’ had non-zero exit status”\n",
            "Old packages: 'dbplyr', 'devtools', 'DT', 'haven', 'knitr', 'pillar',\n",
            "  'pkgload', 'viridisLite'\n",
            "\n"
          ],
          "name": "stderr"
        }
      ]
    },
    {
      "cell_type": "code",
      "metadata": {
        "colab": {
          "base_uri": "https://localhost:8080/",
          "height": 128
        },
        "id": "NcN7XT11WNZB",
        "outputId": "f4f378eb-faf8-4e6b-f2a0-859f4ede9a6b"
      },
      "source": [
        "library(dplyr)\n",
        "library(randomForest)\n",
        "library(VIM)"
      ],
      "execution_count": 39,
      "outputs": [
        {
          "output_type": "error",
          "ename": "ERROR",
          "evalue": "ignored",
          "traceback": [
            "Error in library(VIM): there is no package called ‘VIM’\nTraceback:\n",
            "1. library(VIM)"
          ]
        }
      ]
    },
    {
      "cell_type": "code",
      "metadata": {
        "colab": {
          "base_uri": "https://localhost:8080/",
          "height": 638
        },
        "id": "-TKE0q5SASom",
        "outputId": "dc4a9537-4475-40de-e8ff-27808b87408e"
      },
      "source": [
        "# Import Raw Data\n",
        "system(\"gdown -- 1t9JgW1S0JdBhDMo1Zv3BUyX1LEYnoMzN\")\n",
        "t_test <- readr::read_csv(\"test.csv\")\n",
        "system(\"gdown -- 1biF9EdLAbMBT-j22PiGQoy-E_G0WDUSw\")\n",
        "t_train <- readr::read_csv(\"train.csv\")\n",
        "names(t_test)\n",
        "names(t_train)"
      ],
      "execution_count": 40,
      "outputs": [
        {
          "output_type": "stream",
          "text": [
            "\n",
            "\u001b[36m──\u001b[39m \u001b[1m\u001b[1mColumn specification\u001b[1m\u001b[22m \u001b[36m────────────────────────────────────────────────────────\u001b[39m\n",
            "cols(\n",
            "  PassengerId = \u001b[32mcol_double()\u001b[39m,\n",
            "  Pclass = \u001b[32mcol_double()\u001b[39m,\n",
            "  Name = \u001b[31mcol_character()\u001b[39m,\n",
            "  Sex = \u001b[31mcol_character()\u001b[39m,\n",
            "  Age = \u001b[32mcol_double()\u001b[39m,\n",
            "  SibSp = \u001b[32mcol_double()\u001b[39m,\n",
            "  Parch = \u001b[32mcol_double()\u001b[39m,\n",
            "  Ticket = \u001b[31mcol_character()\u001b[39m,\n",
            "  Fare = \u001b[32mcol_double()\u001b[39m,\n",
            "  Cabin = \u001b[31mcol_character()\u001b[39m,\n",
            "  Embarked = \u001b[31mcol_character()\u001b[39m\n",
            ")\n",
            "\n",
            "\n",
            "\n",
            "\u001b[36m──\u001b[39m \u001b[1m\u001b[1mColumn specification\u001b[1m\u001b[22m \u001b[36m────────────────────────────────────────────────────────\u001b[39m\n",
            "cols(\n",
            "  PassengerId = \u001b[32mcol_double()\u001b[39m,\n",
            "  Survived = \u001b[32mcol_double()\u001b[39m,\n",
            "  Pclass = \u001b[32mcol_double()\u001b[39m,\n",
            "  Name = \u001b[31mcol_character()\u001b[39m,\n",
            "  Sex = \u001b[31mcol_character()\u001b[39m,\n",
            "  Age = \u001b[32mcol_double()\u001b[39m,\n",
            "  SibSp = \u001b[32mcol_double()\u001b[39m,\n",
            "  Parch = \u001b[32mcol_double()\u001b[39m,\n",
            "  Ticket = \u001b[31mcol_character()\u001b[39m,\n",
            "  Fare = \u001b[32mcol_double()\u001b[39m,\n",
            "  Cabin = \u001b[31mcol_character()\u001b[39m,\n",
            "  Embarked = \u001b[31mcol_character()\u001b[39m\n",
            ")\n",
            "\n",
            "\n"
          ],
          "name": "stderr"
        },
        {
          "output_type": "display_data",
          "data": {
            "text/plain": [
              " [1] \"PassengerId\" \"Pclass\"      \"Name\"        \"Sex\"         \"Age\"        \n",
              " [6] \"SibSp\"       \"Parch\"       \"Ticket\"      \"Fare\"        \"Cabin\"      \n",
              "[11] \"Embarked\"   "
            ],
            "text/latex": "\\begin{enumerate*}\n\\item 'PassengerId'\n\\item 'Pclass'\n\\item 'Name'\n\\item 'Sex'\n\\item 'Age'\n\\item 'SibSp'\n\\item 'Parch'\n\\item 'Ticket'\n\\item 'Fare'\n\\item 'Cabin'\n\\item 'Embarked'\n\\end{enumerate*}\n",
            "text/markdown": "1. 'PassengerId'\n2. 'Pclass'\n3. 'Name'\n4. 'Sex'\n5. 'Age'\n6. 'SibSp'\n7. 'Parch'\n8. 'Ticket'\n9. 'Fare'\n10. 'Cabin'\n11. 'Embarked'\n\n\n",
            "text/html": [
              "<style>\n",
              ".list-inline {list-style: none; margin:0; padding: 0}\n",
              ".list-inline>li {display: inline-block}\n",
              ".list-inline>li:not(:last-child)::after {content: \"\\00b7\"; padding: 0 .5ex}\n",
              "</style>\n",
              "<ol class=list-inline><li>'PassengerId'</li><li>'Pclass'</li><li>'Name'</li><li>'Sex'</li><li>'Age'</li><li>'SibSp'</li><li>'Parch'</li><li>'Ticket'</li><li>'Fare'</li><li>'Cabin'</li><li>'Embarked'</li></ol>\n"
            ]
          },
          "metadata": {
            "tags": []
          }
        },
        {
          "output_type": "display_data",
          "data": {
            "text/plain": [
              " [1] \"PassengerId\" \"Survived\"    \"Pclass\"      \"Name\"        \"Sex\"        \n",
              " [6] \"Age\"         \"SibSp\"       \"Parch\"       \"Ticket\"      \"Fare\"       \n",
              "[11] \"Cabin\"       \"Embarked\"   "
            ],
            "text/latex": "\\begin{enumerate*}\n\\item 'PassengerId'\n\\item 'Survived'\n\\item 'Pclass'\n\\item 'Name'\n\\item 'Sex'\n\\item 'Age'\n\\item 'SibSp'\n\\item 'Parch'\n\\item 'Ticket'\n\\item 'Fare'\n\\item 'Cabin'\n\\item 'Embarked'\n\\end{enumerate*}\n",
            "text/markdown": "1. 'PassengerId'\n2. 'Survived'\n3. 'Pclass'\n4. 'Name'\n5. 'Sex'\n6. 'Age'\n7. 'SibSp'\n8. 'Parch'\n9. 'Ticket'\n10. 'Fare'\n11. 'Cabin'\n12. 'Embarked'\n\n\n",
            "text/html": [
              "<style>\n",
              ".list-inline {list-style: none; margin:0; padding: 0}\n",
              ".list-inline>li {display: inline-block}\n",
              ".list-inline>li:not(:last-child)::after {content: \"\\00b7\"; padding: 0 .5ex}\n",
              "</style>\n",
              "<ol class=list-inline><li>'PassengerId'</li><li>'Survived'</li><li>'Pclass'</li><li>'Name'</li><li>'Sex'</li><li>'Age'</li><li>'SibSp'</li><li>'Parch'</li><li>'Ticket'</li><li>'Fare'</li><li>'Cabin'</li><li>'Embarked'</li></ol>\n"
            ]
          },
          "metadata": {
            "tags": []
          }
        }
      ]
    },
    {
      "cell_type": "markdown",
      "metadata": {
        "id": "ljJIprY2FlK3"
      },
      "source": [
        "Since \"test.csv\" file is the test set that we need to test our model with, it does not have \"Survived\" column.   \n",
        "Anyway, I want to combine these two sets and make sure if the data sets have any missing values, or I need to do any data pre-processing."
      ]
    },
    {
      "cell_type": "code",
      "metadata": {
        "id": "yrxy92nmWnRo",
        "colab": {
          "base_uri": "https://localhost:8080/",
          "height": 420
        },
        "outputId": "8e15add1-0f25-451d-e52d-34f6983b3990"
      },
      "source": [
        "# Combining train and test sets\n",
        "t_full <- dplyr::bind_rows(t_train, t_test)\n",
        "summary(t_full)"
      ],
      "execution_count": 41,
      "outputs": [
        {
          "output_type": "display_data",
          "data": {
            "text/plain": [
              "  PassengerId      Survived          Pclass          Name          \n",
              " Min.   :   1   Min.   :0.0000   Min.   :1.000   Length:1309       \n",
              " 1st Qu.: 328   1st Qu.:0.0000   1st Qu.:2.000   Class :character  \n",
              " Median : 655   Median :0.0000   Median :3.000   Mode  :character  \n",
              " Mean   : 655   Mean   :0.3838   Mean   :2.295                     \n",
              " 3rd Qu.: 982   3rd Qu.:1.0000   3rd Qu.:3.000                     \n",
              " Max.   :1309   Max.   :1.0000   Max.   :3.000                     \n",
              "                NA's   :418                                        \n",
              "     Sex                 Age            SibSp            Parch      \n",
              " Length:1309        Min.   : 0.17   Min.   :0.0000   Min.   :0.000  \n",
              " Class :character   1st Qu.:21.00   1st Qu.:0.0000   1st Qu.:0.000  \n",
              " Mode  :character   Median :28.00   Median :0.0000   Median :0.000  \n",
              "                    Mean   :29.88   Mean   :0.4989   Mean   :0.385  \n",
              "                    3rd Qu.:39.00   3rd Qu.:1.0000   3rd Qu.:0.000  \n",
              "                    Max.   :80.00   Max.   :8.0000   Max.   :9.000  \n",
              "                    NA's   :263                                     \n",
              "    Ticket               Fare            Cabin             Embarked        \n",
              " Length:1309        Min.   :  0.000   Length:1309        Length:1309       \n",
              " Class :character   1st Qu.:  7.896   Class :character   Class :character  \n",
              " Mode  :character   Median : 14.454   Mode  :character   Mode  :character  \n",
              "                    Mean   : 33.295                                        \n",
              "                    3rd Qu.: 31.275                                        \n",
              "                    Max.   :512.329                                        \n",
              "                    NA's   :1                                              "
            ]
          },
          "metadata": {
            "tags": []
          }
        }
      ]
    },
    {
      "cell_type": "markdown",
      "metadata": {
        "id": "h-0YWbNqF-c-"
      },
      "source": [
        "(I was originally using \"rbind()\" function, but one of the references that I checked says \"dplyr::bind_rows()\" allows you not to worry about dimensions of the two data sets.  \n",
        "Therefore, I didn't need to make \"Survived\" column in the test set and fill the column with \"NA's\".  \n",
        "It automatically does it for me.)\n"
      ]
    },
    {
      "cell_type": "code",
      "metadata": {
        "colab": {
          "base_uri": "https://localhost:8080/",
          "height": 1000
        },
        "id": "2tAFRRz7F8D8",
        "outputId": "e49eb92e-3332-404a-a814-4331e3c75cf8"
      },
      "source": [
        "# Changing some variables into factors and checking for NA \n",
        "str(t_full)\n",
        "summary(t_full)\n",
        "t_full <- t_full %>% \n",
        "            mutate(Survived = factor(Survived),\n",
        "                   Pclass = factor(Pclass, ordered = T),\n",
        "                   Name = factor(Name),\n",
        "                   Sex = factor(Sex),\n",
        "                   Cabin = factor(Cabin),\n",
        "                   Embarked = factor(Embarked))\n",
        "str(t_full)\n",
        "summary(t_full)"
      ],
      "execution_count": 42,
      "outputs": [
        {
          "output_type": "stream",
          "text": [
            "spec_tbl_df[,12] [1,309 × 12] (S3: spec_tbl_df/tbl_df/tbl/data.frame)\n",
            " $ PassengerId: num [1:1309] 1 2 3 4 5 6 7 8 9 10 ...\n",
            " $ Survived   : num [1:1309] 0 1 1 1 0 0 0 0 1 1 ...\n",
            " $ Pclass     : num [1:1309] 3 1 3 1 3 3 1 3 3 2 ...\n",
            " $ Name       : chr [1:1309] \"Braund, Mr. Owen Harris\" \"Cumings, Mrs. John Bradley (Florence Briggs Thayer)\" \"Heikkinen, Miss. Laina\" \"Futrelle, Mrs. Jacques Heath (Lily May Peel)\" ...\n",
            " $ Sex        : chr [1:1309] \"male\" \"female\" \"female\" \"female\" ...\n",
            " $ Age        : num [1:1309] 22 38 26 35 35 NA 54 2 27 14 ...\n",
            " $ SibSp      : num [1:1309] 1 1 0 1 0 0 0 3 0 1 ...\n",
            " $ Parch      : num [1:1309] 0 0 0 0 0 0 0 1 2 0 ...\n",
            " $ Ticket     : chr [1:1309] \"A/5 21171\" \"PC 17599\" \"STON/O2. 3101282\" \"113803\" ...\n",
            " $ Fare       : num [1:1309] 7.25 71.28 7.92 53.1 8.05 ...\n",
            " $ Cabin      : chr [1:1309] NA \"C85\" NA \"C123\" ...\n",
            " $ Embarked   : chr [1:1309] \"S\" \"C\" \"S\" \"S\" ...\n",
            " - attr(*, \"spec\")=\n",
            "  .. cols(\n",
            "  ..   PassengerId = \u001b[32mcol_double()\u001b[39m,\n",
            "  ..   Survived = \u001b[32mcol_double()\u001b[39m,\n",
            "  ..   Pclass = \u001b[32mcol_double()\u001b[39m,\n",
            "  ..   Name = \u001b[31mcol_character()\u001b[39m,\n",
            "  ..   Sex = \u001b[31mcol_character()\u001b[39m,\n",
            "  ..   Age = \u001b[32mcol_double()\u001b[39m,\n",
            "  ..   SibSp = \u001b[32mcol_double()\u001b[39m,\n",
            "  ..   Parch = \u001b[32mcol_double()\u001b[39m,\n",
            "  ..   Ticket = \u001b[31mcol_character()\u001b[39m,\n",
            "  ..   Fare = \u001b[32mcol_double()\u001b[39m,\n",
            "  ..   Cabin = \u001b[31mcol_character()\u001b[39m,\n",
            "  ..   Embarked = \u001b[31mcol_character()\u001b[39m\n",
            "  .. )\n"
          ],
          "name": "stdout"
        },
        {
          "output_type": "display_data",
          "data": {
            "text/plain": [
              "  PassengerId      Survived          Pclass          Name          \n",
              " Min.   :   1   Min.   :0.0000   Min.   :1.000   Length:1309       \n",
              " 1st Qu.: 328   1st Qu.:0.0000   1st Qu.:2.000   Class :character  \n",
              " Median : 655   Median :0.0000   Median :3.000   Mode  :character  \n",
              " Mean   : 655   Mean   :0.3838   Mean   :2.295                     \n",
              " 3rd Qu.: 982   3rd Qu.:1.0000   3rd Qu.:3.000                     \n",
              " Max.   :1309   Max.   :1.0000   Max.   :3.000                     \n",
              "                NA's   :418                                        \n",
              "     Sex                 Age            SibSp            Parch      \n",
              " Length:1309        Min.   : 0.17   Min.   :0.0000   Min.   :0.000  \n",
              " Class :character   1st Qu.:21.00   1st Qu.:0.0000   1st Qu.:0.000  \n",
              " Mode  :character   Median :28.00   Median :0.0000   Median :0.000  \n",
              "                    Mean   :29.88   Mean   :0.4989   Mean   :0.385  \n",
              "                    3rd Qu.:39.00   3rd Qu.:1.0000   3rd Qu.:0.000  \n",
              "                    Max.   :80.00   Max.   :8.0000   Max.   :9.000  \n",
              "                    NA's   :263                                     \n",
              "    Ticket               Fare            Cabin             Embarked        \n",
              " Length:1309        Min.   :  0.000   Length:1309        Length:1309       \n",
              " Class :character   1st Qu.:  7.896   Class :character   Class :character  \n",
              " Mode  :character   Median : 14.454   Mode  :character   Mode  :character  \n",
              "                    Mean   : 33.295                                        \n",
              "                    3rd Qu.: 31.275                                        \n",
              "                    Max.   :512.329                                        \n",
              "                    NA's   :1                                              "
            ]
          },
          "metadata": {
            "tags": []
          }
        },
        {
          "output_type": "stream",
          "text": [
            "spec_tbl_df[,12] [1,309 × 12] (S3: spec_tbl_df/tbl_df/tbl/data.frame)\n",
            " $ PassengerId: num [1:1309] 1 2 3 4 5 6 7 8 9 10 ...\n",
            " $ Survived   : Factor w/ 2 levels \"0\",\"1\": 1 2 2 2 1 1 1 1 2 2 ...\n",
            " $ Pclass     : Ord.factor w/ 3 levels \"1\"<\"2\"<\"3\": 3 1 3 1 3 3 1 3 3 2 ...\n",
            " $ Name       : Factor w/ 1307 levels \"Abbing, Mr. Anthony\",..: 156 287 531 430 23 826 775 922 613 855 ...\n",
            " $ Sex        : Factor w/ 2 levels \"female\",\"male\": 2 1 1 1 2 2 2 2 1 1 ...\n",
            " $ Age        : num [1:1309] 22 38 26 35 35 NA 54 2 27 14 ...\n",
            " $ SibSp      : num [1:1309] 1 1 0 1 0 0 0 3 0 1 ...\n",
            " $ Parch      : num [1:1309] 0 0 0 0 0 0 0 1 2 0 ...\n",
            " $ Ticket     : chr [1:1309] \"A/5 21171\" \"PC 17599\" \"STON/O2. 3101282\" \"113803\" ...\n",
            " $ Fare       : num [1:1309] 7.25 71.28 7.92 53.1 8.05 ...\n",
            " $ Cabin      : Factor w/ 186 levels \"A10\",\"A11\",\"A14\",..: NA 107 NA 71 NA NA 164 NA NA NA ...\n",
            " $ Embarked   : Factor w/ 3 levels \"C\",\"Q\",\"S\": 3 1 3 3 3 2 3 3 3 1 ...\n",
            " - attr(*, \"spec\")=\n",
            "  .. cols(\n",
            "  ..   PassengerId = \u001b[32mcol_double()\u001b[39m,\n",
            "  ..   Survived = \u001b[32mcol_double()\u001b[39m,\n",
            "  ..   Pclass = \u001b[32mcol_double()\u001b[39m,\n",
            "  ..   Name = \u001b[31mcol_character()\u001b[39m,\n",
            "  ..   Sex = \u001b[31mcol_character()\u001b[39m,\n",
            "  ..   Age = \u001b[32mcol_double()\u001b[39m,\n",
            "  ..   SibSp = \u001b[32mcol_double()\u001b[39m,\n",
            "  ..   Parch = \u001b[32mcol_double()\u001b[39m,\n",
            "  ..   Ticket = \u001b[31mcol_character()\u001b[39m,\n",
            "  ..   Fare = \u001b[32mcol_double()\u001b[39m,\n",
            "  ..   Cabin = \u001b[31mcol_character()\u001b[39m,\n",
            "  ..   Embarked = \u001b[31mcol_character()\u001b[39m\n",
            "  .. )\n"
          ],
          "name": "stdout"
        },
        {
          "output_type": "display_data",
          "data": {
            "text/plain": [
              "  PassengerId   Survived   Pclass                                Name     \n",
              " Min.   :   1   0   :549   1:323   Connolly, Miss. Kate            :   2  \n",
              " 1st Qu.: 328   1   :342   2:277   Kelly, Mr. James                :   2  \n",
              " Median : 655   NA's:418   3:709   Abbing, Mr. Anthony             :   1  \n",
              " Mean   : 655                      Abbott, Master. Eugene Joseph   :   1  \n",
              " 3rd Qu.: 982                      Abbott, Mr. Rossmore Edward     :   1  \n",
              " Max.   :1309                      Abbott, Mrs. Stanton (Rosa Hunt):   1  \n",
              "                                   (Other)                         :1301  \n",
              "     Sex           Age            SibSp            Parch      \n",
              " female:466   Min.   : 0.17   Min.   :0.0000   Min.   :0.000  \n",
              " male  :843   1st Qu.:21.00   1st Qu.:0.0000   1st Qu.:0.000  \n",
              "              Median :28.00   Median :0.0000   Median :0.000  \n",
              "              Mean   :29.88   Mean   :0.4989   Mean   :0.385  \n",
              "              3rd Qu.:39.00   3rd Qu.:1.0000   3rd Qu.:0.000  \n",
              "              Max.   :80.00   Max.   :8.0000   Max.   :9.000  \n",
              "              NA's   :263                                     \n",
              "    Ticket               Fare                     Cabin      Embarked  \n",
              " Length:1309        Min.   :  0.000   C23 C25 C27    :   6   C   :270  \n",
              " Class :character   1st Qu.:  7.896   B57 B59 B63 B66:   5   Q   :123  \n",
              " Mode  :character   Median : 14.454   G6             :   5   S   :914  \n",
              "                    Mean   : 33.295   B96 B98        :   4   NA's:  2  \n",
              "                    3rd Qu.: 31.275   C22 C26        :   4             \n",
              "                    Max.   :512.329   (Other)        : 271             \n",
              "                    NA's   :1         NA's           :1014             "
            ]
          },
          "metadata": {
            "tags": []
          }
        }
      ]
    },
    {
      "cell_type": "markdown",
      "metadata": {
        "id": "i4KdhGFCGBQt"
      },
      "source": [
        "In order to run codes, I need to change character variables to factor variables."
      ]
    },
    {
      "cell_type": "code",
      "metadata": {
        "id": "o_OIJcqSWnGg",
        "colab": {
          "base_uri": "https://localhost:8080/",
          "height": 246
        },
        "outputId": "666c0aca-2b92-4be3-bac5-e3508d80487c"
      },
      "source": [
        "# Checking for Missing Values using VIM package\n",
        "VIM::aggr(t_full, prop = FALSE, combined = TRUE, numbers = TRUE,\n",
        "          sortVars = TRUE, sortCombs = TRUE)"
      ],
      "execution_count": 43,
      "outputs": [
        {
          "output_type": "error",
          "ename": "ERROR",
          "evalue": "ignored",
          "traceback": [
            "Error in loadNamespace(name): there is no package called ‘VIM’\nTraceback:\n",
            "1. VIM::aggr",
            "2. getExportedValue(pkg, name)",
            "3. asNamespace(ns)",
            "4. getNamespace(ns)",
            "5. loadNamespace(name)",
            "6. withRestarts(stop(cond), retry_loadNamespace = function() NULL)",
            "7. withOneRestart(expr, restarts[[1L]])",
            "8. doWithOneRestart(return(expr), restart)"
          ]
        }
      ]
    },
    {
      "cell_type": "markdown",
      "metadata": {
        "id": "7lHc3VrQGI2f"
      },
      "source": [
        "(Didn't know about this package until one of the references that I stated had it.  \n",
        "My original way of finding the missing values was using just \"summary()\" and \"table(is.na())\" function to see if certain columns have missing values, and use \"which()\" function to find the missing values and replace them with medians of each column.  \n",
        "Those are actually my next steps, but I wanted to have some sort of visual indicator to find missing values easy.)"
      ]
    },
    {
      "cell_type": "code",
      "metadata": {
        "id": "gbJ293GkWm-_",
        "colab": {
          "base_uri": "https://localhost:8080/",
          "height": 252
        },
        "outputId": "b117c500-4bf7-4d63-895c-fcd43fff318a"
      },
      "source": [
        "# Substituting mode and median values for NA to variables that I'm going to use later\n",
        "summary(t_full$Embarked)\n",
        "t_full$Embarked <- replace(t_full$Embarked,\n",
        "                           which(is.na(t_full$Embarked)),\n",
        "                           \"S\")\n",
        "summary(t_full$Embarked)\n",
        "\n",
        "table(is.na(t_full$Age))\n",
        "age.median <- median(t_full$Age, na.rm = T)\n",
        "t_full[is.na(t_full$Age), \"Age\"] <- age.median\n",
        "table(is.na(t_full$Age))\n",
        "\n",
        "\n",
        "table(is.na(t_full$Fare))\n",
        "fare.median <- median(t_full$Fare, na.rm = T)\n",
        "t_full[is.na(t_full$Fare), \"Fare\"] <- fare.median\n",
        "table(is.na(t_full$Fare))"
      ],
      "execution_count": 44,
      "outputs": [
        {
          "output_type": "display_data",
          "data": {
            "text/plain": [
              "   C    Q    S NA's \n",
              " 270  123  914    2 "
            ],
            "text/latex": "\\begin{description*}\n\\item[C] 270\n\\item[Q] 123\n\\item[S] 914\n\\item[NA's] 2\n\\end{description*}\n",
            "text/markdown": "C\n:   270Q\n:   123S\n:   914NA's\n:   2\n\n",
            "text/html": [
              "<style>\n",
              ".dl-inline {width: auto; margin:0; padding: 0}\n",
              ".dl-inline>dt, .dl-inline>dd {float: none; width: auto; display: inline-block}\n",
              ".dl-inline>dt::after {content: \":\\0020\"; padding-right: .5ex}\n",
              ".dl-inline>dt:not(:first-of-type) {padding-left: .5ex}\n",
              "</style><dl class=dl-inline><dt>C</dt><dd>270</dd><dt>Q</dt><dd>123</dd><dt>S</dt><dd>914</dd><dt>NA's</dt><dd>2</dd></dl>\n"
            ]
          },
          "metadata": {
            "tags": []
          }
        },
        {
          "output_type": "display_data",
          "data": {
            "text/plain": [
              "  C   Q   S \n",
              "270 123 916 "
            ],
            "text/latex": "\\begin{description*}\n\\item[C] 270\n\\item[Q] 123\n\\item[S] 916\n\\end{description*}\n",
            "text/markdown": "C\n:   270Q\n:   123S\n:   916\n\n",
            "text/html": [
              "<style>\n",
              ".dl-inline {width: auto; margin:0; padding: 0}\n",
              ".dl-inline>dt, .dl-inline>dd {float: none; width: auto; display: inline-block}\n",
              ".dl-inline>dt::after {content: \":\\0020\"; padding-right: .5ex}\n",
              ".dl-inline>dt:not(:first-of-type) {padding-left: .5ex}\n",
              "</style><dl class=dl-inline><dt>C</dt><dd>270</dd><dt>Q</dt><dd>123</dd><dt>S</dt><dd>916</dd></dl>\n"
            ]
          },
          "metadata": {
            "tags": []
          }
        },
        {
          "output_type": "display_data",
          "data": {
            "text/plain": [
              "\n",
              "FALSE  TRUE \n",
              " 1046   263 "
            ]
          },
          "metadata": {
            "tags": []
          }
        },
        {
          "output_type": "display_data",
          "data": {
            "text/plain": [
              "\n",
              "FALSE \n",
              " 1309 "
            ]
          },
          "metadata": {
            "tags": []
          }
        },
        {
          "output_type": "display_data",
          "data": {
            "text/plain": [
              "\n",
              "FALSE  TRUE \n",
              " 1308     1 "
            ]
          },
          "metadata": {
            "tags": []
          }
        },
        {
          "output_type": "display_data",
          "data": {
            "text/plain": [
              "\n",
              "FALSE \n",
              " 1309 "
            ]
          },
          "metadata": {
            "tags": []
          }
        }
      ]
    },
    {
      "cell_type": "markdown",
      "metadata": {
        "id": "cSVsco0CGTHZ"
      },
      "source": [
        "For my model, I need to make sure that all variables(that I'm going to use) have no NA's.  \n",
        "I'm sure there are much better way to replace NA's especially for \"Age\" variable.  \n",
        "But I decided to substitute everything with median values(for \"Embarked\" variable, mode)."
      ]
    },
    {
      "cell_type": "code",
      "metadata": {
        "id": "ypjkNZ8jWvO6",
        "colab": {
          "base_uri": "https://localhost:8080/",
          "height": 487
        },
        "outputId": "3ccb3f28-0463-4899-b77c-eb987aacccec"
      },
      "source": [
        "# Full data set split back into train & test data sets\n",
        "t_train <- t_full[1:891, ]\n",
        "t_test <- t_full[892:1309, ]\n",
        "t_train$Survived\n",
        "t_test$Survived"
      ],
      "execution_count": 45,
      "outputs": [
        {
          "output_type": "display_data",
          "data": {
            "text/plain": [
              "  [1] 0 1 1 1 0 0 0 0 1 1 1 1 0 0 0 1 0 1 0 1 0 1 1 1 0 1 0 0 1 0 0 1 1 0 0 0 1\n",
              " [38] 0 0 1 0 0 0 1 1 0 0 1 0 0 0 0 1 1 0 1 1 0 1 0 0 1 0 0 0 1 1 0 1 0 0 0 0 0\n",
              " [75] 1 0 0 0 1 1 0 1 1 0 1 1 0 0 1 0 0 0 0 0 0 0 0 1 1 0 0 0 0 0 0 0 1 1 0 1 0\n",
              "[112] 0 0 0 0 0 0 0 0 0 0 0 0 1 0 1 0 1 1 0 0 0 0 1 0 0 1 0 0 0 0 1 1 0 0 0 1 0\n",
              "[149] 0 0 0 1 0 0 0 0 1 0 0 0 0 1 0 0 0 1 1 0 0 0 0 0 1 0 0 0 0 0 0 0 0 0 0 1 1\n",
              "[186] 0 1 1 0 0 1 0 1 1 1 1 0 0 1 0 0 0 0 0 1 0 0 1 1 1 0 1 0 0 0 1 1 0 1 0 1 0\n",
              "[223] 0 0 1 0 1 0 0 0 1 0 0 1 0 0 0 1 0 0 0 1 0 0 0 0 0 1 1 0 0 0 0 0 0 1 1 1 1\n",
              "[260] 1 0 1 0 0 0 0 0 1 1 1 0 1 1 0 1 1 0 0 0 1 0 0 0 1 0 0 1 0 1 1 1 1 0 0 0 0\n",
              "[297] 0 0 1 1 1 1 0 1 0 1 1 1 0 1 1 1 0 0 0 1 1 0 1 1 0 0 1 1 0 1 0 1 1 1 1 0 0\n",
              "[334] 0 1 0 0 1 1 0 1 1 0 0 0 1 1 1 1 0 0 0 0 0 0 0 1 0 1 1 0 0 0 0 0 0 1 1 1 1\n",
              "[371] 1 0 0 0 0 1 1 0 0 0 1 1 0 1 0 0 0 1 0 1 1 1 0 1 1 0 0 0 0 1 1 0 0 0 0 0 0\n",
              "[408] 1 0 0 0 0 1 0 1 0 1 1 0 0 0 0 0 0 0 0 1 1 0 1 1 1 1 0 0 1 0 1 0 0 1 0 0 1\n",
              "[445] 1 1 1 1 1 1 0 0 0 1 0 1 0 1 1 0 1 0 0 0 0 0 0 0 0 1 0 0 1 1 0 0 0 0 0 1 0\n",
              "[482] 0 0 1 1 0 1 0 0 1 0 0 0 0 0 0 1 0 0 0 0 0 0 0 1 0 1 1 0 1 1 0 1 1 0 0 1 0\n",
              "[519] 1 0 1 0 0 1 0 0 1 0 0 0 1 0 0 1 0 1 0 1 0 1 1 0 0 1 0 0 1 1 0 1 1 0 0 1 1\n",
              "[556] 0 1 0 1 1 0 0 0 0 0 0 0 0 0 1 1 1 1 1 0 0 1 1 0 1 1 1 0 0 0 1 0 1 0 0 0 1\n",
              "[593] 0 0 0 0 1 0 0 1 1 0 0 0 1 0 0 1 1 1 0 0 1 0 0 1 0 0 1 0 0 1 1 0 0 0 0 1 0\n",
              "[630] 0 1 0 1 0 0 1 0 0 0 0 0 1 0 1 1 1 0 1 0 1 0 1 0 1 0 0 0 0 0 0 1 0 0 0 1 0\n",
              "[667] 0 0 0 1 1 0 0 1 0 0 0 1 0 1 0 1 0 0 0 0 0 0 0 1 1 1 1 0 0 0 0 1 0 0 1 1 0\n",
              "[704] 0 0 0 1 1 1 1 1 0 1 0 0 0 1 1 0 0 1 0 0 0 1 0 1 1 0 0 1 0 0 0 0 0 0 1 0 0\n",
              "[741] 1 0 1 0 1 0 0 1 0 0 1 1 0 0 1 1 0 0 0 1 0 0 1 1 0 1 0 0 0 0 0 0 0 0 1 0 0\n",
              "[778] 1 0 1 1 1 0 0 0 0 1 0 1 0 0 0 0 0 0 0 1 1 0 0 0 1 1 1 1 0 0 0 0 1 0 0 0 0\n",
              "[815] 0 0 0 0 0 0 1 1 0 1 0 0 0 1 1 1 1 1 0 0 0 1 0 0 1 1 0 0 1 0 0 0 0 0 0 1 0\n",
              "[852] 0 0 1 0 1 1 1 1 0 0 0 1 0 0 1 1 0 0 1 0 1 0 0 1 1 0 0 0 1 1 0 0 0 0 0 0 1\n",
              "[889] 0 1 0\n",
              "Levels: 0 1"
            ],
            "text/latex": "\\begin{enumerate*}\n\\item 0\n\\item 1\n\\item 1\n\\item 1\n\\item 0\n\\item 0\n\\item 0\n\\item 0\n\\item 1\n\\item 1\n\\item 1\n\\item 1\n\\item 0\n\\item 0\n\\item 0\n\\item 1\n\\item 0\n\\item 1\n\\item 0\n\\item 1\n\\item 0\n\\item 1\n\\item 1\n\\item 1\n\\item 0\n\\item 1\n\\item 0\n\\item 0\n\\item 1\n\\item 0\n\\item 0\n\\item 1\n\\item 1\n\\item 0\n\\item 0\n\\item 0\n\\item 1\n\\item 0\n\\item 0\n\\item 1\n\\item 0\n\\item 0\n\\item 0\n\\item 1\n\\item 1\n\\item 0\n\\item 0\n\\item 1\n\\item 0\n\\item 0\n\\item 0\n\\item 0\n\\item 1\n\\item 1\n\\item 0\n\\item 1\n\\item 1\n\\item 0\n\\item 1\n\\item 0\n\\item 0\n\\item 1\n\\item 0\n\\item 0\n\\item 0\n\\item 1\n\\item 1\n\\item 0\n\\item 1\n\\item 0\n\\item 0\n\\item 0\n\\item 0\n\\item 0\n\\item 1\n\\item 0\n\\item 0\n\\item 0\n\\item 1\n\\item 1\n\\item 0\n\\item 1\n\\item 1\n\\item 0\n\\item 1\n\\item 1\n\\item 0\n\\item 0\n\\item 1\n\\item 0\n\\item 0\n\\item 0\n\\item 0\n\\item 0\n\\item 0\n\\item 0\n\\item 0\n\\item 1\n\\item 1\n\\item 0\n\\item 0\n\\item 0\n\\item 0\n\\item 0\n\\item 0\n\\item 0\n\\item 1\n\\item 1\n\\item 0\n\\item 1\n\\item 0\n\\item 0\n\\item 0\n\\item 0\n\\item 0\n\\item 0\n\\item 0\n\\item 0\n\\item 0\n\\item 0\n\\item 0\n\\item 0\n\\item 0\n\\item 1\n\\item 0\n\\item 1\n\\item 0\n\\item 1\n\\item 1\n\\item 0\n\\item 0\n\\item 0\n\\item 0\n\\item 1\n\\item 0\n\\item 0\n\\item 1\n\\item 0\n\\item 0\n\\item 0\n\\item 0\n\\item 1\n\\item 1\n\\item 0\n\\item 0\n\\item 0\n\\item 1\n\\item 0\n\\item 0\n\\item 0\n\\item 0\n\\item 1\n\\item 0\n\\item 0\n\\item 0\n\\item 0\n\\item 1\n\\item 0\n\\item 0\n\\item 0\n\\item 0\n\\item 1\n\\item 0\n\\item 0\n\\item 0\n\\item 1\n\\item 1\n\\item 0\n\\item 0\n\\item 0\n\\item 0\n\\item 0\n\\item 1\n\\item 0\n\\item 0\n\\item 0\n\\item 0\n\\item 0\n\\item 0\n\\item 0\n\\item 0\n\\item 0\n\\item 0\n\\item 1\n\\item 1\n\\item 0\n\\item 1\n\\item 1\n\\item 0\n\\item 0\n\\item 1\n\\item 0\n\\item 1\n\\item 1\n\\item 1\n\\item 1\n\\item 0\n\\item 0\n\\item 1\n\\item 0\n\\item ⋯\n\\item 1\n\\item 1\n\\item 0\n\\item 0\n\\item 0\n\\item 0\n\\item 1\n\\item 0\n\\item 0\n\\item 1\n\\item 1\n\\item 0\n\\item 0\n\\item 0\n\\item 0\n\\item 1\n\\item 1\n\\item 1\n\\item 1\n\\item 1\n\\item 0\n\\item 1\n\\item 0\n\\item 0\n\\item 0\n\\item 1\n\\item 1\n\\item 0\n\\item 0\n\\item 1\n\\item 0\n\\item 0\n\\item 0\n\\item 1\n\\item 0\n\\item 1\n\\item 1\n\\item 0\n\\item 0\n\\item 1\n\\item 0\n\\item 0\n\\item 0\n\\item 0\n\\item 0\n\\item 0\n\\item 1\n\\item 0\n\\item 0\n\\item 1\n\\item 0\n\\item 1\n\\item 0\n\\item 1\n\\item 0\n\\item 0\n\\item 1\n\\item 0\n\\item 0\n\\item 1\n\\item 1\n\\item 0\n\\item 0\n\\item 1\n\\item 1\n\\item 0\n\\item 0\n\\item 0\n\\item 1\n\\item 0\n\\item 0\n\\item 1\n\\item 1\n\\item 0\n\\item 1\n\\item 0\n\\item 0\n\\item 0\n\\item 0\n\\item 0\n\\item 0\n\\item 0\n\\item 0\n\\item 1\n\\item 0\n\\item 0\n\\item 1\n\\item 0\n\\item 1\n\\item 1\n\\item 1\n\\item 0\n\\item 0\n\\item 0\n\\item 0\n\\item 1\n\\item 0\n\\item 1\n\\item 0\n\\item 0\n\\item 0\n\\item 0\n\\item 0\n\\item 0\n\\item 0\n\\item 1\n\\item 1\n\\item 0\n\\item 0\n\\item 0\n\\item 1\n\\item 1\n\\item 1\n\\item 1\n\\item 0\n\\item 0\n\\item 0\n\\item 0\n\\item 1\n\\item 0\n\\item 0\n\\item 0\n\\item 0\n\\item 0\n\\item 0\n\\item 0\n\\item 0\n\\item 0\n\\item 0\n\\item 1\n\\item 1\n\\item 0\n\\item 1\n\\item 0\n\\item 0\n\\item 0\n\\item 1\n\\item 1\n\\item 1\n\\item 1\n\\item 1\n\\item 0\n\\item 0\n\\item 0\n\\item 1\n\\item 0\n\\item 0\n\\item 1\n\\item 1\n\\item 0\n\\item 0\n\\item 1\n\\item 0\n\\item 0\n\\item 0\n\\item 0\n\\item 0\n\\item 0\n\\item 1\n\\item 0\n\\item 0\n\\item 0\n\\item 1\n\\item 0\n\\item 1\n\\item 1\n\\item 1\n\\item 1\n\\item 0\n\\item 0\n\\item 0\n\\item 1\n\\item 0\n\\item 0\n\\item 1\n\\item 1\n\\item 0\n\\item 0\n\\item 1\n\\item 0\n\\item 1\n\\item 0\n\\item 0\n\\item 1\n\\item 1\n\\item 0\n\\item 0\n\\item 0\n\\item 1\n\\item 1\n\\item 0\n\\item 0\n\\item 0\n\\item 0\n\\item 0\n\\item 0\n\\item 1\n\\item 0\n\\item 1\n\\item 0\n\\end{enumerate*}\n\n\\emph{Levels}: \\begin{enumerate*}\n\\item '0'\n\\item '1'\n\\end{enumerate*}\n",
            "text/markdown": "1. 0\n2. 1\n3. 1\n4. 1\n5. 0\n6. 0\n7. 0\n8. 0\n9. 1\n10. 1\n11. 1\n12. 1\n13. 0\n14. 0\n15. 0\n16. 1\n17. 0\n18. 1\n19. 0\n20. 1\n21. 0\n22. 1\n23. 1\n24. 1\n25. 0\n26. 1\n27. 0\n28. 0\n29. 1\n30. 0\n31. 0\n32. 1\n33. 1\n34. 0\n35. 0\n36. 0\n37. 1\n38. 0\n39. 0\n40. 1\n41. 0\n42. 0\n43. 0\n44. 1\n45. 1\n46. 0\n47. 0\n48. 1\n49. 0\n50. 0\n51. 0\n52. 0\n53. 1\n54. 1\n55. 0\n56. 1\n57. 1\n58. 0\n59. 1\n60. 0\n61. 0\n62. 1\n63. 0\n64. 0\n65. 0\n66. 1\n67. 1\n68. 0\n69. 1\n70. 0\n71. 0\n72. 0\n73. 0\n74. 0\n75. 1\n76. 0\n77. 0\n78. 0\n79. 1\n80. 1\n81. 0\n82. 1\n83. 1\n84. 0\n85. 1\n86. 1\n87. 0\n88. 0\n89. 1\n90. 0\n91. 0\n92. 0\n93. 0\n94. 0\n95. 0\n96. 0\n97. 0\n98. 1\n99. 1\n100. 0\n101. 0\n102. 0\n103. 0\n104. 0\n105. 0\n106. 0\n107. 1\n108. 1\n109. 0\n110. 1\n111. 0\n112. 0\n113. 0\n114. 0\n115. 0\n116. 0\n117. 0\n118. 0\n119. 0\n120. 0\n121. 0\n122. 0\n123. 0\n124. 1\n125. 0\n126. 1\n127. 0\n128. 1\n129. 1\n130. 0\n131. 0\n132. 0\n133. 0\n134. 1\n135. 0\n136. 0\n137. 1\n138. 0\n139. 0\n140. 0\n141. 0\n142. 1\n143. 1\n144. 0\n145. 0\n146. 0\n147. 1\n148. 0\n149. 0\n150. 0\n151. 0\n152. 1\n153. 0\n154. 0\n155. 0\n156. 0\n157. 1\n158. 0\n159. 0\n160. 0\n161. 0\n162. 1\n163. 0\n164. 0\n165. 0\n166. 1\n167. 1\n168. 0\n169. 0\n170. 0\n171. 0\n172. 0\n173. 1\n174. 0\n175. 0\n176. 0\n177. 0\n178. 0\n179. 0\n180. 0\n181. 0\n182. 0\n183. 0\n184. 1\n185. 1\n186. 0\n187. 1\n188. 1\n189. 0\n190. 0\n191. 1\n192. 0\n193. 1\n194. 1\n195. 1\n196. 1\n197. 0\n198. 0\n199. 1\n200. 0\n201. ⋯\n202. 1\n203. 1\n204. 0\n205. 0\n206. 0\n207. 0\n208. 1\n209. 0\n210. 0\n211. 1\n212. 1\n213. 0\n214. 0\n215. 0\n216. 0\n217. 1\n218. 1\n219. 1\n220. 1\n221. 1\n222. 0\n223. 1\n224. 0\n225. 0\n226. 0\n227. 1\n228. 1\n229. 0\n230. 0\n231. 1\n232. 0\n233. 0\n234. 0\n235. 1\n236. 0\n237. 1\n238. 1\n239. 0\n240. 0\n241. 1\n242. 0\n243. 0\n244. 0\n245. 0\n246. 0\n247. 0\n248. 1\n249. 0\n250. 0\n251. 1\n252. 0\n253. 1\n254. 0\n255. 1\n256. 0\n257. 0\n258. 1\n259. 0\n260. 0\n261. 1\n262. 1\n263. 0\n264. 0\n265. 1\n266. 1\n267. 0\n268. 0\n269. 0\n270. 1\n271. 0\n272. 0\n273. 1\n274. 1\n275. 0\n276. 1\n277. 0\n278. 0\n279. 0\n280. 0\n281. 0\n282. 0\n283. 0\n284. 0\n285. 1\n286. 0\n287. 0\n288. 1\n289. 0\n290. 1\n291. 1\n292. 1\n293. 0\n294. 0\n295. 0\n296. 0\n297. 1\n298. 0\n299. 1\n300. 0\n301. 0\n302. 0\n303. 0\n304. 0\n305. 0\n306. 0\n307. 1\n308. 1\n309. 0\n310. 0\n311. 0\n312. 1\n313. 1\n314. 1\n315. 1\n316. 0\n317. 0\n318. 0\n319. 0\n320. 1\n321. 0\n322. 0\n323. 0\n324. 0\n325. 0\n326. 0\n327. 0\n328. 0\n329. 0\n330. 0\n331. 1\n332. 1\n333. 0\n334. 1\n335. 0\n336. 0\n337. 0\n338. 1\n339. 1\n340. 1\n341. 1\n342. 1\n343. 0\n344. 0\n345. 0\n346. 1\n347. 0\n348. 0\n349. 1\n350. 1\n351. 0\n352. 0\n353. 1\n354. 0\n355. 0\n356. 0\n357. 0\n358. 0\n359. 0\n360. 1\n361. 0\n362. 0\n363. 0\n364. 1\n365. 0\n366. 1\n367. 1\n368. 1\n369. 1\n370. 0\n371. 0\n372. 0\n373. 1\n374. 0\n375. 0\n376. 1\n377. 1\n378. 0\n379. 0\n380. 1\n381. 0\n382. 1\n383. 0\n384. 0\n385. 1\n386. 1\n387. 0\n388. 0\n389. 0\n390. 1\n391. 1\n392. 0\n393. 0\n394. 0\n395. 0\n396. 0\n397. 0\n398. 1\n399. 0\n400. 1\n401. 0\n\n\n\n**Levels**: 1. '0'\n2. '1'\n\n\n",
            "text/html": [
              "<style>\n",
              ".list-inline {list-style: none; margin:0; padding: 0}\n",
              ".list-inline>li {display: inline-block}\n",
              ".list-inline>li:not(:last-child)::after {content: \"\\00b7\"; padding: 0 .5ex}\n",
              "</style>\n",
              "<ol class=list-inline><li>0</li><li>1</li><li>1</li><li>1</li><li>0</li><li>0</li><li>0</li><li>0</li><li>1</li><li>1</li><li>1</li><li>1</li><li>0</li><li>0</li><li>0</li><li>1</li><li>0</li><li>1</li><li>0</li><li>1</li><li>0</li><li>1</li><li>1</li><li>1</li><li>0</li><li>1</li><li>0</li><li>0</li><li>1</li><li>0</li><li>0</li><li>1</li><li>1</li><li>0</li><li>0</li><li>0</li><li>1</li><li>0</li><li>0</li><li>1</li><li>0</li><li>0</li><li>0</li><li>1</li><li>1</li><li>0</li><li>0</li><li>1</li><li>0</li><li>0</li><li>0</li><li>0</li><li>1</li><li>1</li><li>0</li><li>1</li><li>1</li><li>0</li><li>1</li><li>0</li><li>0</li><li>1</li><li>0</li><li>0</li><li>0</li><li>1</li><li>1</li><li>0</li><li>1</li><li>0</li><li>0</li><li>0</li><li>0</li><li>0</li><li>1</li><li>0</li><li>0</li><li>0</li><li>1</li><li>1</li><li>0</li><li>1</li><li>1</li><li>0</li><li>1</li><li>1</li><li>0</li><li>0</li><li>1</li><li>0</li><li>0</li><li>0</li><li>0</li><li>0</li><li>0</li><li>0</li><li>0</li><li>1</li><li>1</li><li>0</li><li>0</li><li>0</li><li>0</li><li>0</li><li>0</li><li>0</li><li>1</li><li>1</li><li>0</li><li>1</li><li>0</li><li>0</li><li>0</li><li>0</li><li>0</li><li>0</li><li>0</li><li>0</li><li>0</li><li>0</li><li>0</li><li>0</li><li>0</li><li>1</li><li>0</li><li>1</li><li>0</li><li>1</li><li>1</li><li>0</li><li>0</li><li>0</li><li>0</li><li>1</li><li>0</li><li>0</li><li>1</li><li>0</li><li>0</li><li>0</li><li>0</li><li>1</li><li>1</li><li>0</li><li>0</li><li>0</li><li>1</li><li>0</li><li>0</li><li>0</li><li>0</li><li>1</li><li>0</li><li>0</li><li>0</li><li>0</li><li>1</li><li>0</li><li>0</li><li>0</li><li>0</li><li>1</li><li>0</li><li>0</li><li>0</li><li>1</li><li>1</li><li>0</li><li>0</li><li>0</li><li>0</li><li>0</li><li>1</li><li>0</li><li>0</li><li>0</li><li>0</li><li>0</li><li>0</li><li>0</li><li>0</li><li>0</li><li>0</li><li>1</li><li>1</li><li>0</li><li>1</li><li>1</li><li>0</li><li>0</li><li>1</li><li>0</li><li>1</li><li>1</li><li>1</li><li>1</li><li>0</li><li>0</li><li>1</li><li>0</li><li>⋯</li><li>1</li><li>1</li><li>0</li><li>0</li><li>0</li><li>0</li><li>1</li><li>0</li><li>0</li><li>1</li><li>1</li><li>0</li><li>0</li><li>0</li><li>0</li><li>1</li><li>1</li><li>1</li><li>1</li><li>1</li><li>0</li><li>1</li><li>0</li><li>0</li><li>0</li><li>1</li><li>1</li><li>0</li><li>0</li><li>1</li><li>0</li><li>0</li><li>0</li><li>1</li><li>0</li><li>1</li><li>1</li><li>0</li><li>0</li><li>1</li><li>0</li><li>0</li><li>0</li><li>0</li><li>0</li><li>0</li><li>1</li><li>0</li><li>0</li><li>1</li><li>0</li><li>1</li><li>0</li><li>1</li><li>0</li><li>0</li><li>1</li><li>0</li><li>0</li><li>1</li><li>1</li><li>0</li><li>0</li><li>1</li><li>1</li><li>0</li><li>0</li><li>0</li><li>1</li><li>0</li><li>0</li><li>1</li><li>1</li><li>0</li><li>1</li><li>0</li><li>0</li><li>0</li><li>0</li><li>0</li><li>0</li><li>0</li><li>0</li><li>1</li><li>0</li><li>0</li><li>1</li><li>0</li><li>1</li><li>1</li><li>1</li><li>0</li><li>0</li><li>0</li><li>0</li><li>1</li><li>0</li><li>1</li><li>0</li><li>0</li><li>0</li><li>0</li><li>0</li><li>0</li><li>0</li><li>1</li><li>1</li><li>0</li><li>0</li><li>0</li><li>1</li><li>1</li><li>1</li><li>1</li><li>0</li><li>0</li><li>0</li><li>0</li><li>1</li><li>0</li><li>0</li><li>0</li><li>0</li><li>0</li><li>0</li><li>0</li><li>0</li><li>0</li><li>0</li><li>1</li><li>1</li><li>0</li><li>1</li><li>0</li><li>0</li><li>0</li><li>1</li><li>1</li><li>1</li><li>1</li><li>1</li><li>0</li><li>0</li><li>0</li><li>1</li><li>0</li><li>0</li><li>1</li><li>1</li><li>0</li><li>0</li><li>1</li><li>0</li><li>0</li><li>0</li><li>0</li><li>0</li><li>0</li><li>1</li><li>0</li><li>0</li><li>0</li><li>1</li><li>0</li><li>1</li><li>1</li><li>1</li><li>1</li><li>0</li><li>0</li><li>0</li><li>1</li><li>0</li><li>0</li><li>1</li><li>1</li><li>0</li><li>0</li><li>1</li><li>0</li><li>1</li><li>0</li><li>0</li><li>1</li><li>1</li><li>0</li><li>0</li><li>0</li><li>1</li><li>1</li><li>0</li><li>0</li><li>0</li><li>0</li><li>0</li><li>0</li><li>1</li><li>0</li><li>1</li><li>0</li></ol>\n",
              "\n",
              "<details>\n",
              "\t<summary style=display:list-item;cursor:pointer>\n",
              "\t\t<strong>Levels</strong>:\n",
              "\t</summary>\n",
              "\t<style>\n",
              "\t.list-inline {list-style: none; margin:0; padding: 0}\n",
              "\t.list-inline>li {display: inline-block}\n",
              "\t.list-inline>li:not(:last-child)::after {content: \"\\00b7\"; padding: 0 .5ex}\n",
              "\t</style>\n",
              "\t<ol class=list-inline><li>'0'</li><li>'1'</li></ol>\n",
              "</details>"
            ]
          },
          "metadata": {
            "tags": []
          }
        },
        {
          "output_type": "display_data",
          "data": {
            "text/plain": [
              "  [1] <NA> <NA> <NA> <NA> <NA> <NA> <NA> <NA> <NA> <NA> <NA> <NA> <NA> <NA> <NA>\n",
              " [16] <NA> <NA> <NA> <NA> <NA> <NA> <NA> <NA> <NA> <NA> <NA> <NA> <NA> <NA> <NA>\n",
              " [31] <NA> <NA> <NA> <NA> <NA> <NA> <NA> <NA> <NA> <NA> <NA> <NA> <NA> <NA> <NA>\n",
              " [46] <NA> <NA> <NA> <NA> <NA> <NA> <NA> <NA> <NA> <NA> <NA> <NA> <NA> <NA> <NA>\n",
              " [61] <NA> <NA> <NA> <NA> <NA> <NA> <NA> <NA> <NA> <NA> <NA> <NA> <NA> <NA> <NA>\n",
              " [76] <NA> <NA> <NA> <NA> <NA> <NA> <NA> <NA> <NA> <NA> <NA> <NA> <NA> <NA> <NA>\n",
              " [91] <NA> <NA> <NA> <NA> <NA> <NA> <NA> <NA> <NA> <NA> <NA> <NA> <NA> <NA> <NA>\n",
              "[106] <NA> <NA> <NA> <NA> <NA> <NA> <NA> <NA> <NA> <NA> <NA> <NA> <NA> <NA> <NA>\n",
              "[121] <NA> <NA> <NA> <NA> <NA> <NA> <NA> <NA> <NA> <NA> <NA> <NA> <NA> <NA> <NA>\n",
              "[136] <NA> <NA> <NA> <NA> <NA> <NA> <NA> <NA> <NA> <NA> <NA> <NA> <NA> <NA> <NA>\n",
              "[151] <NA> <NA> <NA> <NA> <NA> <NA> <NA> <NA> <NA> <NA> <NA> <NA> <NA> <NA> <NA>\n",
              "[166] <NA> <NA> <NA> <NA> <NA> <NA> <NA> <NA> <NA> <NA> <NA> <NA> <NA> <NA> <NA>\n",
              "[181] <NA> <NA> <NA> <NA> <NA> <NA> <NA> <NA> <NA> <NA> <NA> <NA> <NA> <NA> <NA>\n",
              "[196] <NA> <NA> <NA> <NA> <NA> <NA> <NA> <NA> <NA> <NA> <NA> <NA> <NA> <NA> <NA>\n",
              "[211] <NA> <NA> <NA> <NA> <NA> <NA> <NA> <NA> <NA> <NA> <NA> <NA> <NA> <NA> <NA>\n",
              "[226] <NA> <NA> <NA> <NA> <NA> <NA> <NA> <NA> <NA> <NA> <NA> <NA> <NA> <NA> <NA>\n",
              "[241] <NA> <NA> <NA> <NA> <NA> <NA> <NA> <NA> <NA> <NA> <NA> <NA> <NA> <NA> <NA>\n",
              "[256] <NA> <NA> <NA> <NA> <NA> <NA> <NA> <NA> <NA> <NA> <NA> <NA> <NA> <NA> <NA>\n",
              "[271] <NA> <NA> <NA> <NA> <NA> <NA> <NA> <NA> <NA> <NA> <NA> <NA> <NA> <NA> <NA>\n",
              "[286] <NA> <NA> <NA> <NA> <NA> <NA> <NA> <NA> <NA> <NA> <NA> <NA> <NA> <NA> <NA>\n",
              "[301] <NA> <NA> <NA> <NA> <NA> <NA> <NA> <NA> <NA> <NA> <NA> <NA> <NA> <NA> <NA>\n",
              "[316] <NA> <NA> <NA> <NA> <NA> <NA> <NA> <NA> <NA> <NA> <NA> <NA> <NA> <NA> <NA>\n",
              "[331] <NA> <NA> <NA> <NA> <NA> <NA> <NA> <NA> <NA> <NA> <NA> <NA> <NA> <NA> <NA>\n",
              "[346] <NA> <NA> <NA> <NA> <NA> <NA> <NA> <NA> <NA> <NA> <NA> <NA> <NA> <NA> <NA>\n",
              "[361] <NA> <NA> <NA> <NA> <NA> <NA> <NA> <NA> <NA> <NA> <NA> <NA> <NA> <NA> <NA>\n",
              "[376] <NA> <NA> <NA> <NA> <NA> <NA> <NA> <NA> <NA> <NA> <NA> <NA> <NA> <NA> <NA>\n",
              "[391] <NA> <NA> <NA> <NA> <NA> <NA> <NA> <NA> <NA> <NA> <NA> <NA> <NA> <NA> <NA>\n",
              "[406] <NA> <NA> <NA> <NA> <NA> <NA> <NA> <NA> <NA> <NA> <NA> <NA> <NA>\n",
              "Levels: 0 1"
            ],
            "text/latex": "\\begin{enumerate*}\n\\item <NA>\n\\item <NA>\n\\item <NA>\n\\item <NA>\n\\item <NA>\n\\item <NA>\n\\item <NA>\n\\item <NA>\n\\item <NA>\n\\item <NA>\n\\item <NA>\n\\item <NA>\n\\item <NA>\n\\item <NA>\n\\item <NA>\n\\item <NA>\n\\item <NA>\n\\item <NA>\n\\item <NA>\n\\item <NA>\n\\item <NA>\n\\item <NA>\n\\item <NA>\n\\item <NA>\n\\item <NA>\n\\item <NA>\n\\item <NA>\n\\item <NA>\n\\item <NA>\n\\item <NA>\n\\item <NA>\n\\item <NA>\n\\item <NA>\n\\item <NA>\n\\item <NA>\n\\item <NA>\n\\item <NA>\n\\item <NA>\n\\item <NA>\n\\item <NA>\n\\item <NA>\n\\item <NA>\n\\item <NA>\n\\item <NA>\n\\item <NA>\n\\item <NA>\n\\item <NA>\n\\item <NA>\n\\item <NA>\n\\item <NA>\n\\item <NA>\n\\item <NA>\n\\item <NA>\n\\item <NA>\n\\item <NA>\n\\item <NA>\n\\item <NA>\n\\item <NA>\n\\item <NA>\n\\item <NA>\n\\item <NA>\n\\item <NA>\n\\item <NA>\n\\item <NA>\n\\item <NA>\n\\item <NA>\n\\item <NA>\n\\item <NA>\n\\item <NA>\n\\item <NA>\n\\item <NA>\n\\item <NA>\n\\item <NA>\n\\item <NA>\n\\item <NA>\n\\item <NA>\n\\item <NA>\n\\item <NA>\n\\item <NA>\n\\item <NA>\n\\item <NA>\n\\item <NA>\n\\item <NA>\n\\item <NA>\n\\item <NA>\n\\item <NA>\n\\item <NA>\n\\item <NA>\n\\item <NA>\n\\item <NA>\n\\item <NA>\n\\item <NA>\n\\item <NA>\n\\item <NA>\n\\item <NA>\n\\item <NA>\n\\item <NA>\n\\item <NA>\n\\item <NA>\n\\item <NA>\n\\item <NA>\n\\item <NA>\n\\item <NA>\n\\item <NA>\n\\item <NA>\n\\item <NA>\n\\item <NA>\n\\item <NA>\n\\item <NA>\n\\item <NA>\n\\item <NA>\n\\item <NA>\n\\item <NA>\n\\item <NA>\n\\item <NA>\n\\item <NA>\n\\item <NA>\n\\item <NA>\n\\item <NA>\n\\item <NA>\n\\item <NA>\n\\item <NA>\n\\item <NA>\n\\item <NA>\n\\item <NA>\n\\item <NA>\n\\item <NA>\n\\item <NA>\n\\item <NA>\n\\item <NA>\n\\item <NA>\n\\item <NA>\n\\item <NA>\n\\item <NA>\n\\item <NA>\n\\item <NA>\n\\item <NA>\n\\item <NA>\n\\item <NA>\n\\item <NA>\n\\item <NA>\n\\item <NA>\n\\item <NA>\n\\item <NA>\n\\item <NA>\n\\item <NA>\n\\item <NA>\n\\item <NA>\n\\item <NA>\n\\item <NA>\n\\item <NA>\n\\item <NA>\n\\item <NA>\n\\item <NA>\n\\item <NA>\n\\item <NA>\n\\item <NA>\n\\item <NA>\n\\item <NA>\n\\item <NA>\n\\item <NA>\n\\item <NA>\n\\item <NA>\n\\item <NA>\n\\item <NA>\n\\item <NA>\n\\item <NA>\n\\item <NA>\n\\item <NA>\n\\item <NA>\n\\item <NA>\n\\item <NA>\n\\item <NA>\n\\item <NA>\n\\item <NA>\n\\item <NA>\n\\item <NA>\n\\item <NA>\n\\item <NA>\n\\item <NA>\n\\item <NA>\n\\item <NA>\n\\item <NA>\n\\item <NA>\n\\item <NA>\n\\item <NA>\n\\item <NA>\n\\item <NA>\n\\item <NA>\n\\item <NA>\n\\item <NA>\n\\item <NA>\n\\item <NA>\n\\item <NA>\n\\item <NA>\n\\item <NA>\n\\item <NA>\n\\item <NA>\n\\item <NA>\n\\item <NA>\n\\item ⋯\n\\item <NA>\n\\item <NA>\n\\item <NA>\n\\item <NA>\n\\item <NA>\n\\item <NA>\n\\item <NA>\n\\item <NA>\n\\item <NA>\n\\item <NA>\n\\item <NA>\n\\item <NA>\n\\item <NA>\n\\item <NA>\n\\item <NA>\n\\item <NA>\n\\item <NA>\n\\item <NA>\n\\item <NA>\n\\item <NA>\n\\item <NA>\n\\item <NA>\n\\item <NA>\n\\item <NA>\n\\item <NA>\n\\item <NA>\n\\item <NA>\n\\item <NA>\n\\item <NA>\n\\item <NA>\n\\item <NA>\n\\item <NA>\n\\item <NA>\n\\item <NA>\n\\item <NA>\n\\item <NA>\n\\item <NA>\n\\item <NA>\n\\item <NA>\n\\item <NA>\n\\item <NA>\n\\item <NA>\n\\item <NA>\n\\item <NA>\n\\item <NA>\n\\item <NA>\n\\item <NA>\n\\item <NA>\n\\item <NA>\n\\item <NA>\n\\item <NA>\n\\item <NA>\n\\item <NA>\n\\item <NA>\n\\item <NA>\n\\item <NA>\n\\item <NA>\n\\item <NA>\n\\item <NA>\n\\item <NA>\n\\item <NA>\n\\item <NA>\n\\item <NA>\n\\item <NA>\n\\item <NA>\n\\item <NA>\n\\item <NA>\n\\item <NA>\n\\item <NA>\n\\item <NA>\n\\item <NA>\n\\item <NA>\n\\item <NA>\n\\item <NA>\n\\item <NA>\n\\item <NA>\n\\item <NA>\n\\item <NA>\n\\item <NA>\n\\item <NA>\n\\item <NA>\n\\item <NA>\n\\item <NA>\n\\item <NA>\n\\item <NA>\n\\item <NA>\n\\item <NA>\n\\item <NA>\n\\item <NA>\n\\item <NA>\n\\item <NA>\n\\item <NA>\n\\item <NA>\n\\item <NA>\n\\item <NA>\n\\item <NA>\n\\item <NA>\n\\item <NA>\n\\item <NA>\n\\item <NA>\n\\item <NA>\n\\item <NA>\n\\item <NA>\n\\item <NA>\n\\item <NA>\n\\item <NA>\n\\item <NA>\n\\item <NA>\n\\item <NA>\n\\item <NA>\n\\item <NA>\n\\item <NA>\n\\item <NA>\n\\item <NA>\n\\item <NA>\n\\item <NA>\n\\item <NA>\n\\item <NA>\n\\item <NA>\n\\item <NA>\n\\item <NA>\n\\item <NA>\n\\item <NA>\n\\item <NA>\n\\item <NA>\n\\item <NA>\n\\item <NA>\n\\item <NA>\n\\item <NA>\n\\item <NA>\n\\item <NA>\n\\item <NA>\n\\item <NA>\n\\item <NA>\n\\item <NA>\n\\item <NA>\n\\item <NA>\n\\item <NA>\n\\item <NA>\n\\item <NA>\n\\item <NA>\n\\item <NA>\n\\item <NA>\n\\item <NA>\n\\item <NA>\n\\item <NA>\n\\item <NA>\n\\item <NA>\n\\item <NA>\n\\item <NA>\n\\item <NA>\n\\item <NA>\n\\item <NA>\n\\item <NA>\n\\item <NA>\n\\item <NA>\n\\item <NA>\n\\item <NA>\n\\item <NA>\n\\item <NA>\n\\item <NA>\n\\item <NA>\n\\item <NA>\n\\item <NA>\n\\item <NA>\n\\item <NA>\n\\item <NA>\n\\item <NA>\n\\item <NA>\n\\item <NA>\n\\item <NA>\n\\item <NA>\n\\item <NA>\n\\item <NA>\n\\item <NA>\n\\item <NA>\n\\item <NA>\n\\item <NA>\n\\item <NA>\n\\item <NA>\n\\item <NA>\n\\item <NA>\n\\item <NA>\n\\item <NA>\n\\item <NA>\n\\item <NA>\n\\item <NA>\n\\item <NA>\n\\item <NA>\n\\item <NA>\n\\item <NA>\n\\item <NA>\n\\item <NA>\n\\item <NA>\n\\item <NA>\n\\item <NA>\n\\item <NA>\n\\item <NA>\n\\item <NA>\n\\item <NA>\n\\end{enumerate*}\n\n\\emph{Levels}: \\begin{enumerate*}\n\\item '0'\n\\item '1'\n\\end{enumerate*}\n",
            "text/markdown": "1. &lt;NA&gt;\n2. &lt;NA&gt;\n3. &lt;NA&gt;\n4. &lt;NA&gt;\n5. &lt;NA&gt;\n6. &lt;NA&gt;\n7. &lt;NA&gt;\n8. &lt;NA&gt;\n9. &lt;NA&gt;\n10. &lt;NA&gt;\n11. &lt;NA&gt;\n12. &lt;NA&gt;\n13. &lt;NA&gt;\n14. &lt;NA&gt;\n15. &lt;NA&gt;\n16. &lt;NA&gt;\n17. &lt;NA&gt;\n18. &lt;NA&gt;\n19. &lt;NA&gt;\n20. &lt;NA&gt;\n21. &lt;NA&gt;\n22. &lt;NA&gt;\n23. &lt;NA&gt;\n24. &lt;NA&gt;\n25. &lt;NA&gt;\n26. &lt;NA&gt;\n27. &lt;NA&gt;\n28. &lt;NA&gt;\n29. &lt;NA&gt;\n30. &lt;NA&gt;\n31. &lt;NA&gt;\n32. &lt;NA&gt;\n33. &lt;NA&gt;\n34. &lt;NA&gt;\n35. &lt;NA&gt;\n36. &lt;NA&gt;\n37. &lt;NA&gt;\n38. &lt;NA&gt;\n39. &lt;NA&gt;\n40. &lt;NA&gt;\n41. &lt;NA&gt;\n42. &lt;NA&gt;\n43. &lt;NA&gt;\n44. &lt;NA&gt;\n45. &lt;NA&gt;\n46. &lt;NA&gt;\n47. &lt;NA&gt;\n48. &lt;NA&gt;\n49. &lt;NA&gt;\n50. &lt;NA&gt;\n51. &lt;NA&gt;\n52. &lt;NA&gt;\n53. &lt;NA&gt;\n54. &lt;NA&gt;\n55. &lt;NA&gt;\n56. &lt;NA&gt;\n57. &lt;NA&gt;\n58. &lt;NA&gt;\n59. &lt;NA&gt;\n60. &lt;NA&gt;\n61. &lt;NA&gt;\n62. &lt;NA&gt;\n63. &lt;NA&gt;\n64. &lt;NA&gt;\n65. &lt;NA&gt;\n66. &lt;NA&gt;\n67. &lt;NA&gt;\n68. &lt;NA&gt;\n69. &lt;NA&gt;\n70. &lt;NA&gt;\n71. &lt;NA&gt;\n72. &lt;NA&gt;\n73. &lt;NA&gt;\n74. &lt;NA&gt;\n75. &lt;NA&gt;\n76. &lt;NA&gt;\n77. &lt;NA&gt;\n78. &lt;NA&gt;\n79. &lt;NA&gt;\n80. &lt;NA&gt;\n81. &lt;NA&gt;\n82. &lt;NA&gt;\n83. &lt;NA&gt;\n84. &lt;NA&gt;\n85. &lt;NA&gt;\n86. &lt;NA&gt;\n87. &lt;NA&gt;\n88. &lt;NA&gt;\n89. &lt;NA&gt;\n90. &lt;NA&gt;\n91. &lt;NA&gt;\n92. &lt;NA&gt;\n93. &lt;NA&gt;\n94. &lt;NA&gt;\n95. &lt;NA&gt;\n96. &lt;NA&gt;\n97. &lt;NA&gt;\n98. &lt;NA&gt;\n99. &lt;NA&gt;\n100. &lt;NA&gt;\n101. &lt;NA&gt;\n102. &lt;NA&gt;\n103. &lt;NA&gt;\n104. &lt;NA&gt;\n105. &lt;NA&gt;\n106. &lt;NA&gt;\n107. &lt;NA&gt;\n108. &lt;NA&gt;\n109. &lt;NA&gt;\n110. &lt;NA&gt;\n111. &lt;NA&gt;\n112. &lt;NA&gt;\n113. &lt;NA&gt;\n114. &lt;NA&gt;\n115. &lt;NA&gt;\n116. &lt;NA&gt;\n117. &lt;NA&gt;\n118. &lt;NA&gt;\n119. &lt;NA&gt;\n120. &lt;NA&gt;\n121. &lt;NA&gt;\n122. &lt;NA&gt;\n123. &lt;NA&gt;\n124. &lt;NA&gt;\n125. &lt;NA&gt;\n126. &lt;NA&gt;\n127. &lt;NA&gt;\n128. &lt;NA&gt;\n129. &lt;NA&gt;\n130. &lt;NA&gt;\n131. &lt;NA&gt;\n132. &lt;NA&gt;\n133. &lt;NA&gt;\n134. &lt;NA&gt;\n135. &lt;NA&gt;\n136. &lt;NA&gt;\n137. &lt;NA&gt;\n138. &lt;NA&gt;\n139. &lt;NA&gt;\n140. &lt;NA&gt;\n141. &lt;NA&gt;\n142. &lt;NA&gt;\n143. &lt;NA&gt;\n144. &lt;NA&gt;\n145. &lt;NA&gt;\n146. &lt;NA&gt;\n147. &lt;NA&gt;\n148. &lt;NA&gt;\n149. &lt;NA&gt;\n150. &lt;NA&gt;\n151. &lt;NA&gt;\n152. &lt;NA&gt;\n153. &lt;NA&gt;\n154. &lt;NA&gt;\n155. &lt;NA&gt;\n156. &lt;NA&gt;\n157. &lt;NA&gt;\n158. &lt;NA&gt;\n159. &lt;NA&gt;\n160. &lt;NA&gt;\n161. &lt;NA&gt;\n162. &lt;NA&gt;\n163. &lt;NA&gt;\n164. &lt;NA&gt;\n165. &lt;NA&gt;\n166. &lt;NA&gt;\n167. &lt;NA&gt;\n168. &lt;NA&gt;\n169. &lt;NA&gt;\n170. &lt;NA&gt;\n171. &lt;NA&gt;\n172. &lt;NA&gt;\n173. &lt;NA&gt;\n174. &lt;NA&gt;\n175. &lt;NA&gt;\n176. &lt;NA&gt;\n177. &lt;NA&gt;\n178. &lt;NA&gt;\n179. &lt;NA&gt;\n180. &lt;NA&gt;\n181. &lt;NA&gt;\n182. &lt;NA&gt;\n183. &lt;NA&gt;\n184. &lt;NA&gt;\n185. &lt;NA&gt;\n186. &lt;NA&gt;\n187. &lt;NA&gt;\n188. &lt;NA&gt;\n189. &lt;NA&gt;\n190. &lt;NA&gt;\n191. &lt;NA&gt;\n192. &lt;NA&gt;\n193. &lt;NA&gt;\n194. &lt;NA&gt;\n195. &lt;NA&gt;\n196. &lt;NA&gt;\n197. &lt;NA&gt;\n198. &lt;NA&gt;\n199. &lt;NA&gt;\n200. &lt;NA&gt;\n201. ⋯\n202. &lt;NA&gt;\n203. &lt;NA&gt;\n204. &lt;NA&gt;\n205. &lt;NA&gt;\n206. &lt;NA&gt;\n207. &lt;NA&gt;\n208. &lt;NA&gt;\n209. &lt;NA&gt;\n210. &lt;NA&gt;\n211. &lt;NA&gt;\n212. &lt;NA&gt;\n213. &lt;NA&gt;\n214. &lt;NA&gt;\n215. &lt;NA&gt;\n216. &lt;NA&gt;\n217. &lt;NA&gt;\n218. &lt;NA&gt;\n219. &lt;NA&gt;\n220. &lt;NA&gt;\n221. &lt;NA&gt;\n222. &lt;NA&gt;\n223. &lt;NA&gt;\n224. &lt;NA&gt;\n225. &lt;NA&gt;\n226. &lt;NA&gt;\n227. &lt;NA&gt;\n228. &lt;NA&gt;\n229. &lt;NA&gt;\n230. &lt;NA&gt;\n231. &lt;NA&gt;\n232. &lt;NA&gt;\n233. &lt;NA&gt;\n234. &lt;NA&gt;\n235. &lt;NA&gt;\n236. &lt;NA&gt;\n237. &lt;NA&gt;\n238. &lt;NA&gt;\n239. &lt;NA&gt;\n240. &lt;NA&gt;\n241. &lt;NA&gt;\n242. &lt;NA&gt;\n243. &lt;NA&gt;\n244. &lt;NA&gt;\n245. &lt;NA&gt;\n246. &lt;NA&gt;\n247. &lt;NA&gt;\n248. &lt;NA&gt;\n249. &lt;NA&gt;\n250. &lt;NA&gt;\n251. &lt;NA&gt;\n252. &lt;NA&gt;\n253. &lt;NA&gt;\n254. &lt;NA&gt;\n255. &lt;NA&gt;\n256. &lt;NA&gt;\n257. &lt;NA&gt;\n258. &lt;NA&gt;\n259. &lt;NA&gt;\n260. &lt;NA&gt;\n261. &lt;NA&gt;\n262. &lt;NA&gt;\n263. &lt;NA&gt;\n264. &lt;NA&gt;\n265. &lt;NA&gt;\n266. &lt;NA&gt;\n267. &lt;NA&gt;\n268. &lt;NA&gt;\n269. &lt;NA&gt;\n270. &lt;NA&gt;\n271. &lt;NA&gt;\n272. &lt;NA&gt;\n273. &lt;NA&gt;\n274. &lt;NA&gt;\n275. &lt;NA&gt;\n276. &lt;NA&gt;\n277. &lt;NA&gt;\n278. &lt;NA&gt;\n279. &lt;NA&gt;\n280. &lt;NA&gt;\n281. &lt;NA&gt;\n282. &lt;NA&gt;\n283. &lt;NA&gt;\n284. &lt;NA&gt;\n285. &lt;NA&gt;\n286. &lt;NA&gt;\n287. &lt;NA&gt;\n288. &lt;NA&gt;\n289. &lt;NA&gt;\n290. &lt;NA&gt;\n291. &lt;NA&gt;\n292. &lt;NA&gt;\n293. &lt;NA&gt;\n294. &lt;NA&gt;\n295. &lt;NA&gt;\n296. &lt;NA&gt;\n297. &lt;NA&gt;\n298. &lt;NA&gt;\n299. &lt;NA&gt;\n300. &lt;NA&gt;\n301. &lt;NA&gt;\n302. &lt;NA&gt;\n303. &lt;NA&gt;\n304. &lt;NA&gt;\n305. &lt;NA&gt;\n306. &lt;NA&gt;\n307. &lt;NA&gt;\n308. &lt;NA&gt;\n309. &lt;NA&gt;\n310. &lt;NA&gt;\n311. &lt;NA&gt;\n312. &lt;NA&gt;\n313. &lt;NA&gt;\n314. &lt;NA&gt;\n315. &lt;NA&gt;\n316. &lt;NA&gt;\n317. &lt;NA&gt;\n318. &lt;NA&gt;\n319. &lt;NA&gt;\n320. &lt;NA&gt;\n321. &lt;NA&gt;\n322. &lt;NA&gt;\n323. &lt;NA&gt;\n324. &lt;NA&gt;\n325. &lt;NA&gt;\n326. &lt;NA&gt;\n327. &lt;NA&gt;\n328. &lt;NA&gt;\n329. &lt;NA&gt;\n330. &lt;NA&gt;\n331. &lt;NA&gt;\n332. &lt;NA&gt;\n333. &lt;NA&gt;\n334. &lt;NA&gt;\n335. &lt;NA&gt;\n336. &lt;NA&gt;\n337. &lt;NA&gt;\n338. &lt;NA&gt;\n339. &lt;NA&gt;\n340. &lt;NA&gt;\n341. &lt;NA&gt;\n342. &lt;NA&gt;\n343. &lt;NA&gt;\n344. &lt;NA&gt;\n345. &lt;NA&gt;\n346. &lt;NA&gt;\n347. &lt;NA&gt;\n348. &lt;NA&gt;\n349. &lt;NA&gt;\n350. &lt;NA&gt;\n351. &lt;NA&gt;\n352. &lt;NA&gt;\n353. &lt;NA&gt;\n354. &lt;NA&gt;\n355. &lt;NA&gt;\n356. &lt;NA&gt;\n357. &lt;NA&gt;\n358. &lt;NA&gt;\n359. &lt;NA&gt;\n360. &lt;NA&gt;\n361. &lt;NA&gt;\n362. &lt;NA&gt;\n363. &lt;NA&gt;\n364. &lt;NA&gt;\n365. &lt;NA&gt;\n366. &lt;NA&gt;\n367. &lt;NA&gt;\n368. &lt;NA&gt;\n369. &lt;NA&gt;\n370. &lt;NA&gt;\n371. &lt;NA&gt;\n372. &lt;NA&gt;\n373. &lt;NA&gt;\n374. &lt;NA&gt;\n375. &lt;NA&gt;\n376. &lt;NA&gt;\n377. &lt;NA&gt;\n378. &lt;NA&gt;\n379. &lt;NA&gt;\n380. &lt;NA&gt;\n381. &lt;NA&gt;\n382. &lt;NA&gt;\n383. &lt;NA&gt;\n384. &lt;NA&gt;\n385. &lt;NA&gt;\n386. &lt;NA&gt;\n387. &lt;NA&gt;\n388. &lt;NA&gt;\n389. &lt;NA&gt;\n390. &lt;NA&gt;\n391. &lt;NA&gt;\n392. &lt;NA&gt;\n393. &lt;NA&gt;\n394. &lt;NA&gt;\n395. &lt;NA&gt;\n396. &lt;NA&gt;\n397. &lt;NA&gt;\n398. &lt;NA&gt;\n399. &lt;NA&gt;\n400. &lt;NA&gt;\n401. &lt;NA&gt;\n\n\n\n**Levels**: 1. '0'\n2. '1'\n\n\n",
            "text/html": [
              "<style>\n",
              ".list-inline {list-style: none; margin:0; padding: 0}\n",
              ".list-inline>li {display: inline-block}\n",
              ".list-inline>li:not(:last-child)::after {content: \"\\00b7\"; padding: 0 .5ex}\n",
              "</style>\n",
              "<ol class=list-inline><li>&lt;NA&gt;</li><li>&lt;NA&gt;</li><li>&lt;NA&gt;</li><li>&lt;NA&gt;</li><li>&lt;NA&gt;</li><li>&lt;NA&gt;</li><li>&lt;NA&gt;</li><li>&lt;NA&gt;</li><li>&lt;NA&gt;</li><li>&lt;NA&gt;</li><li>&lt;NA&gt;</li><li>&lt;NA&gt;</li><li>&lt;NA&gt;</li><li>&lt;NA&gt;</li><li>&lt;NA&gt;</li><li>&lt;NA&gt;</li><li>&lt;NA&gt;</li><li>&lt;NA&gt;</li><li>&lt;NA&gt;</li><li>&lt;NA&gt;</li><li>&lt;NA&gt;</li><li>&lt;NA&gt;</li><li>&lt;NA&gt;</li><li>&lt;NA&gt;</li><li>&lt;NA&gt;</li><li>&lt;NA&gt;</li><li>&lt;NA&gt;</li><li>&lt;NA&gt;</li><li>&lt;NA&gt;</li><li>&lt;NA&gt;</li><li>&lt;NA&gt;</li><li>&lt;NA&gt;</li><li>&lt;NA&gt;</li><li>&lt;NA&gt;</li><li>&lt;NA&gt;</li><li>&lt;NA&gt;</li><li>&lt;NA&gt;</li><li>&lt;NA&gt;</li><li>&lt;NA&gt;</li><li>&lt;NA&gt;</li><li>&lt;NA&gt;</li><li>&lt;NA&gt;</li><li>&lt;NA&gt;</li><li>&lt;NA&gt;</li><li>&lt;NA&gt;</li><li>&lt;NA&gt;</li><li>&lt;NA&gt;</li><li>&lt;NA&gt;</li><li>&lt;NA&gt;</li><li>&lt;NA&gt;</li><li>&lt;NA&gt;</li><li>&lt;NA&gt;</li><li>&lt;NA&gt;</li><li>&lt;NA&gt;</li><li>&lt;NA&gt;</li><li>&lt;NA&gt;</li><li>&lt;NA&gt;</li><li>&lt;NA&gt;</li><li>&lt;NA&gt;</li><li>&lt;NA&gt;</li><li>&lt;NA&gt;</li><li>&lt;NA&gt;</li><li>&lt;NA&gt;</li><li>&lt;NA&gt;</li><li>&lt;NA&gt;</li><li>&lt;NA&gt;</li><li>&lt;NA&gt;</li><li>&lt;NA&gt;</li><li>&lt;NA&gt;</li><li>&lt;NA&gt;</li><li>&lt;NA&gt;</li><li>&lt;NA&gt;</li><li>&lt;NA&gt;</li><li>&lt;NA&gt;</li><li>&lt;NA&gt;</li><li>&lt;NA&gt;</li><li>&lt;NA&gt;</li><li>&lt;NA&gt;</li><li>&lt;NA&gt;</li><li>&lt;NA&gt;</li><li>&lt;NA&gt;</li><li>&lt;NA&gt;</li><li>&lt;NA&gt;</li><li>&lt;NA&gt;</li><li>&lt;NA&gt;</li><li>&lt;NA&gt;</li><li>&lt;NA&gt;</li><li>&lt;NA&gt;</li><li>&lt;NA&gt;</li><li>&lt;NA&gt;</li><li>&lt;NA&gt;</li><li>&lt;NA&gt;</li><li>&lt;NA&gt;</li><li>&lt;NA&gt;</li><li>&lt;NA&gt;</li><li>&lt;NA&gt;</li><li>&lt;NA&gt;</li><li>&lt;NA&gt;</li><li>&lt;NA&gt;</li><li>&lt;NA&gt;</li><li>&lt;NA&gt;</li><li>&lt;NA&gt;</li><li>&lt;NA&gt;</li><li>&lt;NA&gt;</li><li>&lt;NA&gt;</li><li>&lt;NA&gt;</li><li>&lt;NA&gt;</li><li>&lt;NA&gt;</li><li>&lt;NA&gt;</li><li>&lt;NA&gt;</li><li>&lt;NA&gt;</li><li>&lt;NA&gt;</li><li>&lt;NA&gt;</li><li>&lt;NA&gt;</li><li>&lt;NA&gt;</li><li>&lt;NA&gt;</li><li>&lt;NA&gt;</li><li>&lt;NA&gt;</li><li>&lt;NA&gt;</li><li>&lt;NA&gt;</li><li>&lt;NA&gt;</li><li>&lt;NA&gt;</li><li>&lt;NA&gt;</li><li>&lt;NA&gt;</li><li>&lt;NA&gt;</li><li>&lt;NA&gt;</li><li>&lt;NA&gt;</li><li>&lt;NA&gt;</li><li>&lt;NA&gt;</li><li>&lt;NA&gt;</li><li>&lt;NA&gt;</li><li>&lt;NA&gt;</li><li>&lt;NA&gt;</li><li>&lt;NA&gt;</li><li>&lt;NA&gt;</li><li>&lt;NA&gt;</li><li>&lt;NA&gt;</li><li>&lt;NA&gt;</li><li>&lt;NA&gt;</li><li>&lt;NA&gt;</li><li>&lt;NA&gt;</li><li>&lt;NA&gt;</li><li>&lt;NA&gt;</li><li>&lt;NA&gt;</li><li>&lt;NA&gt;</li><li>&lt;NA&gt;</li><li>&lt;NA&gt;</li><li>&lt;NA&gt;</li><li>&lt;NA&gt;</li><li>&lt;NA&gt;</li><li>&lt;NA&gt;</li><li>&lt;NA&gt;</li><li>&lt;NA&gt;</li><li>&lt;NA&gt;</li><li>&lt;NA&gt;</li><li>&lt;NA&gt;</li><li>&lt;NA&gt;</li><li>&lt;NA&gt;</li><li>&lt;NA&gt;</li><li>&lt;NA&gt;</li><li>&lt;NA&gt;</li><li>&lt;NA&gt;</li><li>&lt;NA&gt;</li><li>&lt;NA&gt;</li><li>&lt;NA&gt;</li><li>&lt;NA&gt;</li><li>&lt;NA&gt;</li><li>&lt;NA&gt;</li><li>&lt;NA&gt;</li><li>&lt;NA&gt;</li><li>&lt;NA&gt;</li><li>&lt;NA&gt;</li><li>&lt;NA&gt;</li><li>&lt;NA&gt;</li><li>&lt;NA&gt;</li><li>&lt;NA&gt;</li><li>&lt;NA&gt;</li><li>&lt;NA&gt;</li><li>&lt;NA&gt;</li><li>&lt;NA&gt;</li><li>&lt;NA&gt;</li><li>&lt;NA&gt;</li><li>&lt;NA&gt;</li><li>&lt;NA&gt;</li><li>&lt;NA&gt;</li><li>&lt;NA&gt;</li><li>&lt;NA&gt;</li><li>&lt;NA&gt;</li><li>&lt;NA&gt;</li><li>&lt;NA&gt;</li><li>&lt;NA&gt;</li><li>&lt;NA&gt;</li><li>&lt;NA&gt;</li><li>&lt;NA&gt;</li><li>&lt;NA&gt;</li><li>&lt;NA&gt;</li><li>&lt;NA&gt;</li><li>&lt;NA&gt;</li><li>&lt;NA&gt;</li><li>&lt;NA&gt;</li><li>⋯</li><li>&lt;NA&gt;</li><li>&lt;NA&gt;</li><li>&lt;NA&gt;</li><li>&lt;NA&gt;</li><li>&lt;NA&gt;</li><li>&lt;NA&gt;</li><li>&lt;NA&gt;</li><li>&lt;NA&gt;</li><li>&lt;NA&gt;</li><li>&lt;NA&gt;</li><li>&lt;NA&gt;</li><li>&lt;NA&gt;</li><li>&lt;NA&gt;</li><li>&lt;NA&gt;</li><li>&lt;NA&gt;</li><li>&lt;NA&gt;</li><li>&lt;NA&gt;</li><li>&lt;NA&gt;</li><li>&lt;NA&gt;</li><li>&lt;NA&gt;</li><li>&lt;NA&gt;</li><li>&lt;NA&gt;</li><li>&lt;NA&gt;</li><li>&lt;NA&gt;</li><li>&lt;NA&gt;</li><li>&lt;NA&gt;</li><li>&lt;NA&gt;</li><li>&lt;NA&gt;</li><li>&lt;NA&gt;</li><li>&lt;NA&gt;</li><li>&lt;NA&gt;</li><li>&lt;NA&gt;</li><li>&lt;NA&gt;</li><li>&lt;NA&gt;</li><li>&lt;NA&gt;</li><li>&lt;NA&gt;</li><li>&lt;NA&gt;</li><li>&lt;NA&gt;</li><li>&lt;NA&gt;</li><li>&lt;NA&gt;</li><li>&lt;NA&gt;</li><li>&lt;NA&gt;</li><li>&lt;NA&gt;</li><li>&lt;NA&gt;</li><li>&lt;NA&gt;</li><li>&lt;NA&gt;</li><li>&lt;NA&gt;</li><li>&lt;NA&gt;</li><li>&lt;NA&gt;</li><li>&lt;NA&gt;</li><li>&lt;NA&gt;</li><li>&lt;NA&gt;</li><li>&lt;NA&gt;</li><li>&lt;NA&gt;</li><li>&lt;NA&gt;</li><li>&lt;NA&gt;</li><li>&lt;NA&gt;</li><li>&lt;NA&gt;</li><li>&lt;NA&gt;</li><li>&lt;NA&gt;</li><li>&lt;NA&gt;</li><li>&lt;NA&gt;</li><li>&lt;NA&gt;</li><li>&lt;NA&gt;</li><li>&lt;NA&gt;</li><li>&lt;NA&gt;</li><li>&lt;NA&gt;</li><li>&lt;NA&gt;</li><li>&lt;NA&gt;</li><li>&lt;NA&gt;</li><li>&lt;NA&gt;</li><li>&lt;NA&gt;</li><li>&lt;NA&gt;</li><li>&lt;NA&gt;</li><li>&lt;NA&gt;</li><li>&lt;NA&gt;</li><li>&lt;NA&gt;</li><li>&lt;NA&gt;</li><li>&lt;NA&gt;</li><li>&lt;NA&gt;</li><li>&lt;NA&gt;</li><li>&lt;NA&gt;</li><li>&lt;NA&gt;</li><li>&lt;NA&gt;</li><li>&lt;NA&gt;</li><li>&lt;NA&gt;</li><li>&lt;NA&gt;</li><li>&lt;NA&gt;</li><li>&lt;NA&gt;</li><li>&lt;NA&gt;</li><li>&lt;NA&gt;</li><li>&lt;NA&gt;</li><li>&lt;NA&gt;</li><li>&lt;NA&gt;</li><li>&lt;NA&gt;</li><li>&lt;NA&gt;</li><li>&lt;NA&gt;</li><li>&lt;NA&gt;</li><li>&lt;NA&gt;</li><li>&lt;NA&gt;</li><li>&lt;NA&gt;</li><li>&lt;NA&gt;</li><li>&lt;NA&gt;</li><li>&lt;NA&gt;</li><li>&lt;NA&gt;</li><li>&lt;NA&gt;</li><li>&lt;NA&gt;</li><li>&lt;NA&gt;</li><li>&lt;NA&gt;</li><li>&lt;NA&gt;</li><li>&lt;NA&gt;</li><li>&lt;NA&gt;</li><li>&lt;NA&gt;</li><li>&lt;NA&gt;</li><li>&lt;NA&gt;</li><li>&lt;NA&gt;</li><li>&lt;NA&gt;</li><li>&lt;NA&gt;</li><li>&lt;NA&gt;</li><li>&lt;NA&gt;</li><li>&lt;NA&gt;</li><li>&lt;NA&gt;</li><li>&lt;NA&gt;</li><li>&lt;NA&gt;</li><li>&lt;NA&gt;</li><li>&lt;NA&gt;</li><li>&lt;NA&gt;</li><li>&lt;NA&gt;</li><li>&lt;NA&gt;</li><li>&lt;NA&gt;</li><li>&lt;NA&gt;</li><li>&lt;NA&gt;</li><li>&lt;NA&gt;</li><li>&lt;NA&gt;</li><li>&lt;NA&gt;</li><li>&lt;NA&gt;</li><li>&lt;NA&gt;</li><li>&lt;NA&gt;</li><li>&lt;NA&gt;</li><li>&lt;NA&gt;</li><li>&lt;NA&gt;</li><li>&lt;NA&gt;</li><li>&lt;NA&gt;</li><li>&lt;NA&gt;</li><li>&lt;NA&gt;</li><li>&lt;NA&gt;</li><li>&lt;NA&gt;</li><li>&lt;NA&gt;</li><li>&lt;NA&gt;</li><li>&lt;NA&gt;</li><li>&lt;NA&gt;</li><li>&lt;NA&gt;</li><li>&lt;NA&gt;</li><li>&lt;NA&gt;</li><li>&lt;NA&gt;</li><li>&lt;NA&gt;</li><li>&lt;NA&gt;</li><li>&lt;NA&gt;</li><li>&lt;NA&gt;</li><li>&lt;NA&gt;</li><li>&lt;NA&gt;</li><li>&lt;NA&gt;</li><li>&lt;NA&gt;</li><li>&lt;NA&gt;</li><li>&lt;NA&gt;</li><li>&lt;NA&gt;</li><li>&lt;NA&gt;</li><li>&lt;NA&gt;</li><li>&lt;NA&gt;</li><li>&lt;NA&gt;</li><li>&lt;NA&gt;</li><li>&lt;NA&gt;</li><li>&lt;NA&gt;</li><li>&lt;NA&gt;</li><li>&lt;NA&gt;</li><li>&lt;NA&gt;</li><li>&lt;NA&gt;</li><li>&lt;NA&gt;</li><li>&lt;NA&gt;</li><li>&lt;NA&gt;</li><li>&lt;NA&gt;</li><li>&lt;NA&gt;</li><li>&lt;NA&gt;</li><li>&lt;NA&gt;</li><li>&lt;NA&gt;</li><li>&lt;NA&gt;</li><li>&lt;NA&gt;</li><li>&lt;NA&gt;</li><li>&lt;NA&gt;</li><li>&lt;NA&gt;</li><li>&lt;NA&gt;</li><li>&lt;NA&gt;</li><li>&lt;NA&gt;</li><li>&lt;NA&gt;</li><li>&lt;NA&gt;</li><li>&lt;NA&gt;</li><li>&lt;NA&gt;</li><li>&lt;NA&gt;</li><li>&lt;NA&gt;</li><li>&lt;NA&gt;</li></ol>\n",
              "\n",
              "<details>\n",
              "\t<summary style=display:list-item;cursor:pointer>\n",
              "\t\t<strong>Levels</strong>:\n",
              "\t</summary>\n",
              "\t<style>\n",
              "\t.list-inline {list-style: none; margin:0; padding: 0}\n",
              "\t.list-inline>li {display: inline-block}\n",
              "\t.list-inline>li:not(:last-child)::after {content: \"\\00b7\"; padding: 0 .5ex}\n",
              "\t</style>\n",
              "\t<ol class=list-inline><li>'0'</li><li>'1'</li></ol>\n",
              "</details>"
            ]
          },
          "metadata": {
            "tags": []
          }
        }
      ]
    },
    {
      "cell_type": "markdown",
      "metadata": {
        "id": "oHMq2yPpGZpZ"
      },
      "source": [
        "Since I replaced all NA's that needed to be replaced, I split the full data set back to it's original forms: one train set and one test set.  \n",
        "Now using the train set, I'm going to build a simple randomForest model and run the test data using the model."
      ]
    },
    {
      "cell_type": "code",
      "metadata": {
        "id": "57IcC9NgWwhn"
      },
      "source": [
        "#Building a predictive model \n",
        "eqtn <- \"Survived ~ Pclass + Sex + Age + SibSp + Parch + Fare + Embarked\"\n",
        "formula <- as.formula(eqtn)\n",
        "\n",
        "t_model <- randomForest(formula, t_train, ntree = 500, mtry = 3, nodesize = 0.01 * nrow(t_train))"
      ],
      "execution_count": 46,
      "outputs": []
    },
    {
      "cell_type": "markdown",
      "metadata": {
        "id": "fXAsLOA7GgV5"
      },
      "source": [
        "I should do the cross-validation here, but it takes me a very long time to figure things out on Kaggle, Google, and YouTube.  \n",
        "Like I said, I'm a beginner, and a lot of things just fly over my head, so I just wanted to skip that part and move on to running predicting test data using this model."
      ]
    },
    {
      "cell_type": "code",
      "metadata": {
        "colab": {
          "base_uri": "https://localhost:8080/",
          "height": 1000
        },
        "id": "ZhHCjQWUGjev",
        "outputId": "b76f317e-20a9-4725-a83a-e2d1f220cd71"
      },
      "source": [
        "# Final Result\n",
        "features_eqtn <- \"Pclass + Sex + Age + SibSp + Parch + Fare + Embarked\"\n",
        "Survived <- predict(t_model, newdata = t_test)\n",
        "\n",
        "PassengerId <- t_test$PassengerId\n",
        "final_df <- as.data.frame(PassengerId)\n",
        "final_df$Survived <- Survived\n",
        "\n",
        "final_df"
      ],
      "execution_count": 47,
      "outputs": [
        {
          "output_type": "display_data",
          "data": {
            "text/plain": [
              "    PassengerId Survived\n",
              "1   892         0       \n",
              "2   893         0       \n",
              "3   894         0       \n",
              "4   895         0       \n",
              "5   896         0       \n",
              "6   897         0       \n",
              "7   898         0       \n",
              "8   899         0       \n",
              "9   900         1       \n",
              "10  901         0       \n",
              "11  902         0       \n",
              "12  903         0       \n",
              "13  904         1       \n",
              "14  905         0       \n",
              "15  906         1       \n",
              "16  907         1       \n",
              "17  908         0       \n",
              "18  909         0       \n",
              "19  910         0       \n",
              "20  911         0       \n",
              "21  912         0       \n",
              "22  913         1       \n",
              "23  914         1       \n",
              "24  915         0       \n",
              "25  916         1       \n",
              "26  917         0       \n",
              "27  918         1       \n",
              "28  919         0       \n",
              "29  920         1       \n",
              "30  921         0       \n",
              "⋮   ⋮           ⋮       \n",
              "389 1280        0       \n",
              "390 1281        0       \n",
              "391 1282        0       \n",
              "392 1283        1       \n",
              "393 1284        0       \n",
              "394 1285        0       \n",
              "395 1286        0       \n",
              "396 1287        1       \n",
              "397 1288        0       \n",
              "398 1289        1       \n",
              "399 1290        0       \n",
              "400 1291        0       \n",
              "401 1292        1       \n",
              "402 1293        0       \n",
              "403 1294        1       \n",
              "404 1295        0       \n",
              "405 1296        0       \n",
              "406 1297        0       \n",
              "407 1298        0       \n",
              "408 1299        0       \n",
              "409 1300        1       \n",
              "410 1301        1       \n",
              "411 1302        1       \n",
              "412 1303        1       \n",
              "413 1304        0       \n",
              "414 1305        0       \n",
              "415 1306        1       \n",
              "416 1307        0       \n",
              "417 1308        0       \n",
              "418 1309        0       "
            ],
            "text/latex": "A data.frame: 418 × 2\n\\begin{tabular}{ll}\n PassengerId & Survived\\\\\n <dbl> & <fct>\\\\\n\\hline\n\t 892 & 0\\\\\n\t 893 & 0\\\\\n\t 894 & 0\\\\\n\t 895 & 0\\\\\n\t 896 & 0\\\\\n\t 897 & 0\\\\\n\t 898 & 0\\\\\n\t 899 & 0\\\\\n\t 900 & 1\\\\\n\t 901 & 0\\\\\n\t 902 & 0\\\\\n\t 903 & 0\\\\\n\t 904 & 1\\\\\n\t 905 & 0\\\\\n\t 906 & 1\\\\\n\t 907 & 1\\\\\n\t 908 & 0\\\\\n\t 909 & 0\\\\\n\t 910 & 0\\\\\n\t 911 & 0\\\\\n\t 912 & 0\\\\\n\t 913 & 1\\\\\n\t 914 & 1\\\\\n\t 915 & 0\\\\\n\t 916 & 1\\\\\n\t 917 & 0\\\\\n\t 918 & 1\\\\\n\t 919 & 0\\\\\n\t 920 & 1\\\\\n\t 921 & 0\\\\\n\t ⋮ & ⋮\\\\\n\t 1280 & 0\\\\\n\t 1281 & 0\\\\\n\t 1282 & 0\\\\\n\t 1283 & 1\\\\\n\t 1284 & 0\\\\\n\t 1285 & 0\\\\\n\t 1286 & 0\\\\\n\t 1287 & 1\\\\\n\t 1288 & 0\\\\\n\t 1289 & 1\\\\\n\t 1290 & 0\\\\\n\t 1291 & 0\\\\\n\t 1292 & 1\\\\\n\t 1293 & 0\\\\\n\t 1294 & 1\\\\\n\t 1295 & 0\\\\\n\t 1296 & 0\\\\\n\t 1297 & 0\\\\\n\t 1298 & 0\\\\\n\t 1299 & 0\\\\\n\t 1300 & 1\\\\\n\t 1301 & 1\\\\\n\t 1302 & 1\\\\\n\t 1303 & 1\\\\\n\t 1304 & 0\\\\\n\t 1305 & 0\\\\\n\t 1306 & 1\\\\\n\t 1307 & 0\\\\\n\t 1308 & 0\\\\\n\t 1309 & 0\\\\\n\\end{tabular}\n",
            "text/markdown": "\nA data.frame: 418 × 2\n\n| PassengerId &lt;dbl&gt; | Survived &lt;fct&gt; |\n|---|---|\n| 892 | 0 |\n| 893 | 0 |\n| 894 | 0 |\n| 895 | 0 |\n| 896 | 0 |\n| 897 | 0 |\n| 898 | 0 |\n| 899 | 0 |\n| 900 | 1 |\n| 901 | 0 |\n| 902 | 0 |\n| 903 | 0 |\n| 904 | 1 |\n| 905 | 0 |\n| 906 | 1 |\n| 907 | 1 |\n| 908 | 0 |\n| 909 | 0 |\n| 910 | 0 |\n| 911 | 0 |\n| 912 | 0 |\n| 913 | 1 |\n| 914 | 1 |\n| 915 | 0 |\n| 916 | 1 |\n| 917 | 0 |\n| 918 | 1 |\n| 919 | 0 |\n| 920 | 1 |\n| 921 | 0 |\n| ⋮ | ⋮ |\n| 1280 | 0 |\n| 1281 | 0 |\n| 1282 | 0 |\n| 1283 | 1 |\n| 1284 | 0 |\n| 1285 | 0 |\n| 1286 | 0 |\n| 1287 | 1 |\n| 1288 | 0 |\n| 1289 | 1 |\n| 1290 | 0 |\n| 1291 | 0 |\n| 1292 | 1 |\n| 1293 | 0 |\n| 1294 | 1 |\n| 1295 | 0 |\n| 1296 | 0 |\n| 1297 | 0 |\n| 1298 | 0 |\n| 1299 | 0 |\n| 1300 | 1 |\n| 1301 | 1 |\n| 1302 | 1 |\n| 1303 | 1 |\n| 1304 | 0 |\n| 1305 | 0 |\n| 1306 | 1 |\n| 1307 | 0 |\n| 1308 | 0 |\n| 1309 | 0 |\n\n",
            "text/html": [
              "<table class=\"dataframe\">\n",
              "<caption>A data.frame: 418 × 2</caption>\n",
              "<thead>\n",
              "\t<tr><th scope=col>PassengerId</th><th scope=col>Survived</th></tr>\n",
              "\t<tr><th scope=col>&lt;dbl&gt;</th><th scope=col>&lt;fct&gt;</th></tr>\n",
              "</thead>\n",
              "<tbody>\n",
              "\t<tr><td>892</td><td>0</td></tr>\n",
              "\t<tr><td>893</td><td>0</td></tr>\n",
              "\t<tr><td>894</td><td>0</td></tr>\n",
              "\t<tr><td>895</td><td>0</td></tr>\n",
              "\t<tr><td>896</td><td>0</td></tr>\n",
              "\t<tr><td>897</td><td>0</td></tr>\n",
              "\t<tr><td>898</td><td>0</td></tr>\n",
              "\t<tr><td>899</td><td>0</td></tr>\n",
              "\t<tr><td>900</td><td>1</td></tr>\n",
              "\t<tr><td>901</td><td>0</td></tr>\n",
              "\t<tr><td>902</td><td>0</td></tr>\n",
              "\t<tr><td>903</td><td>0</td></tr>\n",
              "\t<tr><td>904</td><td>1</td></tr>\n",
              "\t<tr><td>905</td><td>0</td></tr>\n",
              "\t<tr><td>906</td><td>1</td></tr>\n",
              "\t<tr><td>907</td><td>1</td></tr>\n",
              "\t<tr><td>908</td><td>0</td></tr>\n",
              "\t<tr><td>909</td><td>0</td></tr>\n",
              "\t<tr><td>910</td><td>0</td></tr>\n",
              "\t<tr><td>911</td><td>0</td></tr>\n",
              "\t<tr><td>912</td><td>0</td></tr>\n",
              "\t<tr><td>913</td><td>1</td></tr>\n",
              "\t<tr><td>914</td><td>1</td></tr>\n",
              "\t<tr><td>915</td><td>0</td></tr>\n",
              "\t<tr><td>916</td><td>1</td></tr>\n",
              "\t<tr><td>917</td><td>0</td></tr>\n",
              "\t<tr><td>918</td><td>1</td></tr>\n",
              "\t<tr><td>919</td><td>0</td></tr>\n",
              "\t<tr><td>920</td><td>1</td></tr>\n",
              "\t<tr><td>921</td><td>0</td></tr>\n",
              "\t<tr><td>⋮</td><td>⋮</td></tr>\n",
              "\t<tr><td>1280</td><td>0</td></tr>\n",
              "\t<tr><td>1281</td><td>0</td></tr>\n",
              "\t<tr><td>1282</td><td>0</td></tr>\n",
              "\t<tr><td>1283</td><td>1</td></tr>\n",
              "\t<tr><td>1284</td><td>0</td></tr>\n",
              "\t<tr><td>1285</td><td>0</td></tr>\n",
              "\t<tr><td>1286</td><td>0</td></tr>\n",
              "\t<tr><td>1287</td><td>1</td></tr>\n",
              "\t<tr><td>1288</td><td>0</td></tr>\n",
              "\t<tr><td>1289</td><td>1</td></tr>\n",
              "\t<tr><td>1290</td><td>0</td></tr>\n",
              "\t<tr><td>1291</td><td>0</td></tr>\n",
              "\t<tr><td>1292</td><td>1</td></tr>\n",
              "\t<tr><td>1293</td><td>0</td></tr>\n",
              "\t<tr><td>1294</td><td>1</td></tr>\n",
              "\t<tr><td>1295</td><td>0</td></tr>\n",
              "\t<tr><td>1296</td><td>0</td></tr>\n",
              "\t<tr><td>1297</td><td>0</td></tr>\n",
              "\t<tr><td>1298</td><td>0</td></tr>\n",
              "\t<tr><td>1299</td><td>0</td></tr>\n",
              "\t<tr><td>1300</td><td>1</td></tr>\n",
              "\t<tr><td>1301</td><td>1</td></tr>\n",
              "\t<tr><td>1302</td><td>1</td></tr>\n",
              "\t<tr><td>1303</td><td>1</td></tr>\n",
              "\t<tr><td>1304</td><td>0</td></tr>\n",
              "\t<tr><td>1305</td><td>0</td></tr>\n",
              "\t<tr><td>1306</td><td>1</td></tr>\n",
              "\t<tr><td>1307</td><td>0</td></tr>\n",
              "\t<tr><td>1308</td><td>0</td></tr>\n",
              "\t<tr><td>1309</td><td>0</td></tr>\n",
              "</tbody>\n",
              "</table>\n"
            ]
          },
          "metadata": {
            "tags": []
          }
        }
      ]
    },
    {
      "cell_type": "markdown",
      "metadata": {
        "id": "8E3Ziz1AG6m2"
      },
      "source": [
        "0: Unfortunate ones  \n",
        "1: Fortunate ones"
      ]
    }
  ]
}